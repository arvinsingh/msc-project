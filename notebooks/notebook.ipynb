{
 "cells": [
  {
   "cell_type": "code",
   "execution_count": 1,
   "metadata": {},
   "outputs": [],
   "source": [
    "# force the notebook to auto reload external python modules | useful for development\n",
    "%load_ext autoreload\n",
    "%autoreload 2"
   ]
  },
  {
   "cell_type": "code",
   "execution_count": 3,
   "metadata": {},
   "outputs": [],
   "source": [
    "# imports\n",
    "import sys\n",
    "\n",
    "sys.path.append(\"..\\\\\")\n",
    "from src.data import MyDataset, AudioTripletDataset, LandmarkTripletDataset\n",
    "from src.features import TripletGenerator\n",
    "# from src.models import main\n",
    "\n",
    "import torch\n",
    "from torch.utils.data import random_split\n",
    "from torch.utils.data import DataLoader\n",
    "\n",
    "random_seed = 42"
   ]
  },
  {
   "cell_type": "code",
   "execution_count": 4,
   "metadata": {},
   "outputs": [],
   "source": [
    "# paths\n",
    "raw_data_path = \"..\\\\data\\\\raw\\\\\"\n",
    "processed_data_path = \"..\\\\data\\\\processed\\\\\""
   ]
  },
  {
   "cell_type": "markdown",
   "metadata": {},
   "source": [
    "---"
   ]
  },
  {
   "cell_type": "code",
   "execution_count": 5,
   "metadata": {},
   "outputs": [],
   "source": [
    "my_dataset = MyDataset(location=raw_data_path)"
   ]
  },
  {
   "cell_type": "code",
   "execution_count": 5,
   "metadata": {},
   "outputs": [
    {
     "name": "stderr",
     "output_type": "stream",
     "text": [
      "c:\\Users\\hgnis\\anaconda3\\Lib\\site-packages\\torchaudio\\functional\\functional.py:584: UserWarning: At least one mel filterbank has all zero values. The value for `n_mels` (128) may be set too high. Or, the value for `n_freqs` (201) may be set too low.\n",
      "  warnings.warn(\n"
     ]
    }
   ],
   "source": [
    "# create & pickle dataset | RUN THIS CELL ONLY ONCE TO CREATE THE DATASET\n",
    "my_dataset.create_dataset()\n",
    "my_dataset.save_dataset(processed_data_path)"
   ]
  },
  {
   "cell_type": "code",
   "execution_count": 25,
   "metadata": {},
   "outputs": [
    {
     "name": "stdout",
     "output_type": "stream",
     "text": [
      "Loaded dataset with 323 samples.\n"
     ]
    }
   ],
   "source": [
    "# load dataset | RUN THIS CELL TO LOAD THE SAVED DATASET\n",
    "my_dataset.load_dataset(processed_data_path)\n",
    "sample_size = len(my_dataset)\n",
    "print(f\"Loaded dataset with {sample_size} samples.\")"
   ]
  },
  {
   "cell_type": "code",
   "execution_count": 28,
   "metadata": {},
   "outputs": [
    {
     "name": "stdout",
     "output_type": "stream",
     "text": [
      "Train dataset size: 258 \n",
      "Valid dataset size: 32 \n",
      "Test dataset size: 33\n"
     ]
    }
   ],
   "source": [
    "# train-valid-test split\n",
    "# to maintain independence between train and test sets, split the dataset before creating the triplets\n",
    "\n",
    "train_size = int(0.8 * sample_size)\n",
    "val_size = int(0.1 * sample_size)\n",
    "test_size = sample_size - train_size - val_size\n",
    "\n",
    "train_set, val_set, test_set = random_split(my_dataset, [train_size, val_size, test_size], generator=torch.Generator().manual_seed(random_seed))\n",
    "\n",
    "train_size, valid_size, test_size = len(train_set), len(val_set), len(test_set)\n",
    "print(f\"Train dataset size: {train_size} \\nValid dataset size: {valid_size} \\nTest dataset size: {test_size}\")"
   ]
  },
  {
   "cell_type": "code",
   "execution_count": 31,
   "metadata": {},
   "outputs": [
    {
     "name": "stdout",
     "output_type": "stream",
     "text": [
      "Created and saved:       \n",
      " 2580 train triplets       \n",
      " 320 \u000balid triplets       \n",
      " 330 test triplets\n"
     ]
    }
   ],
   "source": [
    "# CREATE & PICKLE triplets of indicies | RUN THIS CELL ONLY ONCE TO CREATE THE TRIPLETS\n",
    "# ensure diversity of triplets by setting num_triplets to a large number\n",
    "# essentially 10 to 20 triplets per sample\n",
    "\n",
    "# TRAIN\n",
    "train_triplets = TripletGenerator(train_set, num_triplets=train_size*10, prefix=\"train\")\n",
    "train_triplets.save_triplets(processed_data_path)\n",
    "\n",
    "# VALID\n",
    "valid_triplets = TripletGenerator(val_set, num_triplets=valid_size*10, prefix=\"valid\")\n",
    "valid_triplets.save_triplets(processed_data_path)\n",
    "\n",
    "# TEST\n",
    "test_triplets = TripletGenerator(test_set, num_triplets=test_size*10, prefix=\"test\")\n",
    "test_triplets.save_triplets(processed_data_path)\n",
    "\n",
    "print(f\"Created and saved: \\\n",
    "      \\n {len(train_triplets.triplets)} train triplets \\\n",
    "      \\n {len(valid_triplets.triplets)} valid triplets \\\n",
    "      \\n {len(test_triplets.triplets)} test triplets\"\n",
    "      )"
   ]
  },
  {
   "cell_type": "markdown",
   "metadata": {},
   "source": [
    "---"
   ]
  },
  {
   "cell_type": "code",
   "execution_count": 33,
   "metadata": {},
   "outputs": [
    {
     "name": "stdout",
     "output_type": "stream",
     "text": [
      "Loaded:       \n",
      " 2580 train triplets       \n",
      " 320 valid triplets       \n",
      " 330 test triplets\n"
     ]
    }
   ],
   "source": [
    "# LOAD triplets | RUN THIS CELL TO LOAD THE SAVED TRIPLETS\n",
    "\n",
    "# TRAIN\n",
    "train_triplets = TripletGenerator(load=True, root_path=processed_data_path, prefix=\"train\")\n",
    "train_audio_triplet_dataset = AudioTripletDataset(my_dataset.data, train_triplets.triplets)\n",
    "train_landmark_triplet_dataset = LandmarkTripletDataset(my_dataset.data, train_triplets.triplets)\n",
    "\n",
    "# VALID\n",
    "valid_triplets = TripletGenerator(load=True, root_path=processed_data_path, prefix=\"valid\")\n",
    "valid_audio_triplet_dataset = AudioTripletDataset(my_dataset.data, valid_triplets.triplets)\n",
    "valid_landmark_triplet_dataset = LandmarkTripletDataset(my_dataset.data, valid_triplets.triplets)\n",
    "\n",
    "# TEST\n",
    "test_triplets = TripletGenerator(load=True, root_path=processed_data_path, prefix=\"test\")\n",
    "test_audio_triplet_dataset = AudioTripletDataset(my_dataset.data, test_triplets.triplets)\n",
    "test_landmark_triplet_dataset = LandmarkTripletDataset(my_dataset.data, test_triplets.triplets)\n",
    "\n",
    "print(f\"Loaded: \\\n",
    "      \\n {len(train_triplets.triplets)} train triplets \\\n",
    "      \\n {len(valid_triplets.triplets)} valid triplets \\\n",
    "      \\n {len(test_triplets.triplets)} test triplets\"\n",
    "      )"
   ]
  },
  {
   "cell_type": "code",
   "execution_count": 34,
   "metadata": {},
   "outputs": [],
   "source": [
    "# create dataloaders\n",
    "train_loader = DataLoader(train_audio_triplet_dataset, batch_size=32, shuffle=True)\n",
    "valid_loader = DataLoader(valid_audio_triplet_dataset, batch_size=32, shuffle=False)"
   ]
  },
  {
   "cell_type": "code",
   "execution_count": 44,
   "metadata": {},
   "outputs": [],
   "source": [
    "# imports\n",
    "from src.config import SystemConfig, TrainingConfig\n",
    "from src.logging import setup_log_directory\n",
    "from src.models import MyModel, main\n",
    "from src.visualization import plot_loss_accuracy\n",
    "\n",
    "from torch.utils.tensorboard import SummaryWriter"
   ]
  },
  {
   "cell_type": "code",
   "execution_count": 57,
   "metadata": {},
   "outputs": [
    {
     "name": "stdout",
     "output_type": "stream",
     "text": [
      "SiameseModel(\n",
      "  (siamese_network): LSTM(\n",
      "    (lstm): LSTM(400, 64, batch_first=True)\n",
      "    (attention): Linear(in_features=64, out_features=1, bias=True)\n",
      "    (flatten): Flatten(start_dim=1, end_dim=-1)\n",
      "    (dense1): Linear(in_features=64, out_features=128, bias=True)\n",
      "    (dense2): Linear(in_features=128, out_features=64, bias=True)\n",
      "    (dense3): Linear(in_features=64, out_features=32, bias=True)\n",
      "  )\n",
      ")\n",
      "Logging at: ..\\output\\Logs_Checkpoints\\Model_logs\\version_5\n",
      "Model Checkpoint at: ..\\output\\Logs_Checkpoints\\Model_checkpoints\\version_5\n"
     ]
    }
   ],
   "source": [
    "# train model\n",
    "model = MyModel((250, 400))\n",
    "print(model)\n",
    "\n",
    "training_config = TrainingConfig()\n",
    "\n",
    "# Model checkpoint log dir setup.\n",
    "training_config, current_version_name = setup_log_directory(training_config)\n",
    "\n",
    "# Tensorboard log dir setup.\n",
    "summary_writer = SummaryWriter(training_config.log_dir)"
   ]
  },
  {
   "cell_type": "code",
   "execution_count": 58,
   "metadata": {},
   "outputs": [
    {
     "ename": "RuntimeError",
     "evalue": "CUDA error: the launch timed out and was terminated\nCUDA kernel errors might be asynchronously reported at some other API call, so the stacktrace below might be incorrect.\nFor debugging consider passing CUDA_LAUNCH_BLOCKING=1.\nCompile with `TORCH_USE_CUDA_DSA` to enable device-side assertions.\n",
     "output_type": "error",
     "traceback": [
      "\u001b[1;31m---------------------------------------------------------------------------\u001b[0m",
      "\u001b[1;31mRuntimeError\u001b[0m                              Traceback (most recent call last)",
      "Cell \u001b[1;32mIn[58], line 2\u001b[0m\n\u001b[0;32m      1\u001b[0m \u001b[38;5;66;03m# Train and Validate\u001b[39;00m\n\u001b[1;32m----> 2\u001b[0m train_loss, train_acc, val_loss, val_acc \u001b[38;5;241m=\u001b[39m main(\n\u001b[0;32m      3\u001b[0m     model,\n\u001b[0;32m      4\u001b[0m     (train_loader, valid_loader),\n\u001b[0;32m      5\u001b[0m     summary_writer\u001b[38;5;241m=\u001b[39msummary_writer,\n\u001b[0;32m      6\u001b[0m     scheduler\u001b[38;5;241m=\u001b[39m\u001b[38;5;28;01mNone\u001b[39;00m,\n\u001b[0;32m      7\u001b[0m     system_config\u001b[38;5;241m=\u001b[39mSystemConfig(),\n\u001b[0;32m      8\u001b[0m     training_config\u001b[38;5;241m=\u001b[39mtraining_config,\n\u001b[0;32m      9\u001b[0m     data_augmentation\u001b[38;5;241m=\u001b[39m\u001b[38;5;28;01mFalse\u001b[39;00m,\n\u001b[0;32m     10\u001b[0m )\n",
      "File \u001b[1;32md:\\Code\\msc-project\\notebooks\\..\\src\\models\\main.py:23\u001b[0m, in \u001b[0;36mmain\u001b[1;34m(model, data_loader, summary_writer, scheduler, system_config, training_config, data_augmentation)\u001b[0m\n\u001b[0;32m     13\u001b[0m \u001b[38;5;28;01mdef\u001b[39;00m \u001b[38;5;21mmain\u001b[39m(model,\n\u001b[0;32m     14\u001b[0m          data_loader,\n\u001b[0;32m     15\u001b[0m          summary_writer, \n\u001b[1;32m   (...)\u001b[0m\n\u001b[0;32m     21\u001b[0m     \n\u001b[0;32m     22\u001b[0m     \u001b[38;5;66;03m# Setup system configuration.\u001b[39;00m\n\u001b[1;32m---> 23\u001b[0m     setup_system(system_config)\n\u001b[0;32m     25\u001b[0m     \u001b[38;5;66;03m# Initialize data loader\u001b[39;00m\n\u001b[0;32m     26\u001b[0m     train_loader, valid_loader \u001b[38;5;241m=\u001b[39m data_loader\n",
      "File \u001b[1;32md:\\Code\\msc-project\\notebooks\\..\\src\\config\\setup.py:5\u001b[0m, in \u001b[0;36msetup_system\u001b[1;34m(system_config)\u001b[0m\n\u001b[0;32m      4\u001b[0m \u001b[38;5;28;01mdef\u001b[39;00m \u001b[38;5;21msetup_system\u001b[39m(system_config: SystemConfig) \u001b[38;5;241m-\u001b[39m\u001b[38;5;241m>\u001b[39m \u001b[38;5;28;01mNone\u001b[39;00m:\n\u001b[1;32m----> 5\u001b[0m     torch\u001b[38;5;241m.\u001b[39mmanual_seed(system_config\u001b[38;5;241m.\u001b[39mseed)\n\u001b[0;32m      6\u001b[0m     \u001b[38;5;28;01mif\u001b[39;00m torch\u001b[38;5;241m.\u001b[39mcuda\u001b[38;5;241m.\u001b[39mis_available():\n\u001b[0;32m      7\u001b[0m         torch\u001b[38;5;241m.\u001b[39mbackends\u001b[38;5;241m.\u001b[39mcudnn_benchmark_enabled \u001b[38;5;241m=\u001b[39m system_config\u001b[38;5;241m.\u001b[39mcudnn_benchmark_enabled\n",
      "File \u001b[1;32mc:\\Users\\hgnis\\anaconda3\\Lib\\site-packages\\torch\\_dynamo\\eval_frame.py:489\u001b[0m, in \u001b[0;36m_TorchDynamoContext.__call__.<locals>._fn\u001b[1;34m(*args, **kwargs)\u001b[0m\n\u001b[0;32m    487\u001b[0m     dynamo_config_ctx\u001b[38;5;241m.\u001b[39m\u001b[38;5;21m__enter__\u001b[39m()\n\u001b[0;32m    488\u001b[0m \u001b[38;5;28;01mtry\u001b[39;00m:\n\u001b[1;32m--> 489\u001b[0m     \u001b[38;5;28;01mreturn\u001b[39;00m fn(\u001b[38;5;241m*\u001b[39margs, \u001b[38;5;241m*\u001b[39m\u001b[38;5;241m*\u001b[39mkwargs)\n\u001b[0;32m    490\u001b[0m \u001b[38;5;28;01mfinally\u001b[39;00m:\n\u001b[0;32m    491\u001b[0m     set_eval_frame(prior)\n",
      "File \u001b[1;32mc:\\Users\\hgnis\\anaconda3\\Lib\\site-packages\\torch\\_dynamo\\external_utils.py:17\u001b[0m, in \u001b[0;36mwrap_inline.<locals>.inner\u001b[1;34m(*args, **kwargs)\u001b[0m\n\u001b[0;32m     15\u001b[0m \u001b[38;5;129m@functools\u001b[39m\u001b[38;5;241m.\u001b[39mwraps(fn)\n\u001b[0;32m     16\u001b[0m \u001b[38;5;28;01mdef\u001b[39;00m \u001b[38;5;21minner\u001b[39m(\u001b[38;5;241m*\u001b[39margs, \u001b[38;5;241m*\u001b[39m\u001b[38;5;241m*\u001b[39mkwargs):\n\u001b[1;32m---> 17\u001b[0m     \u001b[38;5;28;01mreturn\u001b[39;00m fn(\u001b[38;5;241m*\u001b[39margs, \u001b[38;5;241m*\u001b[39m\u001b[38;5;241m*\u001b[39mkwargs)\n",
      "File \u001b[1;32mc:\\Users\\hgnis\\anaconda3\\Lib\\site-packages\\torch\\random.py:40\u001b[0m, in \u001b[0;36mmanual_seed\u001b[1;34m(seed)\u001b[0m\n\u001b[0;32m     37\u001b[0m \u001b[38;5;28;01mimport\u001b[39;00m \u001b[38;5;21;01mtorch\u001b[39;00m\u001b[38;5;21;01m.\u001b[39;00m\u001b[38;5;21;01mcuda\u001b[39;00m\n\u001b[0;32m     39\u001b[0m \u001b[38;5;28;01mif\u001b[39;00m \u001b[38;5;129;01mnot\u001b[39;00m torch\u001b[38;5;241m.\u001b[39mcuda\u001b[38;5;241m.\u001b[39m_is_in_bad_fork():\n\u001b[1;32m---> 40\u001b[0m     torch\u001b[38;5;241m.\u001b[39mcuda\u001b[38;5;241m.\u001b[39mmanual_seed_all(seed)\n\u001b[0;32m     42\u001b[0m \u001b[38;5;28;01mimport\u001b[39;00m \u001b[38;5;21;01mtorch\u001b[39;00m\u001b[38;5;21;01m.\u001b[39;00m\u001b[38;5;21;01mmps\u001b[39;00m\n\u001b[0;32m     43\u001b[0m \u001b[38;5;28;01mif\u001b[39;00m \u001b[38;5;129;01mnot\u001b[39;00m torch\u001b[38;5;241m.\u001b[39mmps\u001b[38;5;241m.\u001b[39m_is_in_bad_fork():\n",
      "File \u001b[1;32mc:\\Users\\hgnis\\anaconda3\\Lib\\site-packages\\torch\\cuda\\random.py:126\u001b[0m, in \u001b[0;36mmanual_seed_all\u001b[1;34m(seed)\u001b[0m\n\u001b[0;32m    123\u001b[0m         default_generator \u001b[38;5;241m=\u001b[39m torch\u001b[38;5;241m.\u001b[39mcuda\u001b[38;5;241m.\u001b[39mdefault_generators[i]\n\u001b[0;32m    124\u001b[0m         default_generator\u001b[38;5;241m.\u001b[39mmanual_seed(seed)\n\u001b[1;32m--> 126\u001b[0m _lazy_call(cb, seed_all\u001b[38;5;241m=\u001b[39m\u001b[38;5;28;01mTrue\u001b[39;00m)\n",
      "File \u001b[1;32mc:\\Users\\hgnis\\anaconda3\\Lib\\site-packages\\torch\\cuda\\__init__.py:232\u001b[0m, in \u001b[0;36m_lazy_call\u001b[1;34m(callable, **kwargs)\u001b[0m\n\u001b[0;32m    230\u001b[0m \u001b[38;5;28;01mdef\u001b[39;00m \u001b[38;5;21m_lazy_call\u001b[39m(\u001b[38;5;28mcallable\u001b[39m, \u001b[38;5;241m*\u001b[39m\u001b[38;5;241m*\u001b[39mkwargs):\n\u001b[0;32m    231\u001b[0m     \u001b[38;5;28;01mif\u001b[39;00m is_initialized():\n\u001b[1;32m--> 232\u001b[0m         \u001b[38;5;28mcallable\u001b[39m()\n\u001b[0;32m    233\u001b[0m     \u001b[38;5;28;01melse\u001b[39;00m:\n\u001b[0;32m    234\u001b[0m         \u001b[38;5;66;03m# TODO(torch_deploy): this accesses linecache, which attempts to read the\u001b[39;00m\n\u001b[0;32m    235\u001b[0m         \u001b[38;5;66;03m# file system to get traceback info. Patch linecache or do something\u001b[39;00m\n\u001b[0;32m    236\u001b[0m         \u001b[38;5;66;03m# else here if this ends up being important.\u001b[39;00m\n\u001b[0;32m    237\u001b[0m         \u001b[38;5;28;01mglobal\u001b[39;00m _lazy_seed_tracker\n",
      "File \u001b[1;32mc:\\Users\\hgnis\\anaconda3\\Lib\\site-packages\\torch\\cuda\\random.py:124\u001b[0m, in \u001b[0;36mmanual_seed_all.<locals>.cb\u001b[1;34m()\u001b[0m\n\u001b[0;32m    122\u001b[0m \u001b[38;5;28;01mfor\u001b[39;00m i \u001b[38;5;129;01min\u001b[39;00m \u001b[38;5;28mrange\u001b[39m(device_count()):\n\u001b[0;32m    123\u001b[0m     default_generator \u001b[38;5;241m=\u001b[39m torch\u001b[38;5;241m.\u001b[39mcuda\u001b[38;5;241m.\u001b[39mdefault_generators[i]\n\u001b[1;32m--> 124\u001b[0m     default_generator\u001b[38;5;241m.\u001b[39mmanual_seed(seed)\n",
      "\u001b[1;31mRuntimeError\u001b[0m: CUDA error: the launch timed out and was terminated\nCUDA kernel errors might be asynchronously reported at some other API call, so the stacktrace below might be incorrect.\nFor debugging consider passing CUDA_LAUNCH_BLOCKING=1.\nCompile with `TORCH_USE_CUDA_DSA` to enable device-side assertions.\n"
     ]
    }
   ],
   "source": [
    "# Train and Validate\n",
    "train_loss, train_acc, val_loss, val_acc = main(\n",
    "    model,\n",
    "    (train_loader, valid_loader),\n",
    "    summary_writer=summary_writer,\n",
    "    scheduler=None,\n",
    "    system_config=SystemConfig(),\n",
    "    training_config=training_config,\n",
    "    data_augmentation=False,\n",
    ")"
   ]
  },
  {
   "cell_type": "code",
   "execution_count": null,
   "metadata": {},
   "outputs": [],
   "source": [
    "plot_loss_accuracy(\n",
    "    train_loss=[train_loss],\n",
    "    val_loss=[val_loss],\n",
    "    train_acc=[train_acc],\n",
    "    val_acc=[val_acc],\n",
    "    colors=[\"blue\"],\n",
    "    loss_legend_loc=\"upper center\",\n",
    "    acc_legend_loc=\"upper left\",\n",
    ")"
   ]
  }
 ],
 "metadata": {
  "kernelspec": {
   "display_name": "base",
   "language": "python",
   "name": "python3"
  },
  "language_info": {
   "codemirror_mode": {
    "name": "ipython",
    "version": 3
   },
   "file_extension": ".py",
   "mimetype": "text/x-python",
   "name": "python",
   "nbconvert_exporter": "python",
   "pygments_lexer": "ipython3",
   "version": "3.11.5"
  }
 },
 "nbformat": 4,
 "nbformat_minor": 2
}
