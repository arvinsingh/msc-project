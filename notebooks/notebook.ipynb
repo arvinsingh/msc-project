{
 "cells": [
  {
   "cell_type": "code",
   "execution_count": 1,
   "metadata": {},
   "outputs": [],
   "source": [
    "# force the notebook to auto reload external python modules | useful for development\n",
    "%load_ext autoreload\n",
    "%autoreload 2"
   ]
  },
  {
   "cell_type": "code",
   "execution_count": 2,
   "metadata": {},
   "outputs": [],
   "source": [
    "# imports\n",
    "import sys\n",
    "\n",
    "sys.path.append(\"..\\\\\")\n",
    "from src.data import MyDataset, AudioTripletDataset, LandmarkTripletDataset\n",
    "from src.features import TripletGenerator\n",
    "# from src.models import main\n",
    "\n",
    "import torch\n",
    "from torch.utils.data import random_split\n",
    "from torch.utils.data import DataLoader\n",
    "\n",
    "random_seed = 42"
   ]
  },
  {
   "cell_type": "code",
   "execution_count": 3,
   "metadata": {},
   "outputs": [],
   "source": [
    "import os\n",
    "os.environ['KMP_DUPLICATE_LIB_OK'] = 'TRUE'"
   ]
  },
  {
   "cell_type": "code",
   "execution_count": 4,
   "metadata": {},
   "outputs": [],
   "source": [
    "# paths\n",
    "raw_data_path = \"..\\\\data\\\\raw\\\\\"\n",
    "processed_data_path = \"..\\\\data\\\\processed\\\\\""
   ]
  },
  {
   "cell_type": "markdown",
   "metadata": {},
   "source": [
    "---"
   ]
  },
  {
   "cell_type": "code",
   "execution_count": 5,
   "metadata": {},
   "outputs": [],
   "source": [
    "my_dataset = MyDataset(location=raw_data_path)"
   ]
  },
  {
   "cell_type": "code",
   "execution_count": 5,
   "metadata": {},
   "outputs": [
    {
     "name": "stderr",
     "output_type": "stream",
     "text": [
      "c:\\Users\\hgnis\\anaconda3\\Lib\\site-packages\\torchaudio\\functional\\functional.py:584: UserWarning: At least one mel filterbank has all zero values. The value for `n_mels` (128) may be set too high. Or, the value for `n_freqs` (201) may be set too low.\n",
      "  warnings.warn(\n"
     ]
    }
   ],
   "source": [
    "# create & pickle dataset | RUN THIS CELL ONLY ONCE TO CREATE THE DATASET\n",
    "my_dataset.create_dataset()\n",
    "my_dataset.save_dataset(processed_data_path)"
   ]
  },
  {
   "cell_type": "code",
   "execution_count": 5,
   "metadata": {},
   "outputs": [
    {
     "name": "stdout",
     "output_type": "stream",
     "text": [
      "Loaded dataset with 323 samples.\n"
     ]
    }
   ],
   "source": [
    "# load dataset | RUN THIS CELL TO LOAD THE SAVED DATASET\n",
    "my_dataset.load_dataset(processed_data_path)\n",
    "sample_size = len(my_dataset)\n",
    "print(f\"Loaded dataset with {sample_size} samples.\")"
   ]
  },
  {
   "cell_type": "code",
   "execution_count": 6,
   "metadata": {},
   "outputs": [
    {
     "name": "stdout",
     "output_type": "stream",
     "text": [
      "Train dataset size: 258 \n",
      "Valid dataset size: 32 \n",
      "Test dataset size: 33\n"
     ]
    }
   ],
   "source": [
    "# train-valid-test split\n",
    "# to maintain independence between train and test sets, split the dataset before creating the triplets\n",
    "\n",
    "train_size = int(0.8 * sample_size)\n",
    "val_size = int(0.1 * sample_size)\n",
    "test_size = sample_size - train_size - val_size\n",
    "\n",
    "train_set, val_set, test_set = random_split(my_dataset, [train_size, val_size, test_size], generator=torch.Generator().manual_seed(random_seed))\n",
    "\n",
    "train_size, valid_size, test_size = len(train_set), len(val_set), len(test_set)\n",
    "print(f\"Train dataset size: {train_size} \\nValid dataset size: {valid_size} \\nTest dataset size: {test_size}\")"
   ]
  },
  {
   "cell_type": "code",
   "execution_count": 7,
   "metadata": {},
   "outputs": [
    {
     "name": "stdout",
     "output_type": "stream",
     "text": [
      "Created and saved:       \n",
      " 2580 train triplets       \n",
      " 320 valid triplets       \n",
      " 330 test triplets\n"
     ]
    }
   ],
   "source": [
    "# CREATE & PICKLE triplets of indicies | RUN THIS CELL ONLY ONCE TO CREATE THE TRIPLETS\n",
    "# ensure diversity of triplets by setting num_triplets to a large number\n",
    "# essentially 10 to 20 triplets per sample\n",
    "\n",
    "# TRAIN\n",
    "train_triplets = TripletGenerator(train_set, num_triplets=train_size*10, prefix=\"train\")\n",
    "train_triplets.save_triplets(processed_data_path)\n",
    "\n",
    "# VALID\n",
    "valid_triplets = TripletGenerator(val_set, num_triplets=valid_size*10, prefix=\"valid\")\n",
    "valid_triplets.save_triplets(processed_data_path)\n",
    "\n",
    "# TEST\n",
    "test_triplets = TripletGenerator(test_set, num_triplets=test_size*10, prefix=\"test\")\n",
    "test_triplets.save_triplets(processed_data_path)\n",
    "\n",
    "print(f\"Created and saved: \\\n",
    "      \\n {len(train_triplets.triplets)} train triplets \\\n",
    "      \\n {len(valid_triplets.triplets)} valid triplets \\\n",
    "      \\n {len(test_triplets.triplets)} test triplets\"\n",
    "      )"
   ]
  },
  {
   "cell_type": "markdown",
   "metadata": {},
   "source": [
    "---"
   ]
  },
  {
   "cell_type": "code",
   "execution_count": 6,
   "metadata": {},
   "outputs": [
    {
     "name": "stdout",
     "output_type": "stream",
     "text": [
      "Loaded:       \n",
      " 2580 train triplets       \n",
      " 320 valid triplets       \n",
      " 330 test triplets\n"
     ]
    }
   ],
   "source": [
    "# LOAD triplets | RUN THIS CELL TO LOAD THE SAVED TRIPLETS\n",
    "\n",
    "# TRAIN\n",
    "train_triplets = TripletGenerator(load=True, root_path=processed_data_path, prefix=\"train\")\n",
    "train_audio_triplet_dataset = AudioTripletDataset(my_dataset.data, train_triplets.triplets)\n",
    "train_landmark_triplet_dataset = LandmarkTripletDataset(my_dataset.data, train_triplets.triplets)\n",
    "\n",
    "# VALID\n",
    "valid_triplets = TripletGenerator(load=True, root_path=processed_data_path, prefix=\"valid\")\n",
    "valid_audio_triplet_dataset = AudioTripletDataset(my_dataset.data, valid_triplets.triplets)\n",
    "valid_landmark_triplet_dataset = LandmarkTripletDataset(my_dataset.data, valid_triplets.triplets)\n",
    "\n",
    "# TEST\n",
    "test_triplets = TripletGenerator(load=True, root_path=processed_data_path, prefix=\"test\")\n",
    "test_audio_triplet_dataset = AudioTripletDataset(my_dataset.data, test_triplets.triplets)\n",
    "test_landmark_triplet_dataset = LandmarkTripletDataset(my_dataset.data, test_triplets.triplets)\n",
    "\n",
    "print(f\"Loaded: \\\n",
    "      \\n {len(train_triplets.triplets)} train triplets \\\n",
    "      \\n {len(valid_triplets.triplets)} valid triplets \\\n",
    "      \\n {len(test_triplets.triplets)} test triplets\"\n",
    "      )"
   ]
  },
  {
   "cell_type": "code",
   "execution_count": 7,
   "metadata": {},
   "outputs": [],
   "source": [
    "# imports\n",
    "from src.config import SystemConfig, TrainingConfig\n",
    "from src.logging import setup_log_directory\n",
    "from src.models import audio_model, landmark_model, combined_model, main\n",
    "from src.visualization import plot_loss_accuracy\n",
    "\n",
    "from torch.utils.tensorboard import SummaryWriter"
   ]
  },
  {
   "cell_type": "markdown",
   "metadata": {},
   "source": [
    "### Audio model"
   ]
  },
  {
   "cell_type": "code",
   "execution_count": 9,
   "metadata": {},
   "outputs": [],
   "source": [
    "# create dataloaders\n",
    "train_loader = DataLoader(train_audio_triplet_dataset, batch_size=32, shuffle=True)\n",
    "valid_loader = DataLoader(valid_audio_triplet_dataset, batch_size=32, shuffle=False)"
   ]
  },
  {
   "cell_type": "code",
   "execution_count": 11,
   "metadata": {},
   "outputs": [
    {
     "name": "stdout",
     "output_type": "stream",
     "text": [
      "SiameseModel(\n",
      "  (siamese_network): LSTM(\n",
      "    (lstm): LSTM(400, 64, batch_first=True)\n",
      "    (attention): Linear(in_features=64, out_features=1, bias=True)\n",
      "    (flatten): Flatten(start_dim=1, end_dim=-1)\n",
      "    (dense1): Linear(in_features=64, out_features=128, bias=True)\n",
      "    (dense2): Linear(in_features=128, out_features=64, bias=True)\n",
      "    (dense3): Linear(in_features=64, out_features=32, bias=True)\n",
      "  )\n",
      ")\n",
      "Logging at: ..\\output\\Logs_Checkpoints\\Model_logs\\version_7\n",
      "Model Checkpoint at: ..\\output\\Logs_Checkpoints\\Model_checkpoints\\version_7\n"
     ]
    }
   ],
   "source": [
    "# train model\n",
    "model = audio_model((250, 400))\n",
    "print(model)\n",
    "\n",
    "training_config = TrainingConfig()\n",
    "\n",
    "# Model checkpoint log dir setup.\n",
    "training_config, current_version_name = setup_log_directory(training_config)\n",
    "\n",
    "# Tensorboard log dir setup.\n",
    "summary_writer = SummaryWriter(training_config.log_dir)"
   ]
  },
  {
   "cell_type": "code",
   "execution_count": 12,
   "metadata": {},
   "outputs": [
    {
     "name": "stderr",
     "output_type": "stream",
     "text": [
      "Train:\tEpoch: 1/10 Train Loss: 1.0000, Train Acc: 0.5000: 100%|██████████| 81/81 [00:25<00:00,  3.18it/s]\n",
      "Valid:\tEpoch: 1/10 Valid Loss: 0.9992, Valid Acc: 0.5000: 100%|██████████| 10/10 [00:01<00:00,  9.59it/s]\n"
     ]
    },
    {
     "name": "stdout",
     "output_type": "stream",
     "text": [
      "\n",
      "Model Improved... Saving Model ... Done.\n",
      "\n",
      "========================================================================\n",
      "\n"
     ]
    },
    {
     "name": "stderr",
     "output_type": "stream",
     "text": [
      "Train:\tEpoch: 2/10 Train Loss: 0.9980, Train Acc: 0.5000: 100%|██████████| 81/81 [00:17<00:00,  4.60it/s]\n",
      "Valid:\tEpoch: 2/10 Valid Loss: 0.9991, Valid Acc: 0.5000: 100%|██████████| 10/10 [00:00<00:00, 10.04it/s]\n"
     ]
    },
    {
     "name": "stdout",
     "output_type": "stream",
     "text": [
      "\n",
      "Model Improved... Saving Model ... Done.\n",
      "\n",
      "========================================================================\n",
      "\n"
     ]
    },
    {
     "name": "stderr",
     "output_type": "stream",
     "text": [
      "Train:\tEpoch: 3/10 Train Loss: 0.9790, Train Acc: 0.5000: 100%|██████████| 81/81 [00:22<00:00,  3.63it/s]\n",
      "Valid:\tEpoch: 3/10 Valid Loss: 0.9947, Valid Acc: 0.5000: 100%|██████████| 10/10 [00:01<00:00,  8.53it/s]\n"
     ]
    },
    {
     "name": "stdout",
     "output_type": "stream",
     "text": [
      "\n",
      "Model Improved... Saving Model ... Done.\n",
      "\n",
      "========================================================================\n",
      "\n"
     ]
    },
    {
     "name": "stderr",
     "output_type": "stream",
     "text": [
      "Train:\tEpoch: 4/10 Train Loss: 0.2300, Train Acc: 0.8380: 100%|██████████| 81/81 [00:23<00:00,  3.45it/s]\n",
      "Valid:\tEpoch: 4/10 Valid Loss: 1.0650, Valid Acc: 0.5406: 100%|██████████| 10/10 [00:01<00:00,  7.64it/s]\n"
     ]
    },
    {
     "name": "stdout",
     "output_type": "stream",
     "text": [
      "========================================================================\n",
      "\n"
     ]
    },
    {
     "name": "stderr",
     "output_type": "stream",
     "text": [
      "Train:\tEpoch: 5/10 Train Loss: 0.0001, Train Acc: 0.9560: 100%|██████████| 81/81 [00:23<00:00,  3.40it/s]\n",
      "Valid:\tEpoch: 5/10 Valid Loss: 1.0844, Valid Acc: 0.5469: 100%|██████████| 10/10 [00:01<00:00,  7.08it/s]\n"
     ]
    },
    {
     "name": "stdout",
     "output_type": "stream",
     "text": [
      "========================================================================\n",
      "\n"
     ]
    },
    {
     "name": "stderr",
     "output_type": "stream",
     "text": [
      "Train:\tEpoch: 6/10 Train Loss: 0.0000, Train Acc: 0.9614: 100%|██████████| 81/81 [00:23<00:00,  3.42it/s]\n",
      "Valid:\tEpoch: 6/10 Valid Loss: 1.0844, Valid Acc: 0.5469: 100%|██████████| 10/10 [00:01<00:00,  6.97it/s]\n"
     ]
    },
    {
     "name": "stdout",
     "output_type": "stream",
     "text": [
      "========================================================================\n",
      "\n"
     ]
    },
    {
     "name": "stderr",
     "output_type": "stream",
     "text": [
      "Train:\tEpoch: 7/10 Train Loss: 0.0000, Train Acc: 0.9614: 100%|██████████| 81/81 [00:23<00:00,  3.42it/s]\n",
      "Valid:\tEpoch: 7/10 Valid Loss: 1.0844, Valid Acc: 0.5469: 100%|██████████| 10/10 [00:01<00:00,  7.19it/s]\n"
     ]
    },
    {
     "name": "stdout",
     "output_type": "stream",
     "text": [
      "========================================================================\n",
      "\n"
     ]
    },
    {
     "name": "stderr",
     "output_type": "stream",
     "text": [
      "Train:\tEpoch: 8/10 Train Loss: 0.0000, Train Acc: 0.9614: 100%|██████████| 81/81 [00:24<00:00,  3.28it/s]\n",
      "Valid:\tEpoch: 8/10 Valid Loss: 1.0844, Valid Acc: 0.5469: 100%|██████████| 10/10 [00:01<00:00,  6.57it/s]\n"
     ]
    },
    {
     "name": "stdout",
     "output_type": "stream",
     "text": [
      "========================================================================\n",
      "\n"
     ]
    },
    {
     "name": "stderr",
     "output_type": "stream",
     "text": [
      "Train:\tEpoch: 9/10 Train Loss: 0.0000, Train Acc: 0.9614: 100%|██████████| 81/81 [00:25<00:00,  3.21it/s]\n",
      "Valid:\tEpoch: 9/10 Valid Loss: 1.0844, Valid Acc: 0.5469: 100%|██████████| 10/10 [00:01<00:00,  7.12it/s]\n"
     ]
    },
    {
     "name": "stdout",
     "output_type": "stream",
     "text": [
      "========================================================================\n",
      "\n"
     ]
    },
    {
     "name": "stderr",
     "output_type": "stream",
     "text": [
      "Train:\tEpoch: 10/10 Train Loss: 0.0000, Train Acc: 0.9614: 100%|██████████| 81/81 [00:23<00:00,  3.42it/s]\n",
      "Valid:\tEpoch: 10/10 Valid Loss: 1.0844, Valid Acc: 0.5469: 100%|██████████| 10/10 [00:01<00:00,  7.21it/s]"
     ]
    },
    {
     "name": "stdout",
     "output_type": "stream",
     "text": [
      "========================================================================\n",
      "\n",
      "Total time: 247.28s, Best Loss: 0.995\n"
     ]
    },
    {
     "name": "stderr",
     "output_type": "stream",
     "text": [
      "\n"
     ]
    }
   ],
   "source": [
    "# Train and Validate\n",
    "train_loss, train_acc, val_loss, val_acc = main(\n",
    "    model,\n",
    "    (train_loader, valid_loader),\n",
    "    summary_writer=summary_writer,\n",
    "    scheduler=None,\n",
    "    system_config=SystemConfig(),\n",
    "    training_config=training_config,\n",
    "    data_augmentation=False,\n",
    ")"
   ]
  },
  {
   "cell_type": "code",
   "execution_count": 13,
   "metadata": {},
   "outputs": [
    {
     "ename": "",
     "evalue": "",
     "output_type": "error",
     "traceback": [
      "\u001b[1;31mThe Kernel crashed while executing code in the current cell or a previous cell. \n",
      "\u001b[1;31mPlease review the code in the cell(s) to identify a possible cause of the failure. \n",
      "\u001b[1;31mClick <a href='https://aka.ms/vscodeJupyterKernelCrash'>here</a> for more info. \n",
      "\u001b[1;31mView Jupyter <a href='command:jupyter.viewOutput'>log</a> for further details."
     ]
    }
   ],
   "source": [
    "plot_loss_accuracy(\n",
    "    train_loss=[train_loss],\n",
    "    val_loss=[val_loss],\n",
    "    train_acc=[train_acc],\n",
    "    val_acc=[val_acc],\n",
    "    colors=[\"blue\"],\n",
    "    loss_legend_loc=\"upper center\",\n",
    "    acc_legend_loc=\"upper left\",\n",
    ")"
   ]
  },
  {
   "cell_type": "markdown",
   "metadata": {},
   "source": [
    "### Landmark Model"
   ]
  },
  {
   "cell_type": "code",
   "execution_count": 8,
   "metadata": {},
   "outputs": [],
   "source": [
    "# create dataloaders\n",
    "train_loader = DataLoader(train_landmark_triplet_dataset, batch_size=32, shuffle=True)\n",
    "valid_loader = DataLoader(valid_landmark_triplet_dataset, batch_size=32, shuffle=False)"
   ]
  },
  {
   "cell_type": "code",
   "execution_count": 14,
   "metadata": {},
   "outputs": [
    {
     "name": "stdout",
     "output_type": "stream",
     "text": [
      "SiameseModel(\n",
      "  (siamese_network): STGCN(\n",
      "    (temporal_conv1): Conv2d(3, 64, kernel_size=(3, 1), stride=(1, 1))\n",
      "    (graph_conv1): GraphConvLayer(\n",
      "      (fc): Linear(in_features=64, out_features=32, bias=True)\n",
      "    )\n",
      "    (temporal_conv2): Conv2d(32, 64, kernel_size=(3, 1), stride=(1, 1))\n",
      "  )\n",
      ")\n",
      "Logging at: ..\\output\\Logs_Checkpoints\\Model_logs\\version_11\n",
      "Model Checkpoint at: ..\\output\\Logs_Checkpoints\\Model_checkpoints\\version_11\n"
     ]
    }
   ],
   "source": [
    "# train model\n",
    "model = landmark_model()\n",
    "print(model)\n",
    "\n",
    "training_config = TrainingConfig()\n",
    "\n",
    "# Model checkpoint log dir setup.\n",
    "training_config, current_version_name = setup_log_directory(training_config)\n",
    "\n",
    "# Tensorboard log dir setup.\n",
    "summary_writer = SummaryWriter(training_config.log_dir)"
   ]
  },
  {
   "cell_type": "code",
   "execution_count": null,
   "metadata": {},
   "outputs": [],
   "source": [
    "# Train and Validate\n",
    "train_loss, train_acc, val_loss, val_acc = main(\n",
    "    model,\n",
    "    (train_loader, valid_loader),\n",
    "    summary_writer=summary_writer,\n",
    "    scheduler=None,\n",
    "    system_config=SystemConfig(),\n",
    "    training_config=training_config,\n",
    "    data_augmentation=False,\n",
    ")"
   ]
  },
  {
   "cell_type": "code",
   "execution_count": null,
   "metadata": {},
   "outputs": [],
   "source": [
    "plot_loss_accuracy(\n",
    "    train_loss=[train_loss],\n",
    "    val_loss=[val_loss],\n",
    "    train_acc=[train_acc],\n",
    "    val_acc=[val_acc],\n",
    "    colors=[\"blue\"],\n",
    "    loss_legend_loc=\"upper center\",\n",
    "    acc_legend_loc=\"upper left\",\n",
    ")"
   ]
  },
  {
   "cell_type": "markdown",
   "metadata": {},
   "source": [
    "### Combined model"
   ]
  },
  {
   "cell_type": "code",
   "execution_count": null,
   "metadata": {},
   "outputs": [],
   "source": [
    "# dataloaders"
   ]
  },
  {
   "cell_type": "code",
   "execution_count": 13,
   "metadata": {},
   "outputs": [
    {
     "name": "stdout",
     "output_type": "stream",
     "text": [
      "CombinedSiameseNetwork(\n",
      "  (audio_network): LSTM(\n",
      "    (lstm): LSTM(400, 64, batch_first=True)\n",
      "    (attention): Linear(in_features=64, out_features=1, bias=True)\n",
      "    (flatten): Flatten(start_dim=1, end_dim=-1)\n",
      "    (dense1): Linear(in_features=64, out_features=128, bias=True)\n",
      "    (dense2): Linear(in_features=128, out_features=64, bias=True)\n",
      "    (dense3): Linear(in_features=64, out_features=32, bias=True)\n",
      "  )\n",
      "  (landmarks_network): STGCN(\n",
      "    (temporal_conv1): Conv2d(3, 64, kernel_size=(3, 1), stride=(1, 1))\n",
      "    (graph_conv1): GraphConvLayer(\n",
      "      (fc): Linear(in_features=64, out_features=32, bias=True)\n",
      "    )\n",
      "    (temporal_conv2): Conv2d(32, 64, kernel_size=(3, 1), stride=(1, 1))\n",
      "  )\n",
      "  (fc): Linear(in_features=64, out_features=32, bias=True)\n",
      ")\n",
      "Logging at: ..\\output\\Logs_Checkpoints\\Model_logs\\version_10\n",
      "Model Checkpoint at: ..\\output\\Logs_Checkpoints\\Model_checkpoints\\version_10\n"
     ]
    }
   ],
   "source": [
    "# train model\n",
    "model = combined_model((250, 400))\n",
    "print(model)\n",
    "\n",
    "training_config = TrainingConfig()\n",
    "\n",
    "# Model checkpoint log dir setup.\n",
    "training_config, current_version_name = setup_log_directory(training_config)\n",
    "\n",
    "# Tensorboard log dir setup.\n",
    "summary_writer = SummaryWriter(training_config.log_dir)"
   ]
  },
  {
   "cell_type": "code",
   "execution_count": null,
   "metadata": {},
   "outputs": [],
   "source": [
    "# Train and Validate\n",
    "train_loss, train_acc, val_loss, val_acc = main(\n",
    "    model,\n",
    "    (train_loader, valid_loader),\n",
    "    summary_writer=summary_writer,\n",
    "    scheduler=None,\n",
    "    system_config=SystemConfig(),\n",
    "    training_config=training_config,\n",
    "    data_augmentation=False,\n",
    ")"
   ]
  },
  {
   "cell_type": "code",
   "execution_count": null,
   "metadata": {},
   "outputs": [],
   "source": [
    "plot_loss_accuracy(\n",
    "    train_loss=[train_loss],\n",
    "    val_loss=[val_loss],\n",
    "    train_acc=[train_acc],\n",
    "    val_acc=[val_acc],\n",
    "    colors=[\"blue\"],\n",
    "    loss_legend_loc=\"upper center\",\n",
    "    acc_legend_loc=\"upper left\",\n",
    ")"
   ]
  }
 ],
 "metadata": {
  "kernelspec": {
   "display_name": "base",
   "language": "python",
   "name": "python3"
  },
  "language_info": {
   "codemirror_mode": {
    "name": "ipython",
    "version": 3
   },
   "file_extension": ".py",
   "mimetype": "text/x-python",
   "name": "python",
   "nbconvert_exporter": "python",
   "pygments_lexer": "ipython3",
   "version": "3.11.5"
  }
 },
 "nbformat": 4,
 "nbformat_minor": 2
}
