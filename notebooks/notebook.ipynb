{
 "cells": [
  {
   "cell_type": "code",
   "execution_count": 1,
   "metadata": {},
   "outputs": [],
   "source": [
    "# force the notebook to auto reload external python modules | useful for development\n",
    "%load_ext autoreload\n",
    "%autoreload 2"
   ]
  },
  {
   "cell_type": "code",
   "execution_count": 2,
   "metadata": {},
   "outputs": [],
   "source": [
    "# imports\n",
    "import sys\n",
    "\n",
    "sys.path.append(\"..\\\\\")\n",
    "from src.data import MyDataset, AudioTripletDataset, LandmarkTripletDataset, AudioLandmarkTripletDataset\n",
    "from src.features import TripletGenerator\n",
    "# from src.models import main\n",
    "\n",
    "import torch\n",
    "from torch.utils.data import random_split\n",
    "from torch.utils.data import DataLoader\n",
    "\n",
    "random_seed = 42"
   ]
  },
  {
   "cell_type": "code",
   "execution_count": 3,
   "metadata": {},
   "outputs": [],
   "source": [
    "import os\n",
    "os.environ['KMP_DUPLICATE_LIB_OK'] = 'TRUE'"
   ]
  },
  {
   "cell_type": "code",
   "execution_count": 4,
   "metadata": {},
   "outputs": [],
   "source": [
    "# paths\n",
    "raw_data_path = \"..\\\\data\\\\raw\\\\\"\n",
    "processed_data_path = \"..\\\\data\\\\processed\\\\\""
   ]
  },
  {
   "cell_type": "markdown",
   "metadata": {},
   "source": [
    "---"
   ]
  },
  {
   "cell_type": "code",
   "execution_count": 5,
   "metadata": {},
   "outputs": [],
   "source": [
    "my_dataset = MyDataset(location=raw_data_path)"
   ]
  },
  {
   "cell_type": "code",
   "execution_count": null,
   "metadata": {},
   "outputs": [],
   "source": [
    "# create & pickle dataset | RUN THIS CELL ONLY ONCE TO CREATE THE DATASET\n",
    "my_dataset.create_dataset()\n",
    "my_dataset.save_dataset(processed_data_path)"
   ]
  },
  {
   "cell_type": "code",
   "execution_count": 6,
   "metadata": {},
   "outputs": [
    {
     "name": "stdout",
     "output_type": "stream",
     "text": [
      "Loaded dataset with 323 samples.\n"
     ]
    }
   ],
   "source": [
    "# load dataset | RUN THIS CELL TO LOAD THE SAVED DATASET\n",
    "my_dataset.load_dataset(processed_data_path)\n",
    "sample_size = len(my_dataset)\n",
    "print(f\"Loaded dataset with {sample_size} samples.\")"
   ]
  },
  {
   "cell_type": "code",
   "execution_count": null,
   "metadata": {},
   "outputs": [],
   "source": [
    "# train-valid-test split\n",
    "# to maintain independence between train and test sets, split the dataset before creating the triplets\n",
    "\n",
    "train_size = int(0.6 * sample_size)\n",
    "val_size = int(0.2 * sample_size)\n",
    "test_size = sample_size - train_size - val_size\n",
    "\n",
    "train_set, val_set, test_set = random_split(my_dataset, [train_size, val_size, test_size], generator=torch.Generator().manual_seed(random_seed))\n",
    "\n",
    "train_size, valid_size, test_size = len(train_set), len(val_set), len(test_set)\n",
    "print(f\"Train dataset size: {train_size} \\nValid dataset size: {valid_size} \\nTest dataset size: {test_size}\")"
   ]
  },
  {
   "cell_type": "code",
   "execution_count": 7,
   "metadata": {},
   "outputs": [
    {
     "name": "stdout",
     "output_type": "stream",
     "text": [
      "Train dataset size: 258 \n",
      "Valid dataset size: 52 \n",
      "Test dataset size: 13\n"
     ]
    }
   ],
   "source": [
    "# For Stratified Split\n",
    "\n",
    "from sklearn.model_selection import train_test_split\n",
    "\n",
    "# Assuming my_dataset is an instance of a Dataset class\n",
    "sample_size = len(my_dataset)\n",
    "targets = [my_dataset[i][1] for i in range(sample_size)]  # Assuming the second element is the label\n",
    "\n",
    "# Splitting the data into train, validation, and test with stratification\n",
    "train_idx, temp_idx, train_targets, temp_targets = train_test_split(\n",
    "    range(sample_size), targets, test_size=0.2, stratify=targets, random_state=random_seed\n",
    ")\n",
    "\n",
    "val_idx, test_idx, val_targets, test_targets = train_test_split(\n",
    "    temp_idx, temp_targets, test_size=0.2, stratify=temp_targets, random_state=random_seed\n",
    ")\n",
    "\n",
    "# Creating subsets\n",
    "train_set = torch.utils.data.Subset(my_dataset, train_idx)\n",
    "val_set = torch.utils.data.Subset(my_dataset, val_idx)\n",
    "test_set = torch.utils.data.Subset(my_dataset, test_idx)\n",
    "\n",
    "# Sizes of the datasets\n",
    "train_size, valid_size, test_size = len(train_set), len(val_set), len(test_set)\n",
    "print(f\"Train dataset size: {train_size} \\nValid dataset size: {valid_size} \\nTest dataset size: {test_size}\")\n"
   ]
  },
  {
   "cell_type": "code",
   "execution_count": 8,
   "metadata": {},
   "outputs": [
    {
     "name": "stdout",
     "output_type": "stream",
     "text": [
      "Created and saved:       \n",
      " 5160 train triplets       \n",
      " 1040 valid triplets       \n",
      " 260 test triplets\n"
     ]
    }
   ],
   "source": [
    "# CREATE & PICKLE triplets of indicies | RUN THIS CELL ONLY ONCE TO CREATE THE TRIPLETS\n",
    "# ensure diversity of triplets by setting num_triplets to a large number\n",
    "# essentially 10 to 20 triplets per sample\n",
    "\n",
    "num_triplets = 20\n",
    "\n",
    "# TRAIN\n",
    "train_triplets = TripletGenerator(train_set, num_triplets=train_size*num_triplets, prefix=\"train\")\n",
    "train_triplets.save_triplets(processed_data_path)\n",
    "\n",
    "# VALID\n",
    "valid_triplets = TripletGenerator(val_set, num_triplets=valid_size*num_triplets, prefix=\"valid\")\n",
    "valid_triplets.save_triplets(processed_data_path)\n",
    "\n",
    "# TEST\n",
    "test_triplets = TripletGenerator(test_set, num_triplets=test_size*num_triplets, prefix=\"test\")\n",
    "test_triplets.save_triplets(processed_data_path)\n",
    "\n",
    "print(f\"Created and saved: \\\n",
    "      \\n {len(train_triplets.triplets)} train triplets \\\n",
    "      \\n {len(valid_triplets.triplets)} valid triplets \\\n",
    "      \\n {len(test_triplets.triplets)} test triplets\"\n",
    "      )"
   ]
  },
  {
   "cell_type": "markdown",
   "metadata": {},
   "source": [
    "---"
   ]
  },
  {
   "cell_type": "code",
   "execution_count": 7,
   "metadata": {},
   "outputs": [
    {
     "name": "stdout",
     "output_type": "stream",
     "text": [
      "Loaded:       \n",
      " 5160 train triplets       \n",
      " 1040 valid triplets       \n",
      " 260 test triplets\n"
     ]
    }
   ],
   "source": [
    "# LOAD triplets | RUN THIS CELL TO LOAD THE SAVED TRIPLETS\n",
    "\n",
    "# TRAIN\n",
    "train_triplets = TripletGenerator(load=True, root_path=processed_data_path, prefix=\"train\")\n",
    "train_AL_triplets_dataset = AudioLandmarkTripletDataset(my_dataset.data, train_triplets.triplets)\n",
    "train_audio_triplet_dataset = AudioTripletDataset(my_dataset.data, train_triplets.triplets)\n",
    "train_landmark_triplet_dataset = LandmarkTripletDataset(my_dataset.data, train_triplets.triplets)\n",
    "\n",
    "# VALID\n",
    "valid_triplets = TripletGenerator(load=True, root_path=processed_data_path, prefix=\"valid\")\n",
    "valid_AL_triplets_dataset = AudioLandmarkTripletDataset(my_dataset.data, valid_triplets.triplets)\n",
    "valid_audio_triplet_dataset = AudioTripletDataset(my_dataset.data, valid_triplets.triplets)\n",
    "valid_landmark_triplet_dataset = LandmarkTripletDataset(my_dataset.data, valid_triplets.triplets)\n",
    "\n",
    "# TEST\n",
    "test_triplets = TripletGenerator(load=True, root_path=processed_data_path, prefix=\"test\")\n",
    "test_AL_triplets_dataset = AudioLandmarkTripletDataset(my_dataset.data, test_triplets.triplets)\n",
    "test_audio_triplet_dataset = AudioTripletDataset(my_dataset.data, test_triplets.triplets)\n",
    "test_landmark_triplet_dataset = LandmarkTripletDataset(my_dataset.data, test_triplets.triplets)\n",
    "\n",
    "print(f\"Loaded: \\\n",
    "      \\n {len(train_triplets.triplets)} train triplets \\\n",
    "      \\n {len(valid_triplets.triplets)} valid triplets \\\n",
    "      \\n {len(test_triplets.triplets)} test triplets\"\n",
    "      )"
   ]
  },
  {
   "cell_type": "code",
   "execution_count": 8,
   "metadata": {},
   "outputs": [],
   "source": [
    "# imports\n",
    "from src.config import SystemConfig, TrainingConfig\n",
    "from src.logging import setup_log_directory\n",
    "from src.models import main\n",
    "from src.visualization import plot_loss_accuracy\n",
    "\n",
    "# logging\n",
    "from torch.utils.tensorboard import SummaryWriter\n",
    "\n",
    "# model summary & graph\n",
    "from torchsummary import summary\n",
    "from torchview import draw_graph\n",
    "import graphviz\n",
    "graphviz.set_jupyter_format('png')"
   ]
  },
  {
   "cell_type": "code",
   "execution_count": 9,
   "metadata": {},
   "outputs": [],
   "source": [
    "def train_model(\n",
    "        train_dataset: MyDataset, \n",
    "        valid_dataset: MyDataset, \n",
    "        model: torch.nn.Module,\n",
    "        model_name: str\n",
    "    ):\n",
    "    \n",
    "    # create dataloaders\n",
    "    # Note to self: pin_mem for faster data transfer to GPU\n",
    "    train_loader = DataLoader(\n",
    "        train_dataset, \n",
    "        batch_size=TrainingConfig.batch_size, \n",
    "        shuffle=True, \n",
    "        pin_memory=True,\n",
    "        num_workers=TrainingConfig.num_workers\n",
    "    )\n",
    "    valid_loader = DataLoader(\n",
    "        valid_dataset,\n",
    "        batch_size=TrainingConfig.batch_size,\n",
    "        shuffle=True,\n",
    "        pin_memory=True,\n",
    "        num_workers=TrainingConfig.num_workers\n",
    "    )\n",
    "\n",
    "    # train model\n",
    "    summary(model, input_size=(TrainingConfig.batch_size, 250)) # needs input shape?\n",
    "    model_graph = draw_graph(model, input_size=(TrainingConfig.batch_size, 250), expand_nested=True)\n",
    "    model_graph.save(f\"..\\\\reports\\\\figures\\\\{model_name}_model_graph.png\")\n",
    "                             \n",
    "    model_graph.visual_graph\n",
    "\n",
    "    training_config = TrainingConfig()\n",
    "\n",
    "    # Model checkpoint log dir setup.\n",
    "    training_config, current_version_name = setup_log_directory(training_config)\n",
    "\n",
    "    # Tensorboard log dir setup.\n",
    "    summary_writer = SummaryWriter(training_config.log_dir)\n",
    "\n",
    "    # Train and Validate\n",
    "    train_loss, train_acc, val_loss, val_acc = main(\n",
    "        model,\n",
    "        (train_loader, valid_loader),\n",
    "        summary_writer=summary_writer,\n",
    "        scheduler=None,\n",
    "        system_config=SystemConfig(),\n",
    "        training_config=training_config,\n",
    "        data_augmentation=False,\n",
    "        model_name=model_name,\n",
    "    )\n",
    "\n",
    "    # plot loss and accuracy\n",
    "    plot_loss_accuracy(\n",
    "        train_loss=[train_loss],\n",
    "        val_loss=[val_loss],\n",
    "        train_acc=[train_acc],\n",
    "        val_acc=[val_acc],\n",
    "        colors=[\"blue\"],\n",
    "        loss_legend_loc=\"upper center\",\n",
    "        acc_legend_loc=\"upper left\",\n",
    "    )\n",
    "    "
   ]
  },
  {
   "cell_type": "markdown",
   "metadata": {},
   "source": [
    "### Audio model"
   ]
  },
  {
   "cell_type": "code",
   "execution_count": 12,
   "metadata": {},
   "outputs": [],
   "source": [
    "# importing models from src.models\n",
    "from src.models import LSTM, LSTM_II, LSTM_III, CNN\n",
    "\n",
    "# MODEL TO USE\n",
    "init_model = LSTM_III"
   ]
  },
  {
   "cell_type": "code",
   "execution_count": 14,
   "metadata": {},
   "outputs": [
    {
     "name": "stdout",
     "output_type": "stream",
     "text": [
      "LSTM_III(\n",
      "  (lstm): LSTM(400, 64, batch_first=True)\n",
      "  (batch_norm_lstm): BatchNorm1d(250, eps=1e-05, momentum=0.1, affine=True, track_running_stats=True)\n",
      "  (flatten): Flatten(start_dim=1, end_dim=-1)\n",
      "  (dense1): Linear(in_features=16000, out_features=128, bias=True)\n",
      "  (batch_norm_dense1): BatchNorm1d(128, eps=1e-05, momentum=0.1, affine=True, track_running_stats=True)\n",
      "  (dense2): Linear(in_features=128, out_features=64, bias=True)\n",
      "  (batch_norm_dense2): BatchNorm1d(64, eps=1e-05, momentum=0.1, affine=True, track_running_stats=True)\n",
      "  (dense3): Linear(in_features=64, out_features=32, bias=True)\n",
      ")\n",
      "Logging at: ..\\output\\Logs_Checkpoints\\Model_logs\\version_32\n",
      "Model Checkpoint at: ..\\output\\Logs_Checkpoints\\Model_checkpoints\\version_32\n"
     ]
    },
    {
     "name": "stderr",
     "output_type": "stream",
     "text": [
      "Train:\tEpoch: 1/20 Train Loss: 0.4339, Train Acc: 0.5322: 100%|██████████| 162/162 [00:38<00:00,  4.19it/s]\n",
      "Valid:\tEpoch: 1/20 Valid Loss: 1.1686, Valid Acc: 0.0391:   6%|▌         | 2/33 [00:00<00:03,  9.17it/s]"
     ]
    },
    {
     "name": "stdout",
     "output_type": "stream",
     "text": [
      "pos_correct: 3, neg_correct: 31\n",
      "pos_correct: 2, neg_correct: 31\n"
     ]
    },
    {
     "name": "stderr",
     "output_type": "stream",
     "text": [
      "Valid:\tEpoch: 1/20 Valid Loss: 1.1203, Valid Acc: 0.0430:  12%|█▏        | 4/33 [00:00<00:03,  8.95it/s]"
     ]
    },
    {
     "name": "stdout",
     "output_type": "stream",
     "text": [
      "pos_correct: 4, neg_correct: 28\n",
      "pos_correct: 2, neg_correct: 31\n"
     ]
    },
    {
     "name": "stderr",
     "output_type": "stream",
     "text": [
      "Valid:\tEpoch: 1/20 Valid Loss: 1.1323, Valid Acc: 0.0402:  18%|█▊        | 6/33 [00:00<00:02,  9.07it/s]"
     ]
    },
    {
     "name": "stdout",
     "output_type": "stream",
     "text": [
      "pos_correct: 1, neg_correct: 31\n",
      "pos_correct: 0, neg_correct: 28\n",
      "pos_correct: 6, neg_correct: 29\n"
     ]
    },
    {
     "name": "stderr",
     "output_type": "stream",
     "text": [
      "Valid:\tEpoch: 1/20 Valid Loss: 1.2213, Valid Acc: 0.0391:  27%|██▋       | 9/33 [00:01<00:02,  9.36it/s]"
     ]
    },
    {
     "name": "stdout",
     "output_type": "stream",
     "text": [
      "pos_correct: 2, neg_correct: 28\n",
      "pos_correct: 3, neg_correct: 29\n",
      "pos_correct: 2, neg_correct: 29\n"
     ]
    },
    {
     "name": "stderr",
     "output_type": "stream",
     "text": [
      "Valid:\tEpoch: 1/20 Valid Loss: 1.2428, Valid Acc: 0.0352:  36%|███▋      | 12/33 [00:01<00:02,  9.19it/s]"
     ]
    },
    {
     "name": "stdout",
     "output_type": "stream",
     "text": [
      "pos_correct: 1, neg_correct: 27\n",
      "pos_correct: 1, neg_correct: 29\n"
     ]
    },
    {
     "name": "stderr",
     "output_type": "stream",
     "text": [
      "Valid:\tEpoch: 1/20 Valid Loss: 1.2119, Valid Acc: 0.0346:  42%|████▏     | 14/33 [00:01<00:02,  8.68it/s]"
     ]
    },
    {
     "name": "stdout",
     "output_type": "stream",
     "text": [
      "pos_correct: 2, neg_correct: 30\n",
      "pos_correct: 2, neg_correct: 29\n"
     ]
    },
    {
     "name": "stderr",
     "output_type": "stream",
     "text": [
      "Valid:\tEpoch: 1/20 Valid Loss: 1.2223, Valid Acc: 0.0342:  48%|████▊     | 16/33 [00:01<00:01,  8.66it/s]"
     ]
    },
    {
     "name": "stdout",
     "output_type": "stream",
     "text": [
      "pos_correct: 1, neg_correct: 31\n",
      "pos_correct: 3, neg_correct: 27\n"
     ]
    },
    {
     "name": "stderr",
     "output_type": "stream",
     "text": [
      "Valid:\tEpoch: 1/20 Valid Loss: 1.2416, Valid Acc: 0.0339:  55%|█████▍    | 18/33 [00:02<00:01,  8.43it/s]"
     ]
    },
    {
     "name": "stdout",
     "output_type": "stream",
     "text": [
      "pos_correct: 2, neg_correct: 30\n",
      "pos_correct: 2, neg_correct: 29\n"
     ]
    },
    {
     "name": "stderr",
     "output_type": "stream",
     "text": [
      "Valid:\tEpoch: 1/20 Valid Loss: 1.2305, Valid Acc: 0.0352:  61%|██████    | 20/33 [00:02<00:01,  8.52it/s]"
     ]
    },
    {
     "name": "stdout",
     "output_type": "stream",
     "text": [
      "pos_correct: 3, neg_correct: 29\n",
      "pos_correct: 3, neg_correct: 28\n"
     ]
    },
    {
     "name": "stderr",
     "output_type": "stream",
     "text": [
      "Valid:\tEpoch: 1/20 Valid Loss: 1.2313, Valid Acc: 0.0341:  67%|██████▋   | 22/33 [00:02<00:01,  8.63it/s]"
     ]
    },
    {
     "name": "stdout",
     "output_type": "stream",
     "text": [
      "pos_correct: 3, neg_correct: 29\n",
      "pos_correct: 0, neg_correct: 30\n"
     ]
    },
    {
     "name": "stderr",
     "output_type": "stream",
     "text": [
      "Valid:\tEpoch: 1/20 Valid Loss: 1.2512, Valid Acc: 0.0339:  73%|███████▎  | 24/33 [00:02<00:01,  8.85it/s]"
     ]
    },
    {
     "name": "stdout",
     "output_type": "stream",
     "text": [
      "pos_correct: 2, neg_correct: 30\n",
      "pos_correct: 2, neg_correct: 28\n"
     ]
    },
    {
     "name": "stderr",
     "output_type": "stream",
     "text": [
      "Valid:\tEpoch: 1/20 Valid Loss: 1.2560, Valid Acc: 0.0331:  79%|███████▉  | 26/33 [00:02<00:00,  8.75it/s]"
     ]
    },
    {
     "name": "stdout",
     "output_type": "stream",
     "text": [
      "pos_correct: 3, neg_correct: 30\n",
      "pos_correct: 0, neg_correct: 30\n"
     ]
    },
    {
     "name": "stderr",
     "output_type": "stream",
     "text": [
      "Valid:\tEpoch: 1/20 Valid Loss: 1.2504, Valid Acc: 0.0324:  85%|████████▍ | 28/33 [00:03<00:00,  8.85it/s]"
     ]
    },
    {
     "name": "stdout",
     "output_type": "stream",
     "text": [
      "pos_correct: 2, neg_correct: 28\n",
      "pos_correct: 1, neg_correct: 26\n"
     ]
    },
    {
     "name": "stderr",
     "output_type": "stream",
     "text": [
      "Valid:\tEpoch: 1/20 Valid Loss: 1.2566, Valid Acc: 0.0333:  91%|█████████ | 30/33 [00:03<00:00,  8.85it/s]"
     ]
    },
    {
     "name": "stdout",
     "output_type": "stream",
     "text": [
      "pos_correct: 2, neg_correct: 31\n",
      "pos_correct: 4, neg_correct: 31\n"
     ]
    },
    {
     "name": "stderr",
     "output_type": "stream",
     "text": [
      "Valid:\tEpoch: 1/20 Valid Loss: 1.2667, Valid Acc: 0.0341:  97%|█████████▋| 32/33 [00:03<00:00,  8.84it/s]"
     ]
    },
    {
     "name": "stdout",
     "output_type": "stream",
     "text": [
      "pos_correct: 3, neg_correct: 31\n",
      "pos_correct: 4, neg_correct: 29\n",
      "pos_correct: 0, neg_correct: 14\n"
     ]
    },
    {
     "name": "stderr",
     "output_type": "stream",
     "text": [
      "Valid:\tEpoch: 1/20 Valid Loss: 1.2667, Valid Acc: 0.0341: 100%|██████████| 33/33 [00:03<00:00,  8.98it/s]\n"
     ]
    },
    {
     "name": "stdout",
     "output_type": "stream",
     "text": [
      "\n",
      "Model Improved... Saving Model ... Done.\n",
      "\n",
      "========================================================================\n",
      "\n"
     ]
    },
    {
     "name": "stderr",
     "output_type": "stream",
     "text": [
      "Train:\tEpoch: 2/20 Train Loss: 0.0588, Train Acc: 0.6159: 100%|██████████| 162/162 [00:48<00:00,  3.37it/s]\n",
      "Valid:\tEpoch: 2/20 Valid Loss: 1.4570, Valid Acc: 0.0156:   6%|▌         | 2/33 [00:00<00:03,  8.39it/s]"
     ]
    },
    {
     "name": "stdout",
     "output_type": "stream",
     "text": [
      "pos_correct: 0, neg_correct: 32\n",
      "pos_correct: 2, neg_correct: 29\n"
     ]
    },
    {
     "name": "stderr",
     "output_type": "stream",
     "text": [
      "Valid:\tEpoch: 2/20 Valid Loss: 1.4929, Valid Acc: 0.0195:  12%|█▏        | 4/33 [00:00<00:03,  8.58it/s]"
     ]
    },
    {
     "name": "stdout",
     "output_type": "stream",
     "text": [
      "pos_correct: 0, neg_correct: 30\n",
      "pos_correct: 3, neg_correct: 28\n"
     ]
    },
    {
     "name": "stderr",
     "output_type": "stream",
     "text": [
      "Valid:\tEpoch: 2/20 Valid Loss: 1.5508, Valid Acc: 0.0286:  18%|█▊        | 6/33 [00:00<00:02,  9.02it/s]"
     ]
    },
    {
     "name": "stdout",
     "output_type": "stream",
     "text": [
      "pos_correct: 1, neg_correct: 26\n",
      "pos_correct: 5, neg_correct: 28\n"
     ]
    },
    {
     "name": "stderr",
     "output_type": "stream",
     "text": [
      "Valid:\tEpoch: 2/20 Valid Loss: 1.5374, Valid Acc: 0.0410:  24%|██▍       | 8/33 [00:00<00:02,  9.18it/s]"
     ]
    },
    {
     "name": "stdout",
     "output_type": "stream",
     "text": [
      "pos_correct: 6, neg_correct: 29\n",
      "pos_correct: 4, neg_correct: 28\n"
     ]
    },
    {
     "name": "stderr",
     "output_type": "stream",
     "text": [
      "Valid:\tEpoch: 2/20 Valid Loss: 1.4923, Valid Acc: 0.0484:  30%|███       | 10/33 [00:01<00:02,  9.31it/s]"
     ]
    },
    {
     "name": "stdout",
     "output_type": "stream",
     "text": [
      "pos_correct: 7, neg_correct: 29\n",
      "pos_correct: 3, neg_correct: 26\n"
     ]
    },
    {
     "name": "stderr",
     "output_type": "stream",
     "text": [
      "Valid:\tEpoch: 2/20 Valid Loss: 1.4626, Valid Acc: 0.0508:  36%|███▋      | 12/33 [00:01<00:02,  9.09it/s]"
     ]
    },
    {
     "name": "stdout",
     "output_type": "stream",
     "text": [
      "pos_correct: 5, neg_correct: 30\n",
      "pos_correct: 3, neg_correct: 29\n"
     ]
    },
    {
     "name": "stderr",
     "output_type": "stream",
     "text": [
      "Valid:\tEpoch: 2/20 Valid Loss: 1.4594, Valid Acc: 0.0525:  42%|████▏     | 14/33 [00:01<00:02,  9.06it/s]"
     ]
    },
    {
     "name": "stdout",
     "output_type": "stream",
     "text": [
      "pos_correct: 3, neg_correct: 30\n",
      "pos_correct: 5, neg_correct: 28\n"
     ]
    },
    {
     "name": "stderr",
     "output_type": "stream",
     "text": [
      "Valid:\tEpoch: 2/20 Valid Loss: 1.4652, Valid Acc: 0.0557:  48%|████▊     | 16/33 [00:01<00:02,  8.43it/s]"
     ]
    },
    {
     "name": "stdout",
     "output_type": "stream",
     "text": [
      "pos_correct: 7, neg_correct: 29\n",
      "pos_correct: 3, neg_correct: 26\n"
     ]
    },
    {
     "name": "stderr",
     "output_type": "stream",
     "text": [
      "Valid:\tEpoch: 2/20 Valid Loss: 1.4557, Valid Acc: 0.0521:  55%|█████▍    | 18/33 [00:02<00:01,  8.45it/s]"
     ]
    },
    {
     "name": "stdout",
     "output_type": "stream",
     "text": [
      "pos_correct: 1, neg_correct: 28\n",
      "pos_correct: 2, neg_correct: 29\n"
     ]
    },
    {
     "name": "stderr",
     "output_type": "stream",
     "text": [
      "Valid:\tEpoch: 2/20 Valid Loss: 1.4314, Valid Acc: 0.0551:  61%|██████    | 20/33 [00:02<00:01,  8.64it/s]"
     ]
    },
    {
     "name": "stdout",
     "output_type": "stream",
     "text": [
      "pos_correct: 5, neg_correct: 29\n",
      "pos_correct: 3, neg_correct: 27\n",
      "pos_correct: 6, neg_correct: 30\n"
     ]
    },
    {
     "name": "stderr",
     "output_type": "stream",
     "text": [
      "Valid:\tEpoch: 2/20 Valid Loss: 1.4063, Valid Acc: 0.0557:  70%|██████▉   | 23/33 [00:02<00:01,  9.15it/s]"
     ]
    },
    {
     "name": "stdout",
     "output_type": "stream",
     "text": [
      "pos_correct: 4, neg_correct: 32\n",
      "pos_correct: 4, neg_correct: 31\n"
     ]
    },
    {
     "name": "stderr",
     "output_type": "stream",
     "text": [
      "Valid:\tEpoch: 2/20 Valid Loss: 1.4048, Valid Acc: 0.0563:  76%|███████▌  | 25/33 [00:02<00:00,  9.05it/s]"
     ]
    },
    {
     "name": "stdout",
     "output_type": "stream",
     "text": [
      "pos_correct: 4, neg_correct: 26\n",
      "pos_correct: 4, neg_correct: 27\n"
     ]
    },
    {
     "name": "stderr",
     "output_type": "stream",
     "text": [
      "Valid:\tEpoch: 2/20 Valid Loss: 1.3951, Valid Acc: 0.0550:  82%|████████▏ | 27/33 [00:03<00:00,  8.98it/s]"
     ]
    },
    {
     "name": "stdout",
     "output_type": "stream",
     "text": [
      "pos_correct: 5, neg_correct: 30\n",
      "pos_correct: 0, neg_correct: 30\n"
     ]
    },
    {
     "name": "stderr",
     "output_type": "stream",
     "text": [
      "Valid:\tEpoch: 2/20 Valid Loss: 1.3680, Valid Acc: 0.0555:  88%|████████▊ | 29/33 [00:03<00:00,  8.53it/s]"
     ]
    },
    {
     "name": "stdout",
     "output_type": "stream",
     "text": [
      "pos_correct: 5, neg_correct: 30\n",
      "pos_correct: 3, neg_correct: 30\n"
     ]
    },
    {
     "name": "stderr",
     "output_type": "stream",
     "text": [
      "Valid:\tEpoch: 2/20 Valid Loss: 1.3859, Valid Acc: 0.0554:  94%|█████████▍| 31/33 [00:03<00:00,  8.76it/s]"
     ]
    },
    {
     "name": "stdout",
     "output_type": "stream",
     "text": [
      "pos_correct: 6, neg_correct: 29\n",
      "pos_correct: 1, neg_correct: 27\n"
     ]
    },
    {
     "name": "stderr",
     "output_type": "stream",
     "text": [
      "Valid:\tEpoch: 2/20 Valid Loss: 1.3853, Valid Acc: 0.0548: 100%|██████████| 33/33 [00:03<00:00,  8.90it/s]\n"
     ]
    },
    {
     "name": "stdout",
     "output_type": "stream",
     "text": [
      "pos_correct: 2, neg_correct: 30\n",
      "pos_correct: 2, neg_correct: 15\n",
      "========================================================================\n",
      "\n"
     ]
    },
    {
     "name": "stderr",
     "output_type": "stream",
     "text": [
      "Train:\tEpoch: 3/20 Train Loss: 0.0330, Train Acc: 0.6530: 100%|██████████| 162/162 [00:50<00:00,  3.19it/s]\n",
      "Valid:\tEpoch: 3/20 Valid Loss: 1.2716, Valid Acc: 0.0625:   6%|▌         | 2/33 [00:00<00:04,  6.54it/s]"
     ]
    },
    {
     "name": "stdout",
     "output_type": "stream",
     "text": [
      "pos_correct: 2, neg_correct: 20\n",
      "pos_correct: 6, neg_correct: 28\n"
     ]
    },
    {
     "name": "stderr",
     "output_type": "stream",
     "text": [
      "Valid:\tEpoch: 3/20 Valid Loss: 1.3115, Valid Acc: 0.0586:  12%|█▏        | 4/33 [00:00<00:03,  8.17it/s]"
     ]
    },
    {
     "name": "stdout",
     "output_type": "stream",
     "text": [
      "pos_correct: 2, neg_correct: 28\n",
      "pos_correct: 5, neg_correct: 29\n"
     ]
    },
    {
     "name": "stderr",
     "output_type": "stream",
     "text": [
      "Valid:\tEpoch: 3/20 Valid Loss: 1.3033, Valid Acc: 0.0573:  18%|█▊        | 6/33 [00:00<00:03,  8.56it/s]"
     ]
    },
    {
     "name": "stdout",
     "output_type": "stream",
     "text": [
      "pos_correct: 3, neg_correct: 31\n",
      "pos_correct: 4, neg_correct: 22\n"
     ]
    },
    {
     "name": "stderr",
     "output_type": "stream",
     "text": [
      "Valid:\tEpoch: 3/20 Valid Loss: 1.3763, Valid Acc: 0.0488:  24%|██▍       | 8/33 [00:00<00:02,  8.88it/s]"
     ]
    },
    {
     "name": "stdout",
     "output_type": "stream",
     "text": [
      "pos_correct: 2, neg_correct: 26\n",
      "pos_correct: 1, neg_correct: 23\n"
     ]
    },
    {
     "name": "stderr",
     "output_type": "stream",
     "text": [
      "Valid:\tEpoch: 3/20 Valid Loss: 1.3704, Valid Acc: 0.0547:  30%|███       | 10/33 [00:01<00:02,  8.97it/s]"
     ]
    },
    {
     "name": "stdout",
     "output_type": "stream",
     "text": [
      "pos_correct: 4, neg_correct: 28\n",
      "pos_correct: 6, neg_correct: 30\n"
     ]
    },
    {
     "name": "stderr",
     "output_type": "stream",
     "text": [
      "Valid:\tEpoch: 3/20 Valid Loss: 1.3697, Valid Acc: 0.0560:  36%|███▋      | 12/33 [00:01<00:02,  9.03it/s]"
     ]
    },
    {
     "name": "stdout",
     "output_type": "stream",
     "text": [
      "pos_correct: 6, neg_correct: 29\n",
      "pos_correct: 2, neg_correct: 27\n"
     ]
    },
    {
     "name": "stderr",
     "output_type": "stream",
     "text": [
      "Valid:\tEpoch: 3/20 Valid Loss: 1.3979, Valid Acc: 0.0547:  42%|████▏     | 14/33 [00:01<00:02,  9.09it/s]"
     ]
    },
    {
     "name": "stdout",
     "output_type": "stream",
     "text": [
      "pos_correct: 1, neg_correct: 27\n",
      "pos_correct: 5, neg_correct: 27\n"
     ]
    },
    {
     "name": "stderr",
     "output_type": "stream",
     "text": [
      "Valid:\tEpoch: 3/20 Valid Loss: 1.4344, Valid Acc: 0.0518:  48%|████▊     | 16/33 [00:01<00:02,  8.09it/s]"
     ]
    },
    {
     "name": "stdout",
     "output_type": "stream",
     "text": [
      "pos_correct: 1, neg_correct: 30\n",
      "pos_correct: 3, neg_correct: 25\n"
     ]
    },
    {
     "name": "stderr",
     "output_type": "stream",
     "text": [
      "Valid:\tEpoch: 3/20 Valid Loss: 1.4136, Valid Acc: 0.0547:  55%|█████▍    | 18/33 [00:02<00:01,  7.56it/s]"
     ]
    },
    {
     "name": "stdout",
     "output_type": "stream",
     "text": [
      "pos_correct: 5, neg_correct: 28\n",
      "pos_correct: 5, neg_correct: 31\n"
     ]
    },
    {
     "name": "stderr",
     "output_type": "stream",
     "text": [
      "Valid:\tEpoch: 3/20 Valid Loss: 1.3915, Valid Acc: 0.0586:  61%|██████    | 20/33 [00:02<00:01,  8.04it/s]"
     ]
    },
    {
     "name": "stdout",
     "output_type": "stream",
     "text": [
      "pos_correct: 5, neg_correct: 30\n",
      "pos_correct: 7, neg_correct: 28\n"
     ]
    },
    {
     "name": "stderr",
     "output_type": "stream",
     "text": [
      "Valid:\tEpoch: 3/20 Valid Loss: 1.3632, Valid Acc: 0.0632:  67%|██████▋   | 22/33 [00:02<00:01,  8.41it/s]"
     ]
    },
    {
     "name": "stdout",
     "output_type": "stream",
     "text": [
      "pos_correct: 8, neg_correct: 29\n",
      "pos_correct: 6, neg_correct: 27\n"
     ]
    },
    {
     "name": "stderr",
     "output_type": "stream",
     "text": [
      "Valid:\tEpoch: 3/20 Valid Loss: 1.4049, Valid Acc: 0.0625:  73%|███████▎  | 24/33 [00:02<00:01,  8.67it/s]"
     ]
    },
    {
     "name": "stdout",
     "output_type": "stream",
     "text": [
      "pos_correct: 4, neg_correct: 20\n",
      "pos_correct: 3, neg_correct: 26\n"
     ]
    },
    {
     "name": "stderr",
     "output_type": "stream",
     "text": [
      "Valid:\tEpoch: 3/20 Valid Loss: 1.3813, Valid Acc: 0.0643:  79%|███████▉  | 26/33 [00:03<00:00,  8.66it/s]"
     ]
    },
    {
     "name": "stdout",
     "output_type": "stream",
     "text": [
      "pos_correct: 3, neg_correct: 27\n",
      "pos_correct: 8, neg_correct: 27\n"
     ]
    },
    {
     "name": "stderr",
     "output_type": "stream",
     "text": [
      "Valid:\tEpoch: 3/20 Valid Loss: 1.3697, Valid Acc: 0.0614:  85%|████████▍ | 28/33 [00:03<00:00,  8.82it/s]"
     ]
    },
    {
     "name": "stdout",
     "output_type": "stream",
     "text": [
      "pos_correct: 2, neg_correct: 26\n",
      "pos_correct: 1, neg_correct: 28\n"
     ]
    },
    {
     "name": "stderr",
     "output_type": "stream",
     "text": [
      "Valid:\tEpoch: 3/20 Valid Loss: 1.3772, Valid Acc: 0.0594:  88%|████████▊ | 29/33 [00:03<00:00,  9.05it/s]"
     ]
    },
    {
     "name": "stdout",
     "output_type": "stream",
     "text": [
      "pos_correct: 2, neg_correct: 27\n",
      "pos_correct: 2, neg_correct: 27\n"
     ]
    },
    {
     "name": "stderr",
     "output_type": "stream",
     "text": [
      "Valid:\tEpoch: 3/20 Valid Loss: 1.3618, Valid Acc: 0.0611: 100%|██████████| 33/33 [00:03<00:00,  8.44it/s]\n"
     ]
    },
    {
     "name": "stdout",
     "output_type": "stream",
     "text": [
      "pos_correct: 6, neg_correct: 26\n",
      "pos_correct: 6, neg_correct: 24\n",
      "pos_correct: 1, neg_correct: 13\n",
      "========================================================================\n",
      "\n"
     ]
    },
    {
     "name": "stderr",
     "output_type": "stream",
     "text": [
      "Train:\tEpoch: 4/20 Train Loss: 0.0414, Train Acc: 0.6688: 100%|██████████| 162/162 [00:51<00:00,  3.17it/s]\n",
      "Valid:\tEpoch: 4/20 Valid Loss: 1.0944, Valid Acc: 0.0938:   6%|▌         | 2/33 [00:00<00:04,  7.47it/s]"
     ]
    },
    {
     "name": "stdout",
     "output_type": "stream",
     "text": [
      "pos_correct: 6, neg_correct: 30\n",
      "pos_correct: 6, neg_correct: 28\n"
     ]
    },
    {
     "name": "stderr",
     "output_type": "stream",
     "text": [
      "Valid:\tEpoch: 4/20 Valid Loss: 1.1987, Valid Acc: 0.0781:  12%|█▏        | 4/33 [00:00<00:03,  7.98it/s]"
     ]
    },
    {
     "name": "stdout",
     "output_type": "stream",
     "text": [
      "pos_correct: 3, neg_correct: 24\n",
      "pos_correct: 5, neg_correct: 29\n"
     ]
    },
    {
     "name": "stderr",
     "output_type": "stream",
     "text": [
      "Valid:\tEpoch: 4/20 Valid Loss: 1.2416, Valid Acc: 0.0807:  18%|█▊        | 6/33 [00:00<00:03,  8.00it/s]"
     ]
    },
    {
     "name": "stdout",
     "output_type": "stream",
     "text": [
      "pos_correct: 3, neg_correct: 29\n",
      "pos_correct: 8, neg_correct: 27\n"
     ]
    },
    {
     "name": "stderr",
     "output_type": "stream",
     "text": [
      "Valid:\tEpoch: 4/20 Valid Loss: 1.2261, Valid Acc: 0.0918:  24%|██▍       | 8/33 [00:01<00:03,  8.19it/s]"
     ]
    },
    {
     "name": "stdout",
     "output_type": "stream",
     "text": [
      "pos_correct: 8, neg_correct: 25\n",
      "pos_correct: 8, neg_correct: 29\n"
     ]
    },
    {
     "name": "stderr",
     "output_type": "stream",
     "text": [
      "Valid:\tEpoch: 4/20 Valid Loss: 1.2669, Valid Acc: 0.0828:  30%|███       | 10/33 [00:01<00:02,  8.39it/s]"
     ]
    },
    {
     "name": "stdout",
     "output_type": "stream",
     "text": [
      "pos_correct: 4, neg_correct: 29\n",
      "pos_correct: 2, neg_correct: 26\n"
     ]
    },
    {
     "name": "stderr",
     "output_type": "stream",
     "text": [
      "Valid:\tEpoch: 4/20 Valid Loss: 1.2602, Valid Acc: 0.0820:  36%|███▋      | 12/33 [00:01<00:02,  8.42it/s]"
     ]
    },
    {
     "name": "stdout",
     "output_type": "stream",
     "text": [
      "pos_correct: 5, neg_correct: 21\n",
      "pos_correct: 5, neg_correct: 32\n"
     ]
    },
    {
     "name": "stderr",
     "output_type": "stream",
     "text": [
      "Valid:\tEpoch: 4/20 Valid Loss: 1.3341, Valid Acc: 0.0737:  42%|████▏     | 14/33 [00:01<00:02,  8.45it/s]"
     ]
    },
    {
     "name": "stdout",
     "output_type": "stream",
     "text": [
      "pos_correct: 3, neg_correct: 25\n",
      "pos_correct: 0, neg_correct: 22\n"
     ]
    },
    {
     "name": "stderr",
     "output_type": "stream",
     "text": [
      "Valid:\tEpoch: 4/20 Valid Loss: 1.3823, Valid Acc: 0.0703:  48%|████▊     | 16/33 [00:01<00:02,  8.31it/s]"
     ]
    },
    {
     "name": "stdout",
     "output_type": "stream",
     "text": [
      "pos_correct: 3, neg_correct: 24\n",
      "pos_correct: 3, neg_correct: 27\n"
     ]
    },
    {
     "name": "stderr",
     "output_type": "stream",
     "text": [
      "Valid:\tEpoch: 4/20 Valid Loss: 1.3726, Valid Acc: 0.0747:  55%|█████▍    | 18/33 [00:02<00:01,  8.37it/s]"
     ]
    },
    {
     "name": "stdout",
     "output_type": "stream",
     "text": [
      "pos_correct: 6, neg_correct: 30\n",
      "pos_correct: 8, neg_correct: 28\n"
     ]
    },
    {
     "name": "stderr",
     "output_type": "stream",
     "text": [
      "Valid:\tEpoch: 4/20 Valid Loss: 1.3789, Valid Acc: 0.0727:  61%|██████    | 20/33 [00:02<00:01,  8.65it/s]"
     ]
    },
    {
     "name": "stdout",
     "output_type": "stream",
     "text": [
      "pos_correct: 4, neg_correct: 27\n",
      "pos_correct: 3, neg_correct: 28\n"
     ]
    },
    {
     "name": "stderr",
     "output_type": "stream",
     "text": [
      "Valid:\tEpoch: 4/20 Valid Loss: 1.3867, Valid Acc: 0.0724:  67%|██████▋   | 22/33 [00:02<00:01,  8.71it/s]"
     ]
    },
    {
     "name": "stdout",
     "output_type": "stream",
     "text": [
      "pos_correct: 2, neg_correct: 31\n",
      "pos_correct: 7, neg_correct: 27\n"
     ]
    },
    {
     "name": "stderr",
     "output_type": "stream",
     "text": [
      "Valid:\tEpoch: 4/20 Valid Loss: 1.3932, Valid Acc: 0.0710:  73%|███████▎  | 24/33 [00:02<00:01,  8.29it/s]"
     ]
    },
    {
     "name": "stdout",
     "output_type": "stream",
     "text": [
      "pos_correct: 3, neg_correct: 28\n",
      "pos_correct: 4, neg_correct: 31\n"
     ]
    },
    {
     "name": "stderr",
     "output_type": "stream",
     "text": [
      "Valid:\tEpoch: 4/20 Valid Loss: 1.3955, Valid Acc: 0.0709:  79%|███████▉  | 26/33 [00:03<00:00,  8.19it/s]"
     ]
    },
    {
     "name": "stdout",
     "output_type": "stream",
     "text": [
      "pos_correct: 6, neg_correct: 27\n",
      "pos_correct: 3, neg_correct: 29\n"
     ]
    },
    {
     "name": "stderr",
     "output_type": "stream",
     "text": [
      "Valid:\tEpoch: 4/20 Valid Loss: 1.3997, Valid Acc: 0.0714:  85%|████████▍ | 28/33 [00:03<00:00,  8.57it/s]"
     ]
    },
    {
     "name": "stdout",
     "output_type": "stream",
     "text": [
      "pos_correct: 7, neg_correct: 28\n",
      "pos_correct: 3, neg_correct: 28\n"
     ]
    },
    {
     "name": "stderr",
     "output_type": "stream",
     "text": [
      "Valid:\tEpoch: 4/20 Valid Loss: 1.4034, Valid Acc: 0.0698:  91%|█████████ | 30/33 [00:03<00:00,  8.37it/s]"
     ]
    },
    {
     "name": "stdout",
     "output_type": "stream",
     "text": [
      "pos_correct: 3, neg_correct: 29\n",
      "pos_correct: 3, neg_correct: 26\n"
     ]
    },
    {
     "name": "stderr",
     "output_type": "stream",
     "text": [
      "Valid:\tEpoch: 4/20 Valid Loss: 1.4127, Valid Acc: 0.0718:  97%|█████████▋| 32/33 [00:03<00:00,  8.33it/s]"
     ]
    },
    {
     "name": "stdout",
     "output_type": "stream",
     "text": [
      "pos_correct: 8, neg_correct: 29\n",
      "pos_correct: 5, neg_correct: 29\n"
     ]
    },
    {
     "name": "stderr",
     "output_type": "stream",
     "text": [
      "Valid:\tEpoch: 4/20 Valid Loss: 1.4184, Valid Acc: 0.0716: 100%|██████████| 33/33 [00:03<00:00,  8.36it/s]\n"
     ]
    },
    {
     "name": "stdout",
     "output_type": "stream",
     "text": [
      "pos_correct: 2, neg_correct: 14\n",
      "========================================================================\n",
      "\n"
     ]
    },
    {
     "name": "stderr",
     "output_type": "stream",
     "text": [
      "Train:\tEpoch: 5/20 Train Loss: 0.0307, Train Acc: 0.6691: 100%|██████████| 162/162 [00:51<00:00,  3.13it/s]\n",
      "Valid:\tEpoch: 5/20 Valid Loss: 1.2626, Valid Acc: 0.0781:   6%|▌         | 2/33 [00:00<00:04,  6.78it/s]"
     ]
    },
    {
     "name": "stdout",
     "output_type": "stream",
     "text": [
      "pos_correct: 5, neg_correct: 28\n",
      "pos_correct: 5, neg_correct: 27\n"
     ]
    },
    {
     "name": "stderr",
     "output_type": "stream",
     "text": [
      "Valid:\tEpoch: 5/20 Valid Loss: 1.1811, Valid Acc: 0.0859:  12%|█▏        | 4/33 [00:00<00:04,  6.84it/s]"
     ]
    },
    {
     "name": "stdout",
     "output_type": "stream",
     "text": [
      "pos_correct: 8, neg_correct: 31\n",
      "pos_correct: 4, neg_correct: 29\n"
     ]
    },
    {
     "name": "stderr",
     "output_type": "stream",
     "text": [
      "Valid:\tEpoch: 5/20 Valid Loss: 1.2493, Valid Acc: 0.0677:  18%|█▊        | 6/33 [00:00<00:03,  6.80it/s]"
     ]
    },
    {
     "name": "stdout",
     "output_type": "stream",
     "text": [
      "pos_correct: 1, neg_correct: 29\n",
      "pos_correct: 3, neg_correct: 29\n"
     ]
    },
    {
     "name": "stderr",
     "output_type": "stream",
     "text": [
      "Valid:\tEpoch: 5/20 Valid Loss: 1.2434, Valid Acc: 0.0703:  24%|██▍       | 8/33 [00:01<00:03,  6.84it/s]"
     ]
    },
    {
     "name": "stdout",
     "output_type": "stream",
     "text": [
      "pos_correct: 3, neg_correct: 28\n",
      "pos_correct: 7, neg_correct: 28\n"
     ]
    },
    {
     "name": "stderr",
     "output_type": "stream",
     "text": [
      "Valid:\tEpoch: 5/20 Valid Loss: 1.2927, Valid Acc: 0.0672:  30%|███       | 10/33 [00:01<00:03,  7.00it/s]"
     ]
    },
    {
     "name": "stdout",
     "output_type": "stream",
     "text": [
      "pos_correct: 5, neg_correct: 25\n",
      "pos_correct: 2, neg_correct: 28\n"
     ]
    },
    {
     "name": "stderr",
     "output_type": "stream",
     "text": [
      "Valid:\tEpoch: 5/20 Valid Loss: 1.3403, Valid Acc: 0.0625:  36%|███▋      | 12/33 [00:01<00:03,  6.98it/s]"
     ]
    },
    {
     "name": "stdout",
     "output_type": "stream",
     "text": [
      "pos_correct: 2, neg_correct: 27\n",
      "pos_correct: 3, neg_correct: 30\n"
     ]
    },
    {
     "name": "stderr",
     "output_type": "stream",
     "text": [
      "Valid:\tEpoch: 5/20 Valid Loss: 1.3133, Valid Acc: 0.0658:  42%|████▏     | 14/33 [00:02<00:02,  7.29it/s]"
     ]
    },
    {
     "name": "stdout",
     "output_type": "stream",
     "text": [
      "pos_correct: 3, neg_correct: 27\n",
      "pos_correct: 8, neg_correct: 30\n"
     ]
    },
    {
     "name": "stderr",
     "output_type": "stream",
     "text": [
      "Valid:\tEpoch: 5/20 Valid Loss: 1.3323, Valid Acc: 0.0635:  48%|████▊     | 16/33 [00:02<00:02,  7.22it/s]"
     ]
    },
    {
     "name": "stdout",
     "output_type": "stream",
     "text": [
      "pos_correct: 4, neg_correct: 30\n",
      "pos_correct: 2, neg_correct: 29\n"
     ]
    },
    {
     "name": "stderr",
     "output_type": "stream",
     "text": [
      "Valid:\tEpoch: 5/20 Valid Loss: 1.3706, Valid Acc: 0.0625:  55%|█████▍    | 18/33 [00:02<00:02,  6.91it/s]"
     ]
    },
    {
     "name": "stdout",
     "output_type": "stream",
     "text": [
      "pos_correct: 5, neg_correct: 28\n",
      "pos_correct: 2, neg_correct: 28\n"
     ]
    },
    {
     "name": "stderr",
     "output_type": "stream",
     "text": [
      "Valid:\tEpoch: 5/20 Valid Loss: 1.4056, Valid Acc: 0.0609:  61%|██████    | 20/33 [00:02<00:01,  7.27it/s]"
     ]
    },
    {
     "name": "stdout",
     "output_type": "stream",
     "text": [
      "pos_correct: 1, neg_correct: 26\n",
      "pos_correct: 5, neg_correct: 30\n"
     ]
    },
    {
     "name": "stderr",
     "output_type": "stream",
     "text": [
      "Valid:\tEpoch: 5/20 Valid Loss: 1.4270, Valid Acc: 0.0618:  67%|██████▋   | 22/33 [00:03<00:01,  7.20it/s]"
     ]
    },
    {
     "name": "stdout",
     "output_type": "stream",
     "text": [
      "pos_correct: 3, neg_correct: 24\n",
      "pos_correct: 6, neg_correct: 26\n"
     ]
    },
    {
     "name": "stderr",
     "output_type": "stream",
     "text": [
      "Valid:\tEpoch: 5/20 Valid Loss: 1.4107, Valid Acc: 0.0586:  73%|███████▎  | 24/33 [00:03<00:01,  7.32it/s]"
     ]
    },
    {
     "name": "stdout",
     "output_type": "stream",
     "text": [
      "pos_correct: 1, neg_correct: 29\n",
      "pos_correct: 2, neg_correct: 29\n"
     ]
    },
    {
     "name": "stderr",
     "output_type": "stream",
     "text": [
      "Valid:\tEpoch: 5/20 Valid Loss: 1.3981, Valid Acc: 0.0577:  79%|███████▉  | 26/33 [00:03<00:00,  7.16it/s]"
     ]
    },
    {
     "name": "stdout",
     "output_type": "stream",
     "text": [
      "pos_correct: 2, neg_correct: 31\n",
      "pos_correct: 4, neg_correct: 30\n"
     ]
    },
    {
     "name": "stderr",
     "output_type": "stream",
     "text": [
      "Valid:\tEpoch: 5/20 Valid Loss: 1.4348, Valid Acc: 0.0575:  85%|████████▍ | 28/33 [00:03<00:00,  7.40it/s]"
     ]
    },
    {
     "name": "stdout",
     "output_type": "stream",
     "text": [
      "pos_correct: 3, neg_correct: 28\n",
      "pos_correct: 4, neg_correct: 26\n"
     ]
    },
    {
     "name": "stderr",
     "output_type": "stream",
     "text": [
      "Valid:\tEpoch: 5/20 Valid Loss: 1.4233, Valid Acc: 0.0573:  91%|█████████ | 30/33 [00:04<00:00,  7.76it/s]"
     ]
    },
    {
     "name": "stdout",
     "output_type": "stream",
     "text": [
      "pos_correct: 4, neg_correct: 27\n",
      "pos_correct: 3, neg_correct: 27\n"
     ]
    },
    {
     "name": "stderr",
     "output_type": "stream",
     "text": [
      "Valid:\tEpoch: 5/20 Valid Loss: 1.4277, Valid Acc: 0.0557:  97%|█████████▋| 32/33 [00:04<00:00,  7.64it/s]"
     ]
    },
    {
     "name": "stdout",
     "output_type": "stream",
     "text": [
      "pos_correct: 3, neg_correct: 27\n",
      "pos_correct: 1, neg_correct: 29\n"
     ]
    },
    {
     "name": "stderr",
     "output_type": "stream",
     "text": [
      "Valid:\tEpoch: 5/20 Valid Loss: 1.4303, Valid Acc: 0.0553: 100%|██████████| 33/33 [00:04<00:00,  7.21it/s]\n"
     ]
    },
    {
     "name": "stdout",
     "output_type": "stream",
     "text": [
      "pos_correct: 1, neg_correct: 14\n",
      "========================================================================\n",
      "\n"
     ]
    },
    {
     "name": "stderr",
     "output_type": "stream",
     "text": [
      "Train:\tEpoch: 6/20 Train Loss: 0.0403, Train Acc: 0.6733: 100%|██████████| 162/162 [00:52<00:00,  3.11it/s]\n",
      "Valid:\tEpoch: 6/20 Valid Loss: 1.5739, Valid Acc: 0.0625:   6%|▌         | 2/33 [00:00<00:04,  6.67it/s]"
     ]
    },
    {
     "name": "stdout",
     "output_type": "stream",
     "text": [
      "pos_correct: 4, neg_correct: 25\n",
      "pos_correct: 4, neg_correct: 27\n"
     ]
    },
    {
     "name": "stderr",
     "output_type": "stream",
     "text": [
      "Valid:\tEpoch: 6/20 Valid Loss: 1.5982, Valid Acc: 0.0625:  12%|█▏        | 4/33 [00:00<00:04,  6.84it/s]"
     ]
    },
    {
     "name": "stdout",
     "output_type": "stream",
     "text": [
      "pos_correct: 6, neg_correct: 29\n",
      "pos_correct: 2, neg_correct: 25\n"
     ]
    },
    {
     "name": "stderr",
     "output_type": "stream",
     "text": [
      "Valid:\tEpoch: 6/20 Valid Loss: 1.5451, Valid Acc: 0.0677:  18%|█▊        | 6/33 [00:00<00:04,  6.67it/s]"
     ]
    },
    {
     "name": "stdout",
     "output_type": "stream",
     "text": [
      "pos_correct: 6, neg_correct: 27\n",
      "pos_correct: 4, neg_correct: 23\n"
     ]
    },
    {
     "name": "stderr",
     "output_type": "stream",
     "text": [
      "Valid:\tEpoch: 6/20 Valid Loss: 1.5529, Valid Acc: 0.0762:  24%|██▍       | 8/33 [00:01<00:03,  6.79it/s]"
     ]
    },
    {
     "name": "stdout",
     "output_type": "stream",
     "text": [
      "pos_correct: 3, neg_correct: 26\n",
      "pos_correct: 10, neg_correct: 27\n"
     ]
    },
    {
     "name": "stderr",
     "output_type": "stream",
     "text": [
      "Valid:\tEpoch: 6/20 Valid Loss: 1.5565, Valid Acc: 0.0719:  30%|███       | 10/33 [00:01<00:03,  6.81it/s]"
     ]
    },
    {
     "name": "stdout",
     "output_type": "stream",
     "text": [
      "pos_correct: 2, neg_correct: 28\n",
      "pos_correct: 5, neg_correct: 28\n"
     ]
    },
    {
     "name": "stderr",
     "output_type": "stream",
     "text": [
      "Valid:\tEpoch: 6/20 Valid Loss: 1.5336, Valid Acc: 0.0755:  36%|███▋      | 12/33 [00:01<00:03,  6.98it/s]"
     ]
    },
    {
     "name": "stdout",
     "output_type": "stream",
     "text": [
      "pos_correct: 6, neg_correct: 28\n",
      "pos_correct: 6, neg_correct: 27\n"
     ]
    },
    {
     "name": "stderr",
     "output_type": "stream",
     "text": [
      "Valid:\tEpoch: 6/20 Valid Loss: 1.5450, Valid Acc: 0.0714:  42%|████▏     | 14/33 [00:02<00:02,  6.93it/s]"
     ]
    },
    {
     "name": "stdout",
     "output_type": "stream",
     "text": [
      "pos_correct: 2, neg_correct: 24\n",
      "pos_correct: 4, neg_correct: 31\n"
     ]
    },
    {
     "name": "stderr",
     "output_type": "stream",
     "text": [
      "Valid:\tEpoch: 6/20 Valid Loss: 1.5363, Valid Acc: 0.0742:  48%|████▊     | 16/33 [00:02<00:02,  6.48it/s]"
     ]
    },
    {
     "name": "stdout",
     "output_type": "stream",
     "text": [
      "pos_correct: 6, neg_correct: 31\n",
      "pos_correct: 6, neg_correct: 26\n"
     ]
    },
    {
     "name": "stderr",
     "output_type": "stream",
     "text": [
      "Valid:\tEpoch: 6/20 Valid Loss: 1.5513, Valid Acc: 0.0764:  55%|█████▍    | 18/33 [00:02<00:02,  6.69it/s]"
     ]
    },
    {
     "name": "stdout",
     "output_type": "stream",
     "text": [
      "pos_correct: 6, neg_correct: 28\n",
      "pos_correct: 6, neg_correct: 28\n"
     ]
    },
    {
     "name": "stderr",
     "output_type": "stream",
     "text": [
      "Valid:\tEpoch: 6/20 Valid Loss: 1.5330, Valid Acc: 0.0797:  61%|██████    | 20/33 [00:02<00:01,  7.16it/s]"
     ]
    },
    {
     "name": "stdout",
     "output_type": "stream",
     "text": [
      "pos_correct: 5, neg_correct: 26\n",
      "pos_correct: 9, neg_correct: 27\n"
     ]
    },
    {
     "name": "stderr",
     "output_type": "stream",
     "text": [
      "Valid:\tEpoch: 6/20 Valid Loss: 1.5240, Valid Acc: 0.0810:  67%|██████▋   | 22/33 [00:03<00:01,  7.13it/s]"
     ]
    },
    {
     "name": "stdout",
     "output_type": "stream",
     "text": [
      "pos_correct: 5, neg_correct: 28\n",
      "pos_correct: 7, neg_correct: 25\n"
     ]
    },
    {
     "name": "stderr",
     "output_type": "stream",
     "text": [
      "Valid:\tEpoch: 6/20 Valid Loss: 1.5158, Valid Acc: 0.0814:  73%|███████▎  | 24/33 [00:03<00:01,  7.13it/s]"
     ]
    },
    {
     "name": "stdout",
     "output_type": "stream",
     "text": [
      "pos_correct: 3, neg_correct: 28\n",
      "pos_correct: 8, neg_correct: 23\n"
     ]
    },
    {
     "name": "stderr",
     "output_type": "stream",
     "text": [
      "Valid:\tEpoch: 6/20 Valid Loss: 1.5121, Valid Acc: 0.0817:  79%|███████▉  | 26/33 [00:03<00:00,  7.40it/s]"
     ]
    },
    {
     "name": "stdout",
     "output_type": "stream",
     "text": [
      "pos_correct: 6, neg_correct: 24\n",
      "pos_correct: 5, neg_correct: 32\n"
     ]
    },
    {
     "name": "stderr",
     "output_type": "stream",
     "text": [
      "Valid:\tEpoch: 6/20 Valid Loss: 1.5138, Valid Acc: 0.0810:  82%|████████▏ | 27/33 [00:03<00:00,  7.36it/s]"
     ]
    },
    {
     "name": "stdout",
     "output_type": "stream",
     "text": [
      "pos_correct: 4, neg_correct: 24\n"
     ]
    },
    {
     "name": "stderr",
     "output_type": "stream",
     "text": [
      "Valid:\tEpoch: 6/20 Valid Loss: 1.5039, Valid Acc: 0.0819:  88%|████████▊ | 29/33 [00:04<00:00,  6.48it/s]"
     ]
    },
    {
     "name": "stdout",
     "output_type": "stream",
     "text": [
      "pos_correct: 6, neg_correct: 27\n",
      "pos_correct: 6, neg_correct: 26\n"
     ]
    },
    {
     "name": "stderr",
     "output_type": "stream",
     "text": [
      "Valid:\tEpoch: 6/20 Valid Loss: 1.4913, Valid Acc: 0.0822:  94%|█████████▍| 31/33 [00:04<00:00,  6.99it/s]"
     ]
    },
    {
     "name": "stdout",
     "output_type": "stream",
     "text": [
      "pos_correct: 4, neg_correct: 29\n",
      "pos_correct: 7, neg_correct: 30\n"
     ]
    },
    {
     "name": "stderr",
     "output_type": "stream",
     "text": [
      "Valid:\tEpoch: 6/20 Valid Loss: 1.5111, Valid Acc: 0.0803: 100%|██████████| 33/33 [00:04<00:00,  6.99it/s]\n"
     ]
    },
    {
     "name": "stdout",
     "output_type": "stream",
     "text": [
      "pos_correct: 2, neg_correct: 22\n",
      "pos_correct: 2, neg_correct: 14\n",
      "========================================================================\n",
      "\n"
     ]
    },
    {
     "name": "stderr",
     "output_type": "stream",
     "text": [
      "Train:\tEpoch: 7/20 Train Loss: 0.0244, Train Acc: 0.6659: 100%|██████████| 162/162 [00:51<00:00,  3.13it/s]\n",
      "Valid:\tEpoch: 7/20 Valid Loss: 1.6196, Valid Acc: 0.0625:   6%|▌         | 2/33 [00:00<00:04,  6.66it/s]"
     ]
    },
    {
     "name": "stdout",
     "output_type": "stream",
     "text": [
      "pos_correct: 4, neg_correct: 25\n",
      "pos_correct: 4, neg_correct: 25\n"
     ]
    },
    {
     "name": "stderr",
     "output_type": "stream",
     "text": [
      "Valid:\tEpoch: 7/20 Valid Loss: 1.5502, Valid Acc: 0.0586:  12%|█▏        | 4/33 [00:00<00:04,  6.81it/s]"
     ]
    },
    {
     "name": "stdout",
     "output_type": "stream",
     "text": [
      "pos_correct: 3, neg_correct: 25\n",
      "pos_correct: 4, neg_correct: 25\n"
     ]
    },
    {
     "name": "stderr",
     "output_type": "stream",
     "text": [
      "Valid:\tEpoch: 7/20 Valid Loss: 1.5163, Valid Acc: 0.0625:  15%|█▌        | 5/33 [00:00<00:04,  6.78it/s]"
     ]
    },
    {
     "name": "stdout",
     "output_type": "stream",
     "text": [
      "pos_correct: 5, neg_correct: 25\n"
     ]
    },
    {
     "name": "stderr",
     "output_type": "stream",
     "text": [
      "Valid:\tEpoch: 7/20 Valid Loss: 1.5378, Valid Acc: 0.0647:  21%|██        | 7/33 [00:01<00:04,  5.64it/s]"
     ]
    },
    {
     "name": "stdout",
     "output_type": "stream",
     "text": [
      "pos_correct: 7, neg_correct: 26\n",
      "pos_correct: 2, neg_correct: 28\n"
     ]
    },
    {
     "name": "stderr",
     "output_type": "stream",
     "text": [
      "Valid:\tEpoch: 7/20 Valid Loss: 1.5604, Valid Acc: 0.0712:  27%|██▋       | 9/33 [00:01<00:03,  6.39it/s]"
     ]
    },
    {
     "name": "stdout",
     "output_type": "stream",
     "text": [
      "pos_correct: 6, neg_correct: 25\n",
      "pos_correct: 6, neg_correct: 28\n"
     ]
    },
    {
     "name": "stderr",
     "output_type": "stream",
     "text": [
      "Valid:\tEpoch: 7/20 Valid Loss: 1.4889, Valid Acc: 0.0653:  33%|███▎      | 11/33 [00:01<00:03,  6.98it/s]"
     ]
    },
    {
     "name": "stdout",
     "output_type": "stream",
     "text": [
      "pos_correct: 1, neg_correct: 28\n",
      "pos_correct: 4, neg_correct: 30\n"
     ]
    },
    {
     "name": "stderr",
     "output_type": "stream",
     "text": [
      "Valid:\tEpoch: 7/20 Valid Loss: 1.4725, Valid Acc: 0.0673:  39%|███▉      | 13/33 [00:01<00:02,  7.04it/s]"
     ]
    },
    {
     "name": "stdout",
     "output_type": "stream",
     "text": [
      "pos_correct: 3, neg_correct: 24\n",
      "pos_correct: 7, neg_correct: 27\n"
     ]
    },
    {
     "name": "stderr",
     "output_type": "stream",
     "text": [
      "Valid:\tEpoch: 7/20 Valid Loss: 1.4734, Valid Acc: 0.0688:  45%|████▌     | 15/33 [00:02<00:02,  6.89it/s]"
     ]
    },
    {
     "name": "stdout",
     "output_type": "stream",
     "text": [
      "pos_correct: 4, neg_correct: 25\n",
      "pos_correct: 6, neg_correct: 25\n"
     ]
    },
    {
     "name": "stderr",
     "output_type": "stream",
     "text": [
      "Valid:\tEpoch: 7/20 Valid Loss: 1.4500, Valid Acc: 0.0680:  52%|█████▏    | 17/33 [00:02<00:02,  6.92it/s]"
     ]
    },
    {
     "name": "stdout",
     "output_type": "stream",
     "text": [
      "pos_correct: 5, neg_correct: 28\n",
      "pos_correct: 3, neg_correct: 30\n"
     ]
    },
    {
     "name": "stderr",
     "output_type": "stream",
     "text": [
      "Valid:\tEpoch: 7/20 Valid Loss: 1.4679, Valid Acc: 0.0683:  58%|█████▊    | 19/33 [00:02<00:01,  7.07it/s]"
     ]
    },
    {
     "name": "stdout",
     "output_type": "stream",
     "text": [
      "pos_correct: 5, neg_correct: 26\n",
      "pos_correct: 4, neg_correct: 27\n"
     ]
    },
    {
     "name": "stderr",
     "output_type": "stream",
     "text": [
      "Valid:\tEpoch: 7/20 Valid Loss: 1.4635, Valid Acc: 0.0677:  64%|██████▎   | 21/33 [00:03<00:01,  7.04it/s]"
     ]
    },
    {
     "name": "stdout",
     "output_type": "stream",
     "text": [
      "pos_correct: 5, neg_correct: 27\n",
      "pos_correct: 3, neg_correct: 27\n"
     ]
    },
    {
     "name": "stderr",
     "output_type": "stream",
     "text": [
      "Valid:\tEpoch: 7/20 Valid Loss: 1.4682, Valid Acc: 0.0673:  70%|██████▉   | 23/33 [00:03<00:01,  7.29it/s]"
     ]
    },
    {
     "name": "stdout",
     "output_type": "stream",
     "text": [
      "pos_correct: 6, neg_correct: 28\n",
      "pos_correct: 2, neg_correct: 24\n"
     ]
    },
    {
     "name": "stderr",
     "output_type": "stream",
     "text": [
      "Valid:\tEpoch: 7/20 Valid Loss: 1.4780, Valid Acc: 0.0650:  76%|███████▌  | 25/33 [00:03<00:01,  7.42it/s]"
     ]
    },
    {
     "name": "stdout",
     "output_type": "stream",
     "text": [
      "pos_correct: 2, neg_correct: 25\n",
      "pos_correct: 3, neg_correct: 30\n"
     ]
    },
    {
     "name": "stderr",
     "output_type": "stream",
     "text": [
      "Valid:\tEpoch: 7/20 Valid Loss: 1.4849, Valid Acc: 0.0637:  82%|████████▏ | 27/33 [00:03<00:00,  7.04it/s]"
     ]
    },
    {
     "name": "stdout",
     "output_type": "stream",
     "text": [
      "pos_correct: 3, neg_correct: 27\n",
      "pos_correct: 3, neg_correct: 30\n"
     ]
    },
    {
     "name": "stderr",
     "output_type": "stream",
     "text": [
      "Valid:\tEpoch: 7/20 Valid Loss: 1.5027, Valid Acc: 0.0647:  88%|████████▊ | 29/33 [00:04<00:00,  6.80it/s]"
     ]
    },
    {
     "name": "stdout",
     "output_type": "stream",
     "text": [
      "pos_correct: 4, neg_correct: 27\n",
      "pos_correct: 6, neg_correct: 24\n"
     ]
    },
    {
     "name": "stderr",
     "output_type": "stream",
     "text": [
      "Valid:\tEpoch: 7/20 Valid Loss: 1.4967, Valid Acc: 0.0655:  94%|█████████▍| 31/33 [00:04<00:00,  7.06it/s]"
     ]
    },
    {
     "name": "stdout",
     "output_type": "stream",
     "text": [
      "pos_correct: 5, neg_correct: 23\n",
      "pos_correct: 5, neg_correct: 24\n"
     ]
    },
    {
     "name": "stderr",
     "output_type": "stream",
     "text": [
      "Valid:\tEpoch: 7/20 Valid Loss: 1.4987, Valid Acc: 0.0663: 100%|██████████| 33/33 [00:04<00:00,  6.90it/s]\n"
     ]
    },
    {
     "name": "stdout",
     "output_type": "stream",
     "text": [
      "pos_correct: 6, neg_correct: 25\n",
      "pos_correct: 2, neg_correct: 13\n",
      "========================================================================\n",
      "\n"
     ]
    },
    {
     "name": "stderr",
     "output_type": "stream",
     "text": [
      "Train:\tEpoch: 8/20 Train Loss: 0.0167, Train Acc: 0.6850: 100%|██████████| 162/162 [00:51<00:00,  3.13it/s]\n",
      "Valid:\tEpoch: 8/20 Valid Loss: 1.2903, Valid Acc: 0.0547:   6%|▌         | 2/33 [00:00<00:04,  6.76it/s]"
     ]
    },
    {
     "name": "stdout",
     "output_type": "stream",
     "text": [
      "pos_correct: 3, neg_correct: 29\n",
      "pos_correct: 4, neg_correct: 26\n"
     ]
    },
    {
     "name": "stderr",
     "output_type": "stream",
     "text": [
      "Valid:\tEpoch: 8/20 Valid Loss: 1.2697, Valid Acc: 0.0898:  12%|█▏        | 4/33 [00:00<00:04,  6.79it/s]"
     ]
    },
    {
     "name": "stdout",
     "output_type": "stream",
     "text": [
      "pos_correct: 7, neg_correct: 27\n",
      "pos_correct: 9, neg_correct: 29\n"
     ]
    },
    {
     "name": "stderr",
     "output_type": "stream",
     "text": [
      "Valid:\tEpoch: 8/20 Valid Loss: 1.3570, Valid Acc: 0.0833:  18%|█▊        | 6/33 [00:00<00:03,  6.80it/s]"
     ]
    },
    {
     "name": "stdout",
     "output_type": "stream",
     "text": [
      "pos_correct: 3, neg_correct: 29\n",
      "pos_correct: 6, neg_correct: 28\n"
     ]
    },
    {
     "name": "stderr",
     "output_type": "stream",
     "text": [
      "Valid:\tEpoch: 8/20 Valid Loss: 1.4073, Valid Acc: 0.0820:  24%|██▍       | 8/33 [00:01<00:03,  6.73it/s]"
     ]
    },
    {
     "name": "stdout",
     "output_type": "stream",
     "text": [
      "pos_correct: 4, neg_correct: 25\n",
      "pos_correct: 6, neg_correct: 25\n"
     ]
    },
    {
     "name": "stderr",
     "output_type": "stream",
     "text": [
      "Valid:\tEpoch: 8/20 Valid Loss: 1.3513, Valid Acc: 0.0844:  30%|███       | 10/33 [00:01<00:03,  6.77it/s]"
     ]
    },
    {
     "name": "stdout",
     "output_type": "stream",
     "text": [
      "pos_correct: 4, neg_correct: 29\n",
      "pos_correct: 8, neg_correct: 28\n"
     ]
    },
    {
     "name": "stderr",
     "output_type": "stream",
     "text": [
      "Valid:\tEpoch: 8/20 Valid Loss: 1.3192, Valid Acc: 0.0859:  33%|███▎      | 11/33 [00:01<00:03,  6.70it/s]"
     ]
    },
    {
     "name": "stdout",
     "output_type": "stream",
     "text": [
      "pos_correct: 5, neg_correct: 29\n",
      "pos_correct: 7, neg_correct: 30\n"
     ]
    },
    {
     "name": "stderr",
     "output_type": "stream",
     "text": [
      "Valid:\tEpoch: 8/20 Valid Loss: 1.3403, Valid Acc: 0.0815:  42%|████▏     | 14/33 [00:02<00:02,  6.53it/s]"
     ]
    },
    {
     "name": "stdout",
     "output_type": "stream",
     "text": [
      "pos_correct: 1, neg_correct: 27\n",
      "pos_correct: 6, neg_correct: 27\n"
     ]
    },
    {
     "name": "stderr",
     "output_type": "stream",
     "text": [
      "Valid:\tEpoch: 8/20 Valid Loss: 1.3957, Valid Acc: 0.0771:  48%|████▊     | 16/33 [00:02<00:02,  6.61it/s]"
     ]
    },
    {
     "name": "stdout",
     "output_type": "stream",
     "text": [
      "pos_correct: 3, neg_correct: 30\n",
      "pos_correct: 3, neg_correct: 29\n"
     ]
    },
    {
     "name": "stderr",
     "output_type": "stream",
     "text": [
      "Valid:\tEpoch: 8/20 Valid Loss: 1.4114, Valid Acc: 0.0747:  55%|█████▍    | 18/33 [00:02<00:02,  6.64it/s]"
     ]
    },
    {
     "name": "stdout",
     "output_type": "stream",
     "text": [
      "pos_correct: 7, neg_correct: 26\n",
      "pos_correct: 0, neg_correct: 28\n"
     ]
    },
    {
     "name": "stderr",
     "output_type": "stream",
     "text": [
      "Valid:\tEpoch: 8/20 Valid Loss: 1.4174, Valid Acc: 0.0758:  61%|██████    | 20/33 [00:03<00:01,  6.63it/s]"
     ]
    },
    {
     "name": "stdout",
     "output_type": "stream",
     "text": [
      "pos_correct: 6, neg_correct: 25\n",
      "pos_correct: 5, neg_correct: 31\n"
     ]
    },
    {
     "name": "stderr",
     "output_type": "stream",
     "text": [
      "Valid:\tEpoch: 8/20 Valid Loss: 1.4331, Valid Acc: 0.0760:  67%|██████▋   | 22/33 [00:03<00:01,  6.58it/s]"
     ]
    },
    {
     "name": "stdout",
     "output_type": "stream",
     "text": [
      "pos_correct: 6, neg_correct: 26\n",
      "pos_correct: 4, neg_correct: 23\n"
     ]
    },
    {
     "name": "stderr",
     "output_type": "stream",
     "text": [
      "Valid:\tEpoch: 8/20 Valid Loss: 1.4792, Valid Acc: 0.0727:  70%|██████▉   | 23/33 [00:03<00:01,  6.57it/s]"
     ]
    },
    {
     "name": "stdout",
     "output_type": "stream",
     "text": [
      "pos_correct: 0, neg_correct: 30\n"
     ]
    },
    {
     "name": "stderr",
     "output_type": "stream",
     "text": [
      "Valid:\tEpoch: 8/20 Valid Loss: 1.4662, Valid Acc: 0.0706:  76%|███████▌  | 25/33 [00:03<00:01,  5.73it/s]"
     ]
    },
    {
     "name": "stdout",
     "output_type": "stream",
     "text": [
      "pos_correct: 4, neg_correct: 28\n",
      "pos_correct: 2, neg_correct: 28\n"
     ]
    },
    {
     "name": "stderr",
     "output_type": "stream",
     "text": [
      "Valid:\tEpoch: 8/20 Valid Loss: 1.4959, Valid Acc: 0.0694:  82%|████████▏ | 27/33 [00:04<00:00,  6.26it/s]"
     ]
    },
    {
     "name": "stdout",
     "output_type": "stream",
     "text": [
      "pos_correct: 2, neg_correct: 25\n",
      "pos_correct: 5, neg_correct: 25\n"
     ]
    },
    {
     "name": "stderr",
     "output_type": "stream",
     "text": [
      "Valid:\tEpoch: 8/20 Valid Loss: 1.4821, Valid Acc: 0.0706:  88%|████████▊ | 29/33 [00:04<00:00,  6.36it/s]"
     ]
    },
    {
     "name": "stdout",
     "output_type": "stream",
     "text": [
      "pos_correct: 6, neg_correct: 24\n",
      "pos_correct: 5, neg_correct: 30\n"
     ]
    },
    {
     "name": "stderr",
     "output_type": "stream",
     "text": [
      "Valid:\tEpoch: 8/20 Valid Loss: 1.4949, Valid Acc: 0.0696:  94%|█████████▍| 31/33 [00:04<00:00,  6.54it/s]"
     ]
    },
    {
     "name": "stdout",
     "output_type": "stream",
     "text": [
      "pos_correct: 3, neg_correct: 28\n",
      "pos_correct: 4, neg_correct: 28\n"
     ]
    },
    {
     "name": "stderr",
     "output_type": "stream",
     "text": [
      "Valid:\tEpoch: 8/20 Valid Loss: 1.4864, Valid Acc: 0.0721: 100%|██████████| 33/33 [00:05<00:00,  6.54it/s]\n"
     ]
    },
    {
     "name": "stdout",
     "output_type": "stream",
     "text": [
      "pos_correct: 9, neg_correct: 28\n",
      "pos_correct: 3, neg_correct: 15\n",
      "========================================================================\n",
      "\n"
     ]
    },
    {
     "name": "stderr",
     "output_type": "stream",
     "text": [
      "Train:\tEpoch: 9/20 Train Loss: 0.0229, Train Acc: 0.6865: 100%|██████████| 162/162 [00:52<00:00,  3.11it/s]\n",
      "Valid:\tEpoch: 9/20 Valid Loss: 1.6895, Valid Acc: 0.0781:   6%|▌         | 2/33 [00:00<00:04,  6.71it/s]"
     ]
    },
    {
     "name": "stdout",
     "output_type": "stream",
     "text": [
      "pos_correct: 5, neg_correct: 24\n",
      "pos_correct: 5, neg_correct: 26\n"
     ]
    },
    {
     "name": "stderr",
     "output_type": "stream",
     "text": [
      "Valid:\tEpoch: 9/20 Valid Loss: 1.5430, Valid Acc: 0.0664:  12%|█▏        | 4/33 [00:00<00:04,  6.82it/s]"
     ]
    },
    {
     "name": "stdout",
     "output_type": "stream",
     "text": [
      "pos_correct: 5, neg_correct: 28\n",
      "pos_correct: 2, neg_correct: 28\n"
     ]
    },
    {
     "name": "stderr",
     "output_type": "stream",
     "text": [
      "Valid:\tEpoch: 9/20 Valid Loss: 1.5561, Valid Acc: 0.0755:  18%|█▊        | 6/33 [00:00<00:03,  6.78it/s]"
     ]
    },
    {
     "name": "stdout",
     "output_type": "stream",
     "text": [
      "pos_correct: 6, neg_correct: 26\n",
      "pos_correct: 6, neg_correct: 23\n"
     ]
    },
    {
     "name": "stderr",
     "output_type": "stream",
     "text": [
      "Valid:\tEpoch: 9/20 Valid Loss: 1.5834, Valid Acc: 0.0840:  24%|██▍       | 8/33 [00:01<00:03,  6.51it/s]"
     ]
    },
    {
     "name": "stdout",
     "output_type": "stream",
     "text": [
      "pos_correct: 5, neg_correct: 27\n",
      "pos_correct: 9, neg_correct: 25\n"
     ]
    },
    {
     "name": "stderr",
     "output_type": "stream",
     "text": [
      "Valid:\tEpoch: 9/20 Valid Loss: 1.5116, Valid Acc: 0.0797:  30%|███       | 10/33 [00:01<00:03,  6.57it/s]"
     ]
    },
    {
     "name": "stdout",
     "output_type": "stream",
     "text": [
      "pos_correct: 4, neg_correct: 28\n",
      "pos_correct: 4, neg_correct: 30\n"
     ]
    },
    {
     "name": "stderr",
     "output_type": "stream",
     "text": [
      "Valid:\tEpoch: 9/20 Valid Loss: 1.5547, Valid Acc: 0.0768:  36%|███▋      | 12/33 [00:01<00:03,  6.40it/s]"
     ]
    },
    {
     "name": "stdout",
     "output_type": "stream",
     "text": [
      "pos_correct: 4, neg_correct: 26\n",
      "pos_correct: 4, neg_correct: 26\n"
     ]
    },
    {
     "name": "stderr",
     "output_type": "stream",
     "text": [
      "Valid:\tEpoch: 9/20 Valid Loss: 1.5675, Valid Acc: 0.0781:  39%|███▉      | 13/33 [00:02<00:03,  6.51it/s]"
     ]
    },
    {
     "name": "stdout",
     "output_type": "stream",
     "text": [
      "pos_correct: 7, neg_correct: 25\n",
      "pos_correct: 4, neg_correct: 27\n"
     ]
    },
    {
     "name": "stderr",
     "output_type": "stream",
     "text": [
      "Valid:\tEpoch: 9/20 Valid Loss: 1.4966, Valid Acc: 0.0781:  48%|████▊     | 16/33 [00:02<00:02,  6.22it/s]"
     ]
    },
    {
     "name": "stdout",
     "output_type": "stream",
     "text": [
      "pos_correct: 7, neg_correct: 26\n",
      "pos_correct: 3, neg_correct: 28\n"
     ]
    },
    {
     "name": "stderr",
     "output_type": "stream",
     "text": [
      "Valid:\tEpoch: 9/20 Valid Loss: 1.5372, Valid Acc: 0.0773:  55%|█████▍    | 18/33 [00:02<00:02,  6.49it/s]"
     ]
    },
    {
     "name": "stdout",
     "output_type": "stream",
     "text": [
      "pos_correct: 3, neg_correct: 26\n",
      "pos_correct: 6, neg_correct: 24\n"
     ]
    },
    {
     "name": "stderr",
     "output_type": "stream",
     "text": [
      "Valid:\tEpoch: 9/20 Valid Loss: 1.5219, Valid Acc: 0.0805:  61%|██████    | 20/33 [00:03<00:02,  6.33it/s]"
     ]
    },
    {
     "name": "stdout",
     "output_type": "stream",
     "text": [
      "pos_correct: 8, neg_correct: 26\n",
      "pos_correct: 6, neg_correct: 26\n"
     ]
    },
    {
     "name": "stderr",
     "output_type": "stream",
     "text": [
      "Valid:\tEpoch: 9/20 Valid Loss: 1.5014, Valid Acc: 0.0817:  67%|██████▋   | 22/33 [00:03<00:01,  6.52it/s]"
     ]
    },
    {
     "name": "stdout",
     "output_type": "stream",
     "text": [
      "pos_correct: 7, neg_correct: 29\n",
      "pos_correct: 5, neg_correct: 24\n"
     ]
    },
    {
     "name": "stderr",
     "output_type": "stream",
     "text": [
      "Valid:\tEpoch: 9/20 Valid Loss: 1.4926, Valid Acc: 0.0846:  73%|███████▎  | 24/33 [00:03<00:01,  6.58it/s]"
     ]
    },
    {
     "name": "stdout",
     "output_type": "stream",
     "text": [
      "pos_correct: 9, neg_correct: 26\n",
      "pos_correct: 6, neg_correct: 27\n"
     ]
    },
    {
     "name": "stderr",
     "output_type": "stream",
     "text": [
      "Valid:\tEpoch: 9/20 Valid Loss: 1.4884, Valid Acc: 0.0847:  79%|███████▉  | 26/33 [00:03<00:01,  6.85it/s]"
     ]
    },
    {
     "name": "stdout",
     "output_type": "stream",
     "text": [
      "pos_correct: 3, neg_correct: 27\n",
      "pos_correct: 8, neg_correct: 26\n"
     ]
    },
    {
     "name": "stderr",
     "output_type": "stream",
     "text": [
      "Valid:\tEpoch: 9/20 Valid Loss: 1.4787, Valid Acc: 0.0837:  85%|████████▍ | 28/33 [00:04<00:00,  6.81it/s]"
     ]
    },
    {
     "name": "stdout",
     "output_type": "stream",
     "text": [
      "pos_correct: 5, neg_correct: 29\n",
      "pos_correct: 4, neg_correct: 24\n"
     ]
    },
    {
     "name": "stderr",
     "output_type": "stream",
     "text": [
      "Valid:\tEpoch: 9/20 Valid Loss: 1.4765, Valid Acc: 0.0854:  88%|████████▊ | 29/33 [00:04<00:00,  6.80it/s]"
     ]
    },
    {
     "name": "stdout",
     "output_type": "stream",
     "text": [
      "pos_correct: 9, neg_correct: 22\n",
      "pos_correct: 5, neg_correct: 23\n"
     ]
    },
    {
     "name": "stderr",
     "output_type": "stream",
     "text": [
      "Valid:\tEpoch: 9/20 Valid Loss: 1.4766, Valid Acc: 0.0869:  97%|█████████▋| 32/33 [00:04<00:00,  6.30it/s]"
     ]
    },
    {
     "name": "stdout",
     "output_type": "stream",
     "text": [
      "pos_correct: 7, neg_correct: 26\n",
      "pos_correct: 7, neg_correct: 26\n"
     ]
    },
    {
     "name": "stderr",
     "output_type": "stream",
     "text": [
      "Valid:\tEpoch: 9/20 Valid Loss: 1.4850, Valid Acc: 0.0865: 100%|██████████| 33/33 [00:05<00:00,  6.56it/s]\n"
     ]
    },
    {
     "name": "stdout",
     "output_type": "stream",
     "text": [
      "pos_correct: 2, neg_correct: 13\n",
      "========================================================================\n",
      "\n"
     ]
    },
    {
     "name": "stderr",
     "output_type": "stream",
     "text": [
      "Train:\tEpoch: 10/20 Train Loss: 0.0316, Train Acc: 0.6638: 100%|██████████| 162/162 [00:52<00:00,  3.11it/s]\n",
      "Valid:\tEpoch: 10/20 Valid Loss: 1.3529, Valid Acc: 0.1016:   6%|▌         | 2/33 [00:00<00:07,  4.33it/s]"
     ]
    },
    {
     "name": "stdout",
     "output_type": "stream",
     "text": [
      "pos_correct: 9, neg_correct: 29\n",
      "pos_correct: 4, neg_correct: 30\n"
     ]
    },
    {
     "name": "stderr",
     "output_type": "stream",
     "text": [
      "Valid:\tEpoch: 10/20 Valid Loss: 1.4354, Valid Acc: 0.0859:  12%|█▏        | 4/33 [00:00<00:05,  5.68it/s]"
     ]
    },
    {
     "name": "stdout",
     "output_type": "stream",
     "text": [
      "pos_correct: 6, neg_correct: 29\n",
      "pos_correct: 3, neg_correct: 28\n"
     ]
    },
    {
     "name": "stderr",
     "output_type": "stream",
     "text": [
      "Valid:\tEpoch: 10/20 Valid Loss: 1.4607, Valid Acc: 0.0859:  18%|█▊        | 6/33 [00:01<00:04,  6.14it/s]"
     ]
    },
    {
     "name": "stdout",
     "output_type": "stream",
     "text": [
      "pos_correct: 5, neg_correct: 25\n",
      "pos_correct: 6, neg_correct: 26\n"
     ]
    },
    {
     "name": "stderr",
     "output_type": "stream",
     "text": [
      "Valid:\tEpoch: 10/20 Valid Loss: 1.5075, Valid Acc: 0.0820:  24%|██▍       | 8/33 [00:01<00:03,  6.41it/s]"
     ]
    },
    {
     "name": "stdout",
     "output_type": "stream",
     "text": [
      "pos_correct: 6, neg_correct: 28\n",
      "pos_correct: 3, neg_correct: 27\n"
     ]
    },
    {
     "name": "stderr",
     "output_type": "stream",
     "text": [
      "Valid:\tEpoch: 10/20 Valid Loss: 1.6063, Valid Acc: 0.0797:  30%|███       | 10/33 [00:01<00:03,  6.59it/s]"
     ]
    },
    {
     "name": "stdout",
     "output_type": "stream",
     "text": [
      "pos_correct: 3, neg_correct: 23\n",
      "pos_correct: 6, neg_correct: 25\n"
     ]
    },
    {
     "name": "stderr",
     "output_type": "stream",
     "text": [
      "Valid:\tEpoch: 10/20 Valid Loss: 1.5864, Valid Acc: 0.0781:  36%|███▋      | 12/33 [00:02<00:03,  6.67it/s]"
     ]
    },
    {
     "name": "stdout",
     "output_type": "stream",
     "text": [
      "pos_correct: 6, neg_correct: 29\n",
      "pos_correct: 3, neg_correct: 29\n"
     ]
    },
    {
     "name": "stderr",
     "output_type": "stream",
     "text": [
      "Valid:\tEpoch: 10/20 Valid Loss: 1.5714, Valid Acc: 0.0804:  42%|████▏     | 14/33 [00:02<00:02,  6.46it/s]"
     ]
    },
    {
     "name": "stdout",
     "output_type": "stream",
     "text": [
      "pos_correct: 7, neg_correct: 28\n",
      "pos_correct: 5, neg_correct: 28\n"
     ]
    },
    {
     "name": "stderr",
     "output_type": "stream",
     "text": [
      "Valid:\tEpoch: 10/20 Valid Loss: 1.5548, Valid Acc: 0.0820:  48%|████▊     | 16/33 [00:02<00:02,  6.80it/s]"
     ]
    },
    {
     "name": "stdout",
     "output_type": "stream",
     "text": [
      "pos_correct: 8, neg_correct: 30\n",
      "pos_correct: 4, neg_correct: 27\n"
     ]
    },
    {
     "name": "stderr",
     "output_type": "stream",
     "text": [
      "Valid:\tEpoch: 10/20 Valid Loss: 1.5857, Valid Acc: 0.0799:  55%|█████▍    | 18/33 [00:02<00:02,  6.96it/s]"
     ]
    },
    {
     "name": "stdout",
     "output_type": "stream",
     "text": [
      "pos_correct: 2, neg_correct: 26\n",
      "pos_correct: 6, neg_correct: 23\n"
     ]
    },
    {
     "name": "stderr",
     "output_type": "stream",
     "text": [
      "Valid:\tEpoch: 10/20 Valid Loss: 1.5549, Valid Acc: 0.0820:  61%|██████    | 20/33 [00:03<00:01,  6.75it/s]"
     ]
    },
    {
     "name": "stdout",
     "output_type": "stream",
     "text": [
      "pos_correct: 7, neg_correct: 28\n",
      "pos_correct: 6, neg_correct: 28\n"
     ]
    },
    {
     "name": "stderr",
     "output_type": "stream",
     "text": [
      "Valid:\tEpoch: 10/20 Valid Loss: 1.5192, Valid Acc: 0.0817:  67%|██████▋   | 22/33 [00:03<00:01,  6.77it/s]"
     ]
    },
    {
     "name": "stdout",
     "output_type": "stream",
     "text": [
      "pos_correct: 6, neg_correct: 29\n",
      "pos_correct: 4, neg_correct: 28\n"
     ]
    },
    {
     "name": "stderr",
     "output_type": "stream",
     "text": [
      "Valid:\tEpoch: 10/20 Valid Loss: 1.5101, Valid Acc: 0.0827:  73%|███████▎  | 24/33 [00:03<00:01,  6.72it/s]"
     ]
    },
    {
     "name": "stdout",
     "output_type": "stream",
     "text": [
      "pos_correct: 4, neg_correct: 26\n",
      "pos_correct: 8, neg_correct: 26\n"
     ]
    },
    {
     "name": "stderr",
     "output_type": "stream",
     "text": [
      "Valid:\tEpoch: 10/20 Valid Loss: 1.5279, Valid Acc: 0.0829:  79%|███████▉  | 26/33 [00:04<00:01,  6.92it/s]"
     ]
    },
    {
     "name": "stdout",
     "output_type": "stream",
     "text": [
      "pos_correct: 5, neg_correct: 24\n",
      "pos_correct: 6, neg_correct: 32\n"
     ]
    },
    {
     "name": "stderr",
     "output_type": "stream",
     "text": [
      "Valid:\tEpoch: 10/20 Valid Loss: 1.5262, Valid Acc: 0.0820:  85%|████████▍ | 28/33 [00:04<00:00,  7.06it/s]"
     ]
    },
    {
     "name": "stdout",
     "output_type": "stream",
     "text": [
      "pos_correct: 4, neg_correct: 27\n",
      "pos_correct: 5, neg_correct: 28\n"
     ]
    },
    {
     "name": "stderr",
     "output_type": "stream",
     "text": [
      "Valid:\tEpoch: 10/20 Valid Loss: 1.5116, Valid Acc: 0.0813:  91%|█████████ | 30/33 [00:04<00:00,  7.17it/s]"
     ]
    },
    {
     "name": "stdout",
     "output_type": "stream",
     "text": [
      "pos_correct: 5, neg_correct: 28\n",
      "pos_correct: 4, neg_correct: 26\n"
     ]
    },
    {
     "name": "stderr",
     "output_type": "stream",
     "text": [
      "Valid:\tEpoch: 10/20 Valid Loss: 1.5322, Valid Acc: 0.0796:  97%|█████████▋| 32/33 [00:04<00:00,  7.14it/s]"
     ]
    },
    {
     "name": "stdout",
     "output_type": "stream",
     "text": [
      "pos_correct: 3, neg_correct: 28\n",
      "pos_correct: 4, neg_correct: 28\n"
     ]
    },
    {
     "name": "stderr",
     "output_type": "stream",
     "text": [
      "Valid:\tEpoch: 10/20 Valid Loss: 1.5340, Valid Acc: 0.0803: 100%|██████████| 33/33 [00:05<00:00,  6.58it/s]\n"
     ]
    },
    {
     "name": "stdout",
     "output_type": "stream",
     "text": [
      "pos_correct: 4, neg_correct: 13\n",
      "========================================================================\n",
      "\n"
     ]
    },
    {
     "name": "stderr",
     "output_type": "stream",
     "text": [
      "Train:\tEpoch: 11/20 Train Loss: 0.0217, Train Acc: 0.6590: 100%|██████████| 162/162 [00:51<00:00,  3.12it/s]\n",
      "Valid:\tEpoch: 11/20 Valid Loss: 1.7208, Valid Acc: 0.0703:   6%|▌         | 2/33 [00:00<00:04,  6.54it/s]"
     ]
    },
    {
     "name": "stdout",
     "output_type": "stream",
     "text": [
      "pos_correct: 5, neg_correct: 30\n",
      "pos_correct: 4, neg_correct: 27\n"
     ]
    },
    {
     "name": "stderr",
     "output_type": "stream",
     "text": [
      "Valid:\tEpoch: 11/20 Valid Loss: 1.5272, Valid Acc: 0.0664:  12%|█▏        | 4/33 [00:00<00:04,  6.68it/s]"
     ]
    },
    {
     "name": "stdout",
     "output_type": "stream",
     "text": [
      "pos_correct: 3, neg_correct: 26\n",
      "pos_correct: 5, neg_correct: 24\n"
     ]
    },
    {
     "name": "stderr",
     "output_type": "stream",
     "text": [
      "Valid:\tEpoch: 11/20 Valid Loss: 1.4083, Valid Acc: 0.0677:  18%|█▊        | 6/33 [00:00<00:04,  6.63it/s]"
     ]
    },
    {
     "name": "stdout",
     "output_type": "stream",
     "text": [
      "pos_correct: 6, neg_correct: 29\n",
      "pos_correct: 3, neg_correct: 30\n"
     ]
    },
    {
     "name": "stderr",
     "output_type": "stream",
     "text": [
      "Valid:\tEpoch: 11/20 Valid Loss: 1.4316, Valid Acc: 0.0723:  24%|██▍       | 8/33 [00:01<00:03,  6.60it/s]"
     ]
    },
    {
     "name": "stdout",
     "output_type": "stream",
     "text": [
      "pos_correct: 8, neg_correct: 25\n",
      "pos_correct: 3, neg_correct: 27\n"
     ]
    },
    {
     "name": "stderr",
     "output_type": "stream",
     "text": [
      "Valid:\tEpoch: 11/20 Valid Loss: 1.5329, Valid Acc: 0.0677:  27%|██▋       | 9/33 [00:01<00:03,  6.58it/s]"
     ]
    },
    {
     "name": "stdout",
     "output_type": "stream",
     "text": [
      "pos_correct: 2, neg_correct: 28\n"
     ]
    },
    {
     "name": "stderr",
     "output_type": "stream",
     "text": [
      "Valid:\tEpoch: 11/20 Valid Loss: 1.4657, Valid Acc: 0.0810:  33%|███▎      | 11/33 [00:01<00:04,  5.06it/s]"
     ]
    },
    {
     "name": "stdout",
     "output_type": "stream",
     "text": [
      "pos_correct: 9, neg_correct: 24\n",
      "pos_correct: 9, neg_correct: 29\n"
     ]
    },
    {
     "name": "stderr",
     "output_type": "stream",
     "text": [
      "Valid:\tEpoch: 11/20 Valid Loss: 1.5158, Valid Acc: 0.0805:  39%|███▉      | 13/33 [00:02<00:03,  5.73it/s]"
     ]
    },
    {
     "name": "stdout",
     "output_type": "stream",
     "text": [
      "pos_correct: 5, neg_correct: 27\n",
      "pos_correct: 5, neg_correct: 22\n"
     ]
    },
    {
     "name": "stderr",
     "output_type": "stream",
     "text": [
      "Valid:\tEpoch: 11/20 Valid Loss: 1.4780, Valid Acc: 0.0833:  45%|████▌     | 15/33 [00:02<00:02,  6.10it/s]"
     ]
    },
    {
     "name": "stdout",
     "output_type": "stream",
     "text": [
      "pos_correct: 5, neg_correct: 26\n",
      "pos_correct: 8, neg_correct: 25\n"
     ]
    },
    {
     "name": "stderr",
     "output_type": "stream",
     "text": [
      "Valid:\tEpoch: 11/20 Valid Loss: 1.4768, Valid Acc: 0.0836:  52%|█████▏    | 17/33 [00:02<00:02,  6.48it/s]"
     ]
    },
    {
     "name": "stdout",
     "output_type": "stream",
     "text": [
      "pos_correct: 7, neg_correct: 28\n",
      "pos_correct: 4, neg_correct: 27\n"
     ]
    },
    {
     "name": "stderr",
     "output_type": "stream",
     "text": [
      "Valid:\tEpoch: 11/20 Valid Loss: 1.4761, Valid Acc: 0.0822:  58%|█████▊    | 19/33 [00:03<00:02,  6.52it/s]"
     ]
    },
    {
     "name": "stdout",
     "output_type": "stream",
     "text": [
      "pos_correct: 2, neg_correct: 24\n",
      "pos_correct: 7, neg_correct: 27\n"
     ]
    },
    {
     "name": "stderr",
     "output_type": "stream",
     "text": [
      "Valid:\tEpoch: 11/20 Valid Loss: 1.4929, Valid Acc: 0.0844:  61%|██████    | 20/33 [00:03<00:01,  6.51it/s]"
     ]
    },
    {
     "name": "stdout",
     "output_type": "stream",
     "text": [
      "pos_correct: 8, neg_correct: 26\n"
     ]
    },
    {
     "name": "stderr",
     "output_type": "stream",
     "text": [
      "Valid:\tEpoch: 11/20 Valid Loss: 1.4857, Valid Acc: 0.0824:  67%|██████▋   | 22/33 [00:03<00:01,  5.51it/s]"
     ]
    },
    {
     "name": "stdout",
     "output_type": "stream",
     "text": [
      "pos_correct: 4, neg_correct: 29\n",
      "pos_correct: 4, neg_correct: 28\n"
     ]
    },
    {
     "name": "stderr",
     "output_type": "stream",
     "text": [
      "Valid:\tEpoch: 11/20 Valid Loss: 1.5045, Valid Acc: 0.0794:  73%|███████▎  | 24/33 [00:03<00:01,  6.12it/s]"
     ]
    },
    {
     "name": "stdout",
     "output_type": "stream",
     "text": [
      "pos_correct: 2, neg_correct: 24\n",
      "pos_correct: 4, neg_correct: 28\n"
     ]
    },
    {
     "name": "stderr",
     "output_type": "stream",
     "text": [
      "Valid:\tEpoch: 11/20 Valid Loss: 1.4866, Valid Acc: 0.0817:  76%|███████▌  | 25/33 [00:04<00:01,  6.18it/s]"
     ]
    },
    {
     "name": "stdout",
     "output_type": "stream",
     "text": [
      "pos_correct: 6, neg_correct: 29\n",
      "pos_correct: 8, neg_correct: 31\n"
     ]
    },
    {
     "name": "stderr",
     "output_type": "stream",
     "text": [
      "Valid:\tEpoch: 11/20 Valid Loss: 1.4801, Valid Acc: 0.0787:  85%|████████▍ | 28/33 [00:04<00:00,  6.39it/s]"
     ]
    },
    {
     "name": "stdout",
     "output_type": "stream",
     "text": [
      "pos_correct: 2, neg_correct: 27\n",
      "pos_correct: 3, neg_correct: 31\n"
     ]
    },
    {
     "name": "stderr",
     "output_type": "stream",
     "text": [
      "Valid:\tEpoch: 11/20 Valid Loss: 1.4938, Valid Acc: 0.0760:  91%|█████████ | 30/33 [00:04<00:00,  6.16it/s]"
     ]
    },
    {
     "name": "stdout",
     "output_type": "stream",
     "text": [
      "pos_correct: 2, neg_correct: 28\n",
      "pos_correct: 3, neg_correct: 26\n"
     ]
    },
    {
     "name": "stderr",
     "output_type": "stream",
     "text": [
      "Valid:\tEpoch: 11/20 Valid Loss: 1.4865, Valid Acc: 0.0747:  97%|█████████▋| 32/33 [00:05<00:00,  5.25it/s]"
     ]
    },
    {
     "name": "stdout",
     "output_type": "stream",
     "text": [
      "pos_correct: 3, neg_correct: 27\n",
      "pos_correct: 4, neg_correct: 30\n"
     ]
    },
    {
     "name": "stderr",
     "output_type": "stream",
     "text": [
      "Valid:\tEpoch: 11/20 Valid Loss: 1.5019, Valid Acc: 0.0740: 100%|██████████| 33/33 [00:05<00:00,  6.02it/s]\n"
     ]
    },
    {
     "name": "stdout",
     "output_type": "stream",
     "text": [
      "pos_correct: 1, neg_correct: 15\n",
      "========================================================================\n",
      "\n"
     ]
    },
    {
     "name": "stderr",
     "output_type": "stream",
     "text": [
      "Train:\tEpoch: 12/20 Train Loss: 0.0246, Train Acc: 0.6724: 100%|██████████| 162/162 [00:51<00:00,  3.12it/s]\n",
      "Valid:\tEpoch: 12/20 Valid Loss: 1.6010, Valid Acc: 0.1250:   6%|▌         | 2/33 [00:00<00:04,  6.58it/s]"
     ]
    },
    {
     "name": "stdout",
     "output_type": "stream",
     "text": [
      "pos_correct: 6, neg_correct: 24\n",
      "pos_correct: 10, neg_correct: 26\n"
     ]
    },
    {
     "name": "stderr",
     "output_type": "stream",
     "text": [
      "Valid:\tEpoch: 12/20 Valid Loss: 1.4494, Valid Acc: 0.1367:  12%|█▏        | 4/33 [00:00<00:04,  6.67it/s]"
     ]
    },
    {
     "name": "stdout",
     "output_type": "stream",
     "text": [
      "pos_correct: 8, neg_correct: 29\n",
      "pos_correct: 11, neg_correct: 25\n"
     ]
    },
    {
     "name": "stderr",
     "output_type": "stream",
     "text": [
      "Valid:\tEpoch: 12/20 Valid Loss: 1.4595, Valid Acc: 0.1302:  18%|█▊        | 6/33 [00:01<00:05,  4.95it/s]"
     ]
    },
    {
     "name": "stdout",
     "output_type": "stream",
     "text": [
      "pos_correct: 6, neg_correct: 23\n",
      "pos_correct: 9, neg_correct: 30\n"
     ]
    },
    {
     "name": "stderr",
     "output_type": "stream",
     "text": [
      "Valid:\tEpoch: 12/20 Valid Loss: 1.4392, Valid Acc: 0.1270:  24%|██▍       | 8/33 [00:01<00:04,  5.73it/s]"
     ]
    },
    {
     "name": "stdout",
     "output_type": "stream",
     "text": [
      "pos_correct: 7, neg_correct: 26\n",
      "pos_correct: 8, neg_correct: 24\n"
     ]
    },
    {
     "name": "stderr",
     "output_type": "stream",
     "text": [
      "Valid:\tEpoch: 12/20 Valid Loss: 1.5406, Valid Acc: 0.1219:  30%|███       | 10/33 [00:01<00:03,  5.98it/s]"
     ]
    },
    {
     "name": "stdout",
     "output_type": "stream",
     "text": [
      "pos_correct: 7, neg_correct: 27\n",
      "pos_correct: 6, neg_correct: 24\n"
     ]
    },
    {
     "name": "stderr",
     "output_type": "stream",
     "text": [
      "Valid:\tEpoch: 12/20 Valid Loss: 1.5026, Valid Acc: 0.1172:  36%|███▋      | 12/33 [00:02<00:03,  6.37it/s]"
     ]
    },
    {
     "name": "stdout",
     "output_type": "stream",
     "text": [
      "pos_correct: 5, neg_correct: 25\n",
      "pos_correct: 7, neg_correct: 27\n"
     ]
    },
    {
     "name": "stderr",
     "output_type": "stream",
     "text": [
      "Valid:\tEpoch: 12/20 Valid Loss: 1.4861, Valid Acc: 0.1150:  42%|████▏     | 14/33 [00:02<00:02,  6.47it/s]"
     ]
    },
    {
     "name": "stdout",
     "output_type": "stream",
     "text": [
      "pos_correct: 6, neg_correct: 25\n",
      "pos_correct: 7, neg_correct: 28\n"
     ]
    },
    {
     "name": "stderr",
     "output_type": "stream",
     "text": [
      "Valid:\tEpoch: 12/20 Valid Loss: 1.5179, Valid Acc: 0.1123:  48%|████▊     | 16/33 [00:02<00:02,  5.84it/s]"
     ]
    },
    {
     "name": "stdout",
     "output_type": "stream",
     "text": [
      "pos_correct: 5, neg_correct: 23\n",
      "pos_correct: 7, neg_correct: 24\n"
     ]
    },
    {
     "name": "stderr",
     "output_type": "stream",
     "text": [
      "Valid:\tEpoch: 12/20 Valid Loss: 1.5196, Valid Acc: 0.1042:  55%|█████▍    | 18/33 [00:03<00:02,  6.46it/s]"
     ]
    },
    {
     "name": "stdout",
     "output_type": "stream",
     "text": [
      "pos_correct: 1, neg_correct: 25\n",
      "pos_correct: 4, neg_correct: 30\n"
     ]
    },
    {
     "name": "stderr",
     "output_type": "stream",
     "text": [
      "Valid:\tEpoch: 12/20 Valid Loss: 1.5082, Valid Acc: 0.1039:  61%|██████    | 20/33 [00:03<00:01,  6.63it/s]"
     ]
    },
    {
     "name": "stdout",
     "output_type": "stream",
     "text": [
      "pos_correct: 8, neg_correct: 24\n",
      "pos_correct: 5, neg_correct: 27\n"
     ]
    },
    {
     "name": "stderr",
     "output_type": "stream",
     "text": [
      "Valid:\tEpoch: 12/20 Valid Loss: 1.5256, Valid Acc: 0.1058:  67%|██████▋   | 22/33 [00:03<00:01,  6.61it/s]"
     ]
    },
    {
     "name": "stdout",
     "output_type": "stream",
     "text": [
      "pos_correct: 8, neg_correct: 25\n",
      "pos_correct: 8, neg_correct: 26\n"
     ]
    },
    {
     "name": "stderr",
     "output_type": "stream",
     "text": [
      "Valid:\tEpoch: 12/20 Valid Loss: 1.5785, Valid Acc: 0.1061:  73%|███████▎  | 24/33 [00:03<00:01,  6.64it/s]"
     ]
    },
    {
     "name": "stdout",
     "output_type": "stream",
     "text": [
      "pos_correct: 7, neg_correct: 22\n",
      "pos_correct: 7, neg_correct: 19\n"
     ]
    },
    {
     "name": "stderr",
     "output_type": "stream",
     "text": [
      "Valid:\tEpoch: 12/20 Valid Loss: 1.5674, Valid Acc: 0.1088:  79%|███████▉  | 26/33 [00:04<00:01,  6.56it/s]"
     ]
    },
    {
     "name": "stdout",
     "output_type": "stream",
     "text": [
      "pos_correct: 10, neg_correct: 23\n",
      "pos_correct: 8, neg_correct: 26\n"
     ]
    },
    {
     "name": "stderr",
     "output_type": "stream",
     "text": [
      "Valid:\tEpoch: 12/20 Valid Loss: 1.5657, Valid Acc: 0.1066:  85%|████████▍ | 28/33 [00:04<00:00,  6.12it/s]"
     ]
    },
    {
     "name": "stdout",
     "output_type": "stream",
     "text": [
      "pos_correct: 6, neg_correct: 25\n",
      "pos_correct: 4, neg_correct: 23\n"
     ]
    },
    {
     "name": "stderr",
     "output_type": "stream",
     "text": [
      "Valid:\tEpoch: 12/20 Valid Loss: 1.5415, Valid Acc: 0.1062:  91%|█████████ | 30/33 [00:04<00:00,  6.40it/s]"
     ]
    },
    {
     "name": "stdout",
     "output_type": "stream",
     "text": [
      "pos_correct: 6, neg_correct: 26\n",
      "pos_correct: 7, neg_correct: 27\n"
     ]
    },
    {
     "name": "stderr",
     "output_type": "stream",
     "text": [
      "Valid:\tEpoch: 12/20 Valid Loss: 1.5576, Valid Acc: 0.1025:  97%|█████████▋| 32/33 [00:05<00:00,  6.48it/s]"
     ]
    },
    {
     "name": "stdout",
     "output_type": "stream",
     "text": [
      "pos_correct: 4, neg_correct: 24\n",
      "pos_correct: 2, neg_correct: 26\n"
     ]
    },
    {
     "name": "stderr",
     "output_type": "stream",
     "text": [
      "Valid:\tEpoch: 12/20 Valid Loss: 1.5575, Valid Acc: 0.1019: 100%|██████████| 33/33 [00:05<00:00,  6.22it/s]\n"
     ]
    },
    {
     "name": "stdout",
     "output_type": "stream",
     "text": [
      "pos_correct: 2, neg_correct: 13\n",
      "========================================================================\n",
      "\n"
     ]
    },
    {
     "name": "stderr",
     "output_type": "stream",
     "text": [
      "Train:\tEpoch: 13/20 Train Loss: 0.0151, Train Acc: 0.6803: 100%|██████████| 162/162 [00:51<00:00,  3.12it/s]\n",
      "Valid:\tEpoch: 13/20 Valid Loss: 1.5190, Valid Acc: 0.1094:   6%|▌         | 2/33 [00:00<00:04,  6.74it/s]"
     ]
    },
    {
     "name": "stdout",
     "output_type": "stream",
     "text": [
      "pos_correct: 5, neg_correct: 28\n",
      "pos_correct: 9, neg_correct: 27\n"
     ]
    },
    {
     "name": "stderr",
     "output_type": "stream",
     "text": [
      "Valid:\tEpoch: 13/20 Valid Loss: 1.5356, Valid Acc: 0.0703:  12%|█▏        | 4/33 [00:00<00:04,  6.84it/s]"
     ]
    },
    {
     "name": "stdout",
     "output_type": "stream",
     "text": [
      "pos_correct: 1, neg_correct: 26\n",
      "pos_correct: 3, neg_correct: 26\n"
     ]
    },
    {
     "name": "stderr",
     "output_type": "stream",
     "text": [
      "Valid:\tEpoch: 13/20 Valid Loss: 1.6186, Valid Acc: 0.0719:  15%|█▌        | 5/33 [00:00<00:04,  6.74it/s]"
     ]
    },
    {
     "name": "stdout",
     "output_type": "stream",
     "text": [
      "pos_correct: 5, neg_correct: 31\n"
     ]
    },
    {
     "name": "stderr",
     "output_type": "stream",
     "text": [
      "Valid:\tEpoch: 13/20 Valid Loss: 1.5599, Valid Acc: 0.0848:  21%|██        | 7/33 [00:01<00:05,  4.93it/s]"
     ]
    },
    {
     "name": "stdout",
     "output_type": "stream",
     "text": [
      "pos_correct: 7, neg_correct: 28\n",
      "pos_correct: 8, neg_correct: 25\n"
     ]
    },
    {
     "name": "stderr",
     "output_type": "stream",
     "text": [
      "Valid:\tEpoch: 13/20 Valid Loss: 1.6043, Valid Acc: 0.0764:  27%|██▋       | 9/33 [00:01<00:04,  5.68it/s]"
     ]
    },
    {
     "name": "stdout",
     "output_type": "stream",
     "text": [
      "pos_correct: 3, neg_correct: 25\n",
      "pos_correct: 3, neg_correct: 24\n"
     ]
    },
    {
     "name": "stderr",
     "output_type": "stream",
     "text": [
      "Valid:\tEpoch: 13/20 Valid Loss: 1.6050, Valid Acc: 0.0724:  33%|███▎      | 11/33 [00:01<00:03,  6.20it/s]"
     ]
    },
    {
     "name": "stdout",
     "output_type": "stream",
     "text": [
      "pos_correct: 3, neg_correct: 29\n",
      "pos_correct: 4, neg_correct: 25\n"
     ]
    },
    {
     "name": "stderr",
     "output_type": "stream",
     "text": [
      "Valid:\tEpoch: 13/20 Valid Loss: 1.6247, Valid Acc: 0.0757:  39%|███▉      | 13/33 [00:02<00:03,  6.47it/s]"
     ]
    },
    {
     "name": "stdout",
     "output_type": "stream",
     "text": [
      "pos_correct: 8, neg_correct: 20\n",
      "pos_correct: 4, neg_correct: 28\n"
     ]
    },
    {
     "name": "stderr",
     "output_type": "stream",
     "text": [
      "Valid:\tEpoch: 13/20 Valid Loss: 1.6425, Valid Acc: 0.0748:  42%|████▏     | 14/33 [00:02<00:02,  6.49it/s]"
     ]
    },
    {
     "name": "stdout",
     "output_type": "stream",
     "text": [
      "pos_correct: 4, neg_correct: 26\n"
     ]
    },
    {
     "name": "stderr",
     "output_type": "stream",
     "text": [
      "Valid:\tEpoch: 13/20 Valid Loss: 1.6490, Valid Acc: 0.0732:  48%|████▊     | 16/33 [00:02<00:02,  5.82it/s]"
     ]
    },
    {
     "name": "stdout",
     "output_type": "stream",
     "text": [
      "pos_correct: 3, neg_correct: 29\n",
      "pos_correct: 5, neg_correct: 22\n"
     ]
    },
    {
     "name": "stderr",
     "output_type": "stream",
     "text": [
      "Valid:\tEpoch: 13/20 Valid Loss: 1.6493, Valid Acc: 0.0764:  55%|█████▍    | 18/33 [00:03<00:02,  6.33it/s]"
     ]
    },
    {
     "name": "stdout",
     "output_type": "stream",
     "text": [
      "pos_correct: 5, neg_correct: 28\n",
      "pos_correct: 8, neg_correct: 23\n"
     ]
    },
    {
     "name": "stderr",
     "output_type": "stream",
     "text": [
      "Valid:\tEpoch: 13/20 Valid Loss: 1.6674, Valid Acc: 0.0719:  61%|██████    | 20/33 [00:03<00:02,  6.47it/s]"
     ]
    },
    {
     "name": "stdout",
     "output_type": "stream",
     "text": [
      "pos_correct: 3, neg_correct: 25\n",
      "pos_correct: 1, neg_correct: 26\n"
     ]
    },
    {
     "name": "stderr",
     "output_type": "stream",
     "text": [
      "Valid:\tEpoch: 13/20 Valid Loss: 1.6676, Valid Acc: 0.0717:  67%|██████▋   | 22/33 [00:03<00:01,  6.70it/s]"
     ]
    },
    {
     "name": "stdout",
     "output_type": "stream",
     "text": [
      "pos_correct: 4, neg_correct: 23\n",
      "pos_correct: 5, neg_correct: 27\n"
     ]
    },
    {
     "name": "stderr",
     "output_type": "stream",
     "text": [
      "Valid:\tEpoch: 13/20 Valid Loss: 1.6229, Valid Acc: 0.0729:  73%|███████▎  | 24/33 [00:03<00:01,  6.66it/s]"
     ]
    },
    {
     "name": "stdout",
     "output_type": "stream",
     "text": [
      "pos_correct: 6, neg_correct: 31\n",
      "pos_correct: 5, neg_correct: 28\n"
     ]
    },
    {
     "name": "stderr",
     "output_type": "stream",
     "text": [
      "Valid:\tEpoch: 13/20 Valid Loss: 1.6127, Valid Acc: 0.0745:  79%|███████▉  | 26/33 [00:04<00:01,  6.42it/s]"
     ]
    },
    {
     "name": "stdout",
     "output_type": "stream",
     "text": [
      "pos_correct: 5, neg_correct: 24\n",
      "pos_correct: 7, neg_correct: 26\n"
     ]
    },
    {
     "name": "stderr",
     "output_type": "stream",
     "text": [
      "Valid:\tEpoch: 13/20 Valid Loss: 1.5984, Valid Acc: 0.0776:  85%|████████▍ | 28/33 [00:04<00:00,  6.61it/s]"
     ]
    },
    {
     "name": "stdout",
     "output_type": "stream",
     "text": [
      "pos_correct: 6, neg_correct: 24\n",
      "pos_correct: 9, neg_correct: 27\n"
     ]
    },
    {
     "name": "stderr",
     "output_type": "stream",
     "text": [
      "Valid:\tEpoch: 13/20 Valid Loss: 1.5739, Valid Acc: 0.0781:  91%|█████████ | 30/33 [00:04<00:00,  6.45it/s]"
     ]
    },
    {
     "name": "stdout",
     "output_type": "stream",
     "text": [
      "pos_correct: 5, neg_correct: 27\n",
      "pos_correct: 6, neg_correct: 26\n"
     ]
    },
    {
     "name": "stderr",
     "output_type": "stream",
     "text": [
      "Valid:\tEpoch: 13/20 Valid Loss: 1.5480, Valid Acc: 0.0796:  97%|█████████▋| 32/33 [00:05<00:00,  6.83it/s]"
     ]
    },
    {
     "name": "stdout",
     "output_type": "stream",
     "text": [
      "pos_correct: 5, neg_correct: 28\n",
      "pos_correct: 8, neg_correct: 27\n"
     ]
    },
    {
     "name": "stderr",
     "output_type": "stream",
     "text": [
      "Valid:\tEpoch: 13/20 Valid Loss: 1.5370, Valid Acc: 0.0808: 100%|██████████| 33/33 [00:05<00:00,  6.31it/s]\n"
     ]
    },
    {
     "name": "stdout",
     "output_type": "stream",
     "text": [
      "pos_correct: 5, neg_correct: 16\n",
      "========================================================================\n",
      "\n"
     ]
    },
    {
     "name": "stderr",
     "output_type": "stream",
     "text": [
      "Train:\tEpoch: 14/20 Train Loss: 0.0153, Train Acc: 0.7039: 100%|██████████| 162/162 [00:52<00:00,  3.10it/s]\n",
      "Valid:\tEpoch: 14/20 Valid Loss: 1.6766, Valid Acc: 0.1406:   6%|▌         | 2/33 [00:00<00:04,  6.68it/s]"
     ]
    },
    {
     "name": "stdout",
     "output_type": "stream",
     "text": [
      "pos_correct: 10, neg_correct: 23\n",
      "pos_correct: 8, neg_correct: 20\n"
     ]
    },
    {
     "name": "stderr",
     "output_type": "stream",
     "text": [
      "Valid:\tEpoch: 14/20 Valid Loss: 1.7193, Valid Acc: 0.1289:   9%|▉         | 3/33 [00:00<00:04,  6.39it/s]"
     ]
    },
    {
     "name": "stdout",
     "output_type": "stream",
     "text": [
      "pos_correct: 6, neg_correct: 26\n",
      "pos_correct: 9, neg_correct: 21\n"
     ]
    },
    {
     "name": "stderr",
     "output_type": "stream",
     "text": [
      "Valid:\tEpoch: 14/20 Valid Loss: 1.6886, Valid Acc: 0.1354:  18%|█▊        | 6/33 [00:00<00:04,  6.35it/s]"
     ]
    },
    {
     "name": "stdout",
     "output_type": "stream",
     "text": [
      "pos_correct: 9, neg_correct: 21\n",
      "pos_correct: 10, neg_correct: 24\n"
     ]
    },
    {
     "name": "stderr",
     "output_type": "stream",
     "text": [
      "Valid:\tEpoch: 14/20 Valid Loss: 1.6596, Valid Acc: 0.1309:  24%|██▍       | 8/33 [00:01<00:03,  6.47it/s]"
     ]
    },
    {
     "name": "stdout",
     "output_type": "stream",
     "text": [
      "pos_correct: 10, neg_correct: 27\n",
      "pos_correct: 5, neg_correct: 23\n"
     ]
    },
    {
     "name": "stderr",
     "output_type": "stream",
     "text": [
      "Valid:\tEpoch: 14/20 Valid Loss: 1.5963, Valid Acc: 0.1453:  30%|███       | 10/33 [00:01<00:03,  6.76it/s]"
     ]
    },
    {
     "name": "stdout",
     "output_type": "stream",
     "text": [
      "pos_correct: 12, neg_correct: 23\n",
      "pos_correct: 14, neg_correct: 22\n"
     ]
    },
    {
     "name": "stderr",
     "output_type": "stream",
     "text": [
      "Valid:\tEpoch: 14/20 Valid Loss: 1.5939, Valid Acc: 0.1445:  36%|███▋      | 12/33 [00:01<00:03,  6.64it/s]"
     ]
    },
    {
     "name": "stdout",
     "output_type": "stream",
     "text": [
      "pos_correct: 7, neg_correct: 22\n",
      "pos_correct: 11, neg_correct: 23\n"
     ]
    },
    {
     "name": "stderr",
     "output_type": "stream",
     "text": [
      "Valid:\tEpoch: 14/20 Valid Loss: 1.5947, Valid Acc: 0.1440:  42%|████▏     | 14/33 [00:02<00:02,  6.33it/s]"
     ]
    },
    {
     "name": "stdout",
     "output_type": "stream",
     "text": [
      "pos_correct: 7, neg_correct: 22\n",
      "pos_correct: 11, neg_correct: 25\n"
     ]
    },
    {
     "name": "stderr",
     "output_type": "stream",
     "text": [
      "Valid:\tEpoch: 14/20 Valid Loss: 1.5617, Valid Acc: 0.1396:  48%|████▊     | 16/33 [00:02<00:02,  6.35it/s]"
     ]
    },
    {
     "name": "stdout",
     "output_type": "stream",
     "text": [
      "pos_correct: 7, neg_correct: 25\n",
      "pos_correct: 7, neg_correct: 25\n"
     ]
    },
    {
     "name": "stderr",
     "output_type": "stream",
     "text": [
      "Valid:\tEpoch: 14/20 Valid Loss: 1.5839, Valid Acc: 0.1372:  55%|█████▍    | 18/33 [00:02<00:02,  6.41it/s]"
     ]
    },
    {
     "name": "stdout",
     "output_type": "stream",
     "text": [
      "pos_correct: 10, neg_correct: 22\n",
      "pos_correct: 5, neg_correct: 31\n"
     ]
    },
    {
     "name": "stderr",
     "output_type": "stream",
     "text": [
      "Valid:\tEpoch: 14/20 Valid Loss: 1.6029, Valid Acc: 0.1359:  61%|██████    | 20/33 [00:03<00:01,  6.58it/s]"
     ]
    },
    {
     "name": "stdout",
     "output_type": "stream",
     "text": [
      "pos_correct: 11, neg_correct: 21\n",
      "pos_correct: 5, neg_correct: 25\n"
     ]
    },
    {
     "name": "stderr",
     "output_type": "stream",
     "text": [
      "Valid:\tEpoch: 14/20 Valid Loss: 1.5689, Valid Acc: 0.1371:  67%|██████▋   | 22/33 [00:03<00:01,  6.59it/s]"
     ]
    },
    {
     "name": "stdout",
     "output_type": "stream",
     "text": [
      "pos_correct: 8, neg_correct: 27\n",
      "pos_correct: 11, neg_correct: 23\n"
     ]
    },
    {
     "name": "stderr",
     "output_type": "stream",
     "text": [
      "Valid:\tEpoch: 14/20 Valid Loss: 1.5616, Valid Acc: 0.1406:  73%|███████▎  | 24/33 [00:03<00:01,  6.66it/s]"
     ]
    },
    {
     "name": "stdout",
     "output_type": "stream",
     "text": [
      "pos_correct: 11, neg_correct: 18\n",
      "pos_correct: 12, neg_correct: 21\n"
     ]
    },
    {
     "name": "stderr",
     "output_type": "stream",
     "text": [
      "Valid:\tEpoch: 14/20 Valid Loss: 1.5767, Valid Acc: 0.1388:  79%|███████▉  | 26/33 [00:04<00:01,  6.49it/s]"
     ]
    },
    {
     "name": "stdout",
     "output_type": "stream",
     "text": [
      "pos_correct: 8, neg_correct: 21\n",
      "pos_correct: 7, neg_correct: 24\n"
     ]
    },
    {
     "name": "stderr",
     "output_type": "stream",
     "text": [
      "Valid:\tEpoch: 14/20 Valid Loss: 1.5589, Valid Acc: 0.1372:  82%|████████▏ | 27/33 [00:04<00:00,  6.25it/s]"
     ]
    },
    {
     "name": "stdout",
     "output_type": "stream",
     "text": [
      "pos_correct: 6, neg_correct: 25\n"
     ]
    },
    {
     "name": "stderr",
     "output_type": "stream",
     "text": [
      "Valid:\tEpoch: 14/20 Valid Loss: 1.5823, Valid Acc: 0.1342:  88%|████████▊ | 29/33 [00:04<00:00,  5.55it/s]"
     ]
    },
    {
     "name": "stdout",
     "output_type": "stream",
     "text": [
      "pos_correct: 6, neg_correct: 19\n",
      "pos_correct: 6, neg_correct: 26\n"
     ]
    },
    {
     "name": "stderr",
     "output_type": "stream",
     "text": [
      "Valid:\tEpoch: 14/20 Valid Loss: 1.5842, Valid Acc: 0.1351:  94%|█████████▍| 31/33 [00:04<00:00,  5.82it/s]"
     ]
    },
    {
     "name": "stdout",
     "output_type": "stream",
     "text": [
      "pos_correct: 10, neg_correct: 18\n",
      "pos_correct: 9, neg_correct: 24\n"
     ]
    },
    {
     "name": "stderr",
     "output_type": "stream",
     "text": [
      "Valid:\tEpoch: 14/20 Valid Loss: 1.5907, Valid Acc: 0.1337: 100%|██████████| 33/33 [00:05<00:00,  6.34it/s]\n"
     ]
    },
    {
     "name": "stdout",
     "output_type": "stream",
     "text": [
      "pos_correct: 5, neg_correct: 23\n",
      "pos_correct: 5, neg_correct: 11\n",
      "========================================================================\n",
      "\n"
     ]
    },
    {
     "name": "stderr",
     "output_type": "stream",
     "text": [
      "Train:\tEpoch: 15/20 Train Loss: 0.0113, Train Acc: 0.6816: 100%|██████████| 162/162 [00:51<00:00,  3.12it/s]\n",
      "Valid:\tEpoch: 15/20 Valid Loss: 1.5585, Valid Acc: 0.1328:   6%|▌         | 2/33 [00:00<00:04,  6.55it/s]"
     ]
    },
    {
     "name": "stdout",
     "output_type": "stream",
     "text": [
      "pos_correct: 10, neg_correct: 22\n",
      "pos_correct: 7, neg_correct: 23\n"
     ]
    },
    {
     "name": "stderr",
     "output_type": "stream",
     "text": [
      "Valid:\tEpoch: 15/20 Valid Loss: 1.4291, Valid Acc: 0.1406:  12%|█▏        | 4/33 [00:00<00:04,  6.60it/s]"
     ]
    },
    {
     "name": "stdout",
     "output_type": "stream",
     "text": [
      "pos_correct: 9, neg_correct: 23\n",
      "pos_correct: 10, neg_correct: 22\n"
     ]
    },
    {
     "name": "stderr",
     "output_type": "stream",
     "text": [
      "Valid:\tEpoch: 15/20 Valid Loss: 1.4775, Valid Acc: 0.1302:  18%|█▊        | 6/33 [00:00<00:04,  6.58it/s]"
     ]
    },
    {
     "name": "stdout",
     "output_type": "stream",
     "text": [
      "pos_correct: 10, neg_correct: 24\n",
      "pos_correct: 4, neg_correct: 22\n"
     ]
    },
    {
     "name": "stderr",
     "output_type": "stream",
     "text": [
      "Valid:\tEpoch: 15/20 Valid Loss: 1.5529, Valid Acc: 0.1133:  21%|██        | 7/33 [00:01<00:03,  6.50it/s]"
     ]
    },
    {
     "name": "stdout",
     "output_type": "stream",
     "text": [
      "pos_correct: 3, neg_correct: 26\n",
      "pos_correct: 5, neg_correct: 25\n"
     ]
    },
    {
     "name": "stderr",
     "output_type": "stream",
     "text": [
      "Valid:\tEpoch: 15/20 Valid Loss: 1.5932, Valid Acc: 0.1109:  30%|███       | 10/33 [00:01<00:03,  5.97it/s]"
     ]
    },
    {
     "name": "stdout",
     "output_type": "stream",
     "text": [
      "pos_correct: 4, neg_correct: 21\n",
      "pos_correct: 9, neg_correct: 23\n"
     ]
    },
    {
     "name": "stderr",
     "output_type": "stream",
     "text": [
      "Valid:\tEpoch: 15/20 Valid Loss: 1.5791, Valid Acc: 0.1185:  36%|███▋      | 12/33 [00:01<00:03,  6.27it/s]"
     ]
    },
    {
     "name": "stdout",
     "output_type": "stream",
     "text": [
      "pos_correct: 10, neg_correct: 24\n",
      "pos_correct: 10, neg_correct: 22\n"
     ]
    },
    {
     "name": "stderr",
     "output_type": "stream",
     "text": [
      "Valid:\tEpoch: 15/20 Valid Loss: 1.5965, Valid Acc: 0.1228:  42%|████▏     | 14/33 [00:02<00:02,  6.48it/s]"
     ]
    },
    {
     "name": "stdout",
     "output_type": "stream",
     "text": [
      "pos_correct: 10, neg_correct: 23\n",
      "pos_correct: 9, neg_correct: 27\n"
     ]
    },
    {
     "name": "stderr",
     "output_type": "stream",
     "text": [
      "Valid:\tEpoch: 15/20 Valid Loss: 1.5980, Valid Acc: 0.1191:  48%|████▊     | 16/33 [00:02<00:02,  6.43it/s]"
     ]
    },
    {
     "name": "stdout",
     "output_type": "stream",
     "text": [
      "pos_correct: 6, neg_correct: 23\n",
      "pos_correct: 6, neg_correct: 25\n"
     ]
    },
    {
     "name": "stderr",
     "output_type": "stream",
     "text": [
      "Valid:\tEpoch: 15/20 Valid Loss: 1.5981, Valid Acc: 0.1137:  55%|█████▍    | 18/33 [00:02<00:02,  6.47it/s]"
     ]
    },
    {
     "name": "stdout",
     "output_type": "stream",
     "text": [
      "pos_correct: 6, neg_correct: 27\n",
      "pos_correct: 3, neg_correct: 25\n"
     ]
    },
    {
     "name": "stderr",
     "output_type": "stream",
     "text": [
      "Valid:\tEpoch: 15/20 Valid Loss: 1.5745, Valid Acc: 0.1133:  61%|██████    | 20/33 [00:03<00:02,  5.37it/s]"
     ]
    },
    {
     "name": "stdout",
     "output_type": "stream",
     "text": [
      "pos_correct: 5, neg_correct: 24\n",
      "pos_correct: 9, neg_correct: 25\n"
     ]
    },
    {
     "name": "stderr",
     "output_type": "stream",
     "text": [
      "Valid:\tEpoch: 15/20 Valid Loss: 1.5763, Valid Acc: 0.1165:  67%|██████▋   | 22/33 [00:03<00:01,  6.09it/s]"
     ]
    },
    {
     "name": "stdout",
     "output_type": "stream",
     "text": [
      "pos_correct: 10, neg_correct: 21\n",
      "pos_correct: 9, neg_correct: 28\n"
     ]
    },
    {
     "name": "stderr",
     "output_type": "stream",
     "text": [
      "Valid:\tEpoch: 15/20 Valid Loss: 1.6034, Valid Acc: 0.1133:  73%|███████▎  | 24/33 [00:03<00:01,  6.24it/s]"
     ]
    },
    {
     "name": "stdout",
     "output_type": "stream",
     "text": [
      "pos_correct: 4, neg_correct: 25\n",
      "pos_correct: 6, neg_correct: 25\n"
     ]
    },
    {
     "name": "stderr",
     "output_type": "stream",
     "text": [
      "Valid:\tEpoch: 15/20 Valid Loss: 1.5822, Valid Acc: 0.1154:  79%|███████▉  | 26/33 [00:04<00:01,  6.46it/s]"
     ]
    },
    {
     "name": "stdout",
     "output_type": "stream",
     "text": [
      "pos_correct: 10, neg_correct: 27\n",
      "pos_correct: 8, neg_correct: 22\n"
     ]
    },
    {
     "name": "stderr",
     "output_type": "stream",
     "text": [
      "Valid:\tEpoch: 15/20 Valid Loss: 1.5710, Valid Acc: 0.1172:  85%|████████▍ | 28/33 [00:04<00:00,  6.48it/s]"
     ]
    },
    {
     "name": "stdout",
     "output_type": "stream",
     "text": [
      "pos_correct: 10, neg_correct: 21\n",
      "pos_correct: 8, neg_correct: 25\n"
     ]
    },
    {
     "name": "stderr",
     "output_type": "stream",
     "text": [
      "Valid:\tEpoch: 15/20 Valid Loss: 1.5622, Valid Acc: 0.1193:  91%|█████████ | 30/33 [00:04<00:00,  6.72it/s]"
     ]
    },
    {
     "name": "stdout",
     "output_type": "stream",
     "text": [
      "pos_correct: 8, neg_correct: 23\n",
      "pos_correct: 11, neg_correct: 24\n"
     ]
    },
    {
     "name": "stderr",
     "output_type": "stream",
     "text": [
      "Valid:\tEpoch: 15/20 Valid Loss: 1.5411, Valid Acc: 0.1172:  97%|█████████▋| 32/33 [00:05<00:00,  6.13it/s]"
     ]
    },
    {
     "name": "stdout",
     "output_type": "stream",
     "text": [
      "pos_correct: 6, neg_correct: 28\n",
      "pos_correct: 5, neg_correct: 22\n"
     ]
    },
    {
     "name": "stderr",
     "output_type": "stream",
     "text": [
      "Valid:\tEpoch: 15/20 Valid Loss: 1.5425, Valid Acc: 0.1168: 100%|██████████| 33/33 [00:05<00:00,  6.28it/s]\n"
     ]
    },
    {
     "name": "stdout",
     "output_type": "stream",
     "text": [
      "pos_correct: 3, neg_correct: 12\n",
      "========================================================================\n",
      "\n"
     ]
    },
    {
     "name": "stderr",
     "output_type": "stream",
     "text": [
      "Train:\tEpoch: 16/20 Train Loss: 0.0136, Train Acc: 0.6934: 100%|██████████| 162/162 [00:51<00:00,  3.13it/s]\n",
      "Valid:\tEpoch: 16/20 Valid Loss: 1.5856, Valid Acc: 0.0469:   6%|▌         | 2/33 [00:00<00:04,  6.88it/s]"
     ]
    },
    {
     "name": "stdout",
     "output_type": "stream",
     "text": [
      "pos_correct: 4, neg_correct: 29\n",
      "pos_correct: 2, neg_correct: 21\n"
     ]
    },
    {
     "name": "stderr",
     "output_type": "stream",
     "text": [
      "Valid:\tEpoch: 16/20 Valid Loss: 1.7323, Valid Acc: 0.0859:   9%|▉         | 3/33 [00:00<00:04,  6.96it/s]"
     ]
    },
    {
     "name": "stdout",
     "output_type": "stream",
     "text": [
      "pos_correct: 8, neg_correct: 25\n",
      "pos_correct: 8, neg_correct: 26\n"
     ]
    },
    {
     "name": "stderr",
     "output_type": "stream",
     "text": [
      "Valid:\tEpoch: 16/20 Valid Loss: 1.6361, Valid Acc: 0.0859:  18%|█▊        | 6/33 [00:00<00:03,  6.76it/s]"
     ]
    },
    {
     "name": "stdout",
     "output_type": "stream",
     "text": [
      "pos_correct: 6, neg_correct: 25\n",
      "pos_correct: 5, neg_correct: 21\n"
     ]
    },
    {
     "name": "stderr",
     "output_type": "stream",
     "text": [
      "Valid:\tEpoch: 16/20 Valid Loss: 1.6169, Valid Acc: 0.0898:  24%|██▍       | 8/33 [00:01<00:03,  6.67it/s]"
     ]
    },
    {
     "name": "stdout",
     "output_type": "stream",
     "text": [
      "pos_correct: 7, neg_correct: 24\n",
      "pos_correct: 6, neg_correct: 19\n"
     ]
    },
    {
     "name": "stderr",
     "output_type": "stream",
     "text": [
      "Valid:\tEpoch: 16/20 Valid Loss: 1.5196, Valid Acc: 0.1031:  30%|███       | 10/33 [00:01<00:03,  6.71it/s]"
     ]
    },
    {
     "name": "stdout",
     "output_type": "stream",
     "text": [
      "pos_correct: 9, neg_correct: 28\n",
      "pos_correct: 11, neg_correct: 26\n"
     ]
    },
    {
     "name": "stderr",
     "output_type": "stream",
     "text": [
      "Valid:\tEpoch: 16/20 Valid Loss: 1.4881, Valid Acc: 0.1107:  36%|███▋      | 12/33 [00:01<00:03,  6.94it/s]"
     ]
    },
    {
     "name": "stdout",
     "output_type": "stream",
     "text": [
      "pos_correct: 8, neg_correct: 23\n",
      "pos_correct: 11, neg_correct: 24\n"
     ]
    },
    {
     "name": "stderr",
     "output_type": "stream",
     "text": [
      "Valid:\tEpoch: 16/20 Valid Loss: 1.4616, Valid Acc: 0.1060:  42%|████▏     | 14/33 [00:02<00:02,  6.86it/s]"
     ]
    },
    {
     "name": "stdout",
     "output_type": "stream",
     "text": [
      "pos_correct: 6, neg_correct: 25\n",
      "pos_correct: 4, neg_correct: 25\n"
     ]
    },
    {
     "name": "stderr",
     "output_type": "stream",
     "text": [
      "Valid:\tEpoch: 16/20 Valid Loss: 1.4534, Valid Acc: 0.1045:  48%|████▊     | 16/33 [00:02<00:02,  6.86it/s]"
     ]
    },
    {
     "name": "stdout",
     "output_type": "stream",
     "text": [
      "pos_correct: 6, neg_correct: 27\n",
      "pos_correct: 6, neg_correct: 29\n"
     ]
    },
    {
     "name": "stderr",
     "output_type": "stream",
     "text": [
      "Valid:\tEpoch: 16/20 Valid Loss: 1.4540, Valid Acc: 0.1016:  55%|█████▍    | 18/33 [00:02<00:02,  6.90it/s]"
     ]
    },
    {
     "name": "stdout",
     "output_type": "stream",
     "text": [
      "pos_correct: 7, neg_correct: 29\n",
      "pos_correct: 3, neg_correct: 25\n"
     ]
    },
    {
     "name": "stderr",
     "output_type": "stream",
     "text": [
      "Valid:\tEpoch: 16/20 Valid Loss: 1.4732, Valid Acc: 0.1012:  58%|█████▊    | 19/33 [00:02<00:02,  6.84it/s]"
     ]
    },
    {
     "name": "stdout",
     "output_type": "stream",
     "text": [
      "pos_correct: 6, neg_correct: 24\n"
     ]
    },
    {
     "name": "stderr",
     "output_type": "stream",
     "text": [
      "Valid:\tEpoch: 16/20 Valid Loss: 1.5063, Valid Acc: 0.1027:  64%|██████▎   | 21/33 [00:03<00:01,  6.22it/s]"
     ]
    },
    {
     "name": "stdout",
     "output_type": "stream",
     "text": [
      "pos_correct: 8, neg_correct: 26\n",
      "pos_correct: 7, neg_correct: 24\n"
     ]
    },
    {
     "name": "stderr",
     "output_type": "stream",
     "text": [
      "Valid:\tEpoch: 16/20 Valid Loss: 1.5161, Valid Acc: 0.1067:  70%|██████▉   | 23/33 [00:03<00:01,  6.57it/s]"
     ]
    },
    {
     "name": "stdout",
     "output_type": "stream",
     "text": [
      "pos_correct: 12, neg_correct: 19\n",
      "pos_correct: 7, neg_correct: 24\n"
     ]
    },
    {
     "name": "stderr",
     "output_type": "stream",
     "text": [
      "Valid:\tEpoch: 16/20 Valid Loss: 1.5182, Valid Acc: 0.1044:  76%|███████▌  | 25/33 [00:03<00:01,  6.90it/s]"
     ]
    },
    {
     "name": "stdout",
     "output_type": "stream",
     "text": [
      "pos_correct: 6, neg_correct: 27\n",
      "pos_correct: 4, neg_correct: 22\n"
     ]
    },
    {
     "name": "stderr",
     "output_type": "stream",
     "text": [
      "Valid:\tEpoch: 16/20 Valid Loss: 1.5368, Valid Acc: 0.1013:  82%|████████▏ | 27/33 [00:04<00:00,  6.73it/s]"
     ]
    },
    {
     "name": "stdout",
     "output_type": "stream",
     "text": [
      "pos_correct: 3, neg_correct: 24\n",
      "pos_correct: 5, neg_correct: 22\n"
     ]
    },
    {
     "name": "stderr",
     "output_type": "stream",
     "text": [
      "Valid:\tEpoch: 16/20 Valid Loss: 1.5396, Valid Acc: 0.0991:  88%|████████▊ | 29/33 [00:04<00:00,  6.78it/s]"
     ]
    },
    {
     "name": "stdout",
     "output_type": "stream",
     "text": [
      "pos_correct: 1, neg_correct: 29\n",
      "pos_correct: 8, neg_correct: 23\n"
     ]
    },
    {
     "name": "stderr",
     "output_type": "stream",
     "text": [
      "Valid:\tEpoch: 16/20 Valid Loss: 1.5240, Valid Acc: 0.0983:  94%|█████████▍| 31/33 [00:04<00:00,  6.93it/s]"
     ]
    },
    {
     "name": "stdout",
     "output_type": "stream",
     "text": [
      "pos_correct: 5, neg_correct: 28\n",
      "pos_correct: 6, neg_correct: 23\n"
     ]
    },
    {
     "name": "stderr",
     "output_type": "stream",
     "text": [
      "Valid:\tEpoch: 16/20 Valid Loss: 1.5180, Valid Acc: 0.0995: 100%|██████████| 33/33 [00:04<00:00,  6.82it/s]\n"
     ]
    },
    {
     "name": "stdout",
     "output_type": "stream",
     "text": [
      "pos_correct: 7, neg_correct: 28\n",
      "pos_correct: 5, neg_correct: 12\n",
      "========================================================================\n",
      "\n"
     ]
    },
    {
     "name": "stderr",
     "output_type": "stream",
     "text": [
      "Train:\tEpoch: 17/20 Train Loss: 0.0077, Train Acc: 0.7312: 100%|██████████| 162/162 [00:52<00:00,  3.08it/s]\n",
      "Valid:\tEpoch: 17/20 Valid Loss: 1.3820, Valid Acc: 0.1406:   6%|▌         | 2/33 [00:00<00:04,  6.45it/s]"
     ]
    },
    {
     "name": "stdout",
     "output_type": "stream",
     "text": [
      "pos_correct: 10, neg_correct: 25\n",
      "pos_correct: 8, neg_correct: 22\n"
     ]
    },
    {
     "name": "stderr",
     "output_type": "stream",
     "text": [
      "Valid:\tEpoch: 17/20 Valid Loss: 1.3465, Valid Acc: 0.1510:   9%|▉         | 3/33 [00:00<00:04,  6.69it/s]"
     ]
    },
    {
     "name": "stdout",
     "output_type": "stream",
     "text": [
      "pos_correct: 11, neg_correct: 23\n"
     ]
    },
    {
     "name": "stderr",
     "output_type": "stream",
     "text": [
      "Valid:\tEpoch: 17/20 Valid Loss: 1.4124, Valid Acc: 0.1219:  15%|█▌        | 5/33 [00:00<00:05,  5.39it/s]"
     ]
    },
    {
     "name": "stdout",
     "output_type": "stream",
     "text": [
      "pos_correct: 5, neg_correct: 25\n",
      "pos_correct: 5, neg_correct: 22\n"
     ]
    },
    {
     "name": "stderr",
     "output_type": "stream",
     "text": [
      "Valid:\tEpoch: 17/20 Valid Loss: 1.6470, Valid Acc: 0.1161:  21%|██        | 7/33 [00:01<00:04,  6.10it/s]"
     ]
    },
    {
     "name": "stdout",
     "output_type": "stream",
     "text": [
      "pos_correct: 8, neg_correct: 21\n",
      "pos_correct: 5, neg_correct: 21\n"
     ]
    },
    {
     "name": "stderr",
     "output_type": "stream",
     "text": [
      "Valid:\tEpoch: 17/20 Valid Loss: 1.6414, Valid Acc: 0.1128:  27%|██▋       | 9/33 [00:01<00:03,  6.55it/s]"
     ]
    },
    {
     "name": "stdout",
     "output_type": "stream",
     "text": [
      "pos_correct: 6, neg_correct: 23\n",
      "pos_correct: 7, neg_correct: 21\n"
     ]
    },
    {
     "name": "stderr",
     "output_type": "stream",
     "text": [
      "Valid:\tEpoch: 17/20 Valid Loss: 1.5878, Valid Acc: 0.1278:  33%|███▎      | 11/33 [00:01<00:03,  6.62it/s]"
     ]
    },
    {
     "name": "stdout",
     "output_type": "stream",
     "text": [
      "pos_correct: 13, neg_correct: 22\n",
      "pos_correct: 12, neg_correct: 25\n"
     ]
    },
    {
     "name": "stderr",
     "output_type": "stream",
     "text": [
      "Valid:\tEpoch: 17/20 Valid Loss: 1.6082, Valid Acc: 0.1262:  39%|███▉      | 13/33 [00:02<00:03,  6.60it/s]"
     ]
    },
    {
     "name": "stdout",
     "output_type": "stream",
     "text": [
      "pos_correct: 10, neg_correct: 25\n",
      "pos_correct: 5, neg_correct: 22\n"
     ]
    },
    {
     "name": "stderr",
     "output_type": "stream",
     "text": [
      "Valid:\tEpoch: 17/20 Valid Loss: 1.6022, Valid Acc: 0.1271:  45%|████▌     | 15/33 [00:02<00:02,  6.66it/s]"
     ]
    },
    {
     "name": "stdout",
     "output_type": "stream",
     "text": [
      "pos_correct: 7, neg_correct: 24\n",
      "pos_correct: 10, neg_correct: 24\n"
     ]
    },
    {
     "name": "stderr",
     "output_type": "stream",
     "text": [
      "Valid:\tEpoch: 17/20 Valid Loss: 1.6069, Valid Acc: 0.1314:  52%|█████▏    | 17/33 [00:02<00:02,  6.49it/s]"
     ]
    },
    {
     "name": "stdout",
     "output_type": "stream",
     "text": [
      "pos_correct: 11, neg_correct: 22\n",
      "pos_correct: 10, neg_correct: 20\n"
     ]
    },
    {
     "name": "stderr",
     "output_type": "stream",
     "text": [
      "Valid:\tEpoch: 17/20 Valid Loss: 1.5831, Valid Acc: 0.1324:  58%|█████▊    | 19/33 [00:02<00:02,  6.56it/s]"
     ]
    },
    {
     "name": "stdout",
     "output_type": "stream",
     "text": [
      "pos_correct: 6, neg_correct: 25\n",
      "pos_correct: 12, neg_correct: 24\n"
     ]
    },
    {
     "name": "stderr",
     "output_type": "stream",
     "text": [
      "Valid:\tEpoch: 17/20 Valid Loss: 1.6150, Valid Acc: 0.1287:  64%|██████▎   | 21/33 [00:03<00:01,  6.28it/s]"
     ]
    },
    {
     "name": "stdout",
     "output_type": "stream",
     "text": [
      "pos_correct: 5, neg_correct: 25\n",
      "pos_correct: 7, neg_correct: 23\n"
     ]
    },
    {
     "name": "stderr",
     "output_type": "stream",
     "text": [
      "Valid:\tEpoch: 17/20 Valid Loss: 1.6290, Valid Acc: 0.1284:  70%|██████▉   | 23/33 [00:03<00:01,  6.50it/s]"
     ]
    },
    {
     "name": "stdout",
     "output_type": "stream",
     "text": [
      "pos_correct: 9, neg_correct: 24\n",
      "pos_correct: 7, neg_correct: 22\n"
     ]
    },
    {
     "name": "stderr",
     "output_type": "stream",
     "text": [
      "Valid:\tEpoch: 17/20 Valid Loss: 1.6001, Valid Acc: 0.1275:  76%|███████▌  | 25/33 [00:03<00:01,  6.54it/s]"
     ]
    },
    {
     "name": "stdout",
     "output_type": "stream",
     "text": [
      "pos_correct: 8, neg_correct: 27\n",
      "pos_correct: 7, neg_correct: 27\n"
     ]
    },
    {
     "name": "stderr",
     "output_type": "stream",
     "text": [
      "Valid:\tEpoch: 17/20 Valid Loss: 1.5852, Valid Acc: 0.1256:  82%|████████▏ | 27/33 [00:04<00:00,  6.53it/s]"
     ]
    },
    {
     "name": "stdout",
     "output_type": "stream",
     "text": [
      "pos_correct: 6, neg_correct: 28\n",
      "pos_correct: 7, neg_correct: 22\n"
     ]
    },
    {
     "name": "stderr",
     "output_type": "stream",
     "text": [
      "Valid:\tEpoch: 17/20 Valid Loss: 1.5771, Valid Acc: 0.1261:  88%|████████▊ | 29/33 [00:04<00:00,  6.59it/s]"
     ]
    },
    {
     "name": "stdout",
     "output_type": "stream",
     "text": [
      "pos_correct: 6, neg_correct: 23\n",
      "pos_correct: 11, neg_correct: 23\n"
     ]
    },
    {
     "name": "stderr",
     "output_type": "stream",
     "text": [
      "Valid:\tEpoch: 17/20 Valid Loss: 1.5726, Valid Acc: 0.1210:  94%|█████████▍| 31/33 [00:04<00:00,  6.59it/s]"
     ]
    },
    {
     "name": "stdout",
     "output_type": "stream",
     "text": [
      "pos_correct: 2, neg_correct: 23\n",
      "pos_correct: 4, neg_correct: 29\n"
     ]
    },
    {
     "name": "stderr",
     "output_type": "stream",
     "text": [
      "Valid:\tEpoch: 17/20 Valid Loss: 1.5623, Valid Acc: 0.1212: 100%|██████████| 33/33 [00:05<00:00,  6.44it/s]\n"
     ]
    },
    {
     "name": "stdout",
     "output_type": "stream",
     "text": [
      "pos_correct: 9, neg_correct: 27\n",
      "pos_correct: 3, neg_correct: 10\n",
      "========================================================================\n",
      "\n"
     ]
    },
    {
     "name": "stderr",
     "output_type": "stream",
     "text": [
      "Train:\tEpoch: 18/20 Train Loss: 0.0073, Train Acc: 0.7560:  63%|██████▎   | 102/162 [00:33<00:19,  3.06it/s]\n"
     ]
    },
    {
     "ename": "KeyboardInterrupt",
     "evalue": "",
     "output_type": "error",
     "traceback": [
      "\u001b[1;31m---------------------------------------------------------------------------\u001b[0m",
      "\u001b[1;31mKeyboardInterrupt\u001b[0m                         Traceback (most recent call last)",
      "Cell \u001b[1;32mIn[14], line 3\u001b[0m\n\u001b[0;32m      1\u001b[0m audio_data_shape\u001b[38;5;241m=\u001b[39m(\u001b[38;5;241m250\u001b[39m, \u001b[38;5;241m400\u001b[39m)\n\u001b[0;32m      2\u001b[0m model \u001b[38;5;241m=\u001b[39m init_model(input_shape\u001b[38;5;241m=\u001b[39maudio_data_shape)\n\u001b[1;32m----> 3\u001b[0m train_model(\n\u001b[0;32m      4\u001b[0m     train_audio_triplet_dataset, \n\u001b[0;32m      5\u001b[0m     valid_audio_triplet_dataset, \n\u001b[0;32m      6\u001b[0m     model,\n\u001b[0;32m      7\u001b[0m )\n",
      "Cell \u001b[1;32mIn[11], line 23\u001b[0m, in \u001b[0;36mtrain_model\u001b[1;34m(train_dataset, valid_dataset, model)\u001b[0m\n\u001b[0;32m     20\u001b[0m summary_writer \u001b[38;5;241m=\u001b[39m SummaryWriter(training_config\u001b[38;5;241m.\u001b[39mlog_dir)\n\u001b[0;32m     22\u001b[0m \u001b[38;5;66;03m# Train and Validate\u001b[39;00m\n\u001b[1;32m---> 23\u001b[0m train_loss, train_acc, val_loss, val_acc \u001b[38;5;241m=\u001b[39m main(\n\u001b[0;32m     24\u001b[0m     model,\n\u001b[0;32m     25\u001b[0m     (train_loader, valid_loader),\n\u001b[0;32m     26\u001b[0m     summary_writer\u001b[38;5;241m=\u001b[39msummary_writer,\n\u001b[0;32m     27\u001b[0m     scheduler\u001b[38;5;241m=\u001b[39m\u001b[38;5;28;01mNone\u001b[39;00m,\n\u001b[0;32m     28\u001b[0m     system_config\u001b[38;5;241m=\u001b[39mSystemConfig(),\n\u001b[0;32m     29\u001b[0m     training_config\u001b[38;5;241m=\u001b[39mtraining_config,\n\u001b[0;32m     30\u001b[0m     data_augmentation\u001b[38;5;241m=\u001b[39m\u001b[38;5;28;01mFalse\u001b[39;00m,\n\u001b[0;32m     31\u001b[0m )\n\u001b[0;32m     33\u001b[0m \u001b[38;5;66;03m# plot loss and accuracy\u001b[39;00m\n\u001b[0;32m     34\u001b[0m plot_loss_accuracy(\n\u001b[0;32m     35\u001b[0m     train_loss\u001b[38;5;241m=\u001b[39m[train_loss],\n\u001b[0;32m     36\u001b[0m     val_loss\u001b[38;5;241m=\u001b[39m[val_loss],\n\u001b[1;32m   (...)\u001b[0m\n\u001b[0;32m     41\u001b[0m     acc_legend_loc\u001b[38;5;241m=\u001b[39m\u001b[38;5;124m\"\u001b[39m\u001b[38;5;124mupper left\u001b[39m\u001b[38;5;124m\"\u001b[39m,\n\u001b[0;32m     42\u001b[0m )\n",
      "File \u001b[1;32md:\\Code\\msc-project\\notebooks\\..\\src\\models\\main.py:56\u001b[0m, in \u001b[0;36mmain\u001b[1;34m(model, data_loader, summary_writer, scheduler, system_config, training_config, data_augmentation)\u001b[0m\n\u001b[0;32m     53\u001b[0m t_begin \u001b[38;5;241m=\u001b[39m time\u001b[38;5;241m.\u001b[39mtime()\n\u001b[0;32m     55\u001b[0m \u001b[38;5;28;01mfor\u001b[39;00m epoch \u001b[38;5;129;01min\u001b[39;00m \u001b[38;5;28mrange\u001b[39m(NUM_EPOCHS):\n\u001b[1;32m---> 56\u001b[0m     train_loss, train_acc \u001b[38;5;241m=\u001b[39m train(training_config, model, optimizer, train_loader, epoch \u001b[38;5;241m+\u001b[39m \u001b[38;5;241m1\u001b[39m, NUM_EPOCHS, criterion)\n\u001b[0;32m     57\u001b[0m     val_loss, val_accuracy \u001b[38;5;241m=\u001b[39m validate(training_config, model, valid_loader, epoch \u001b[38;5;241m+\u001b[39m \u001b[38;5;241m1\u001b[39m, NUM_EPOCHS, criterion)\n\u001b[0;32m     59\u001b[0m     epoch_train_loss\u001b[38;5;241m.\u001b[39mappend(train_loss)\n",
      "File \u001b[1;32md:\\Code\\msc-project\\notebooks\\..\\src\\models\\train.py:55\u001b[0m, in \u001b[0;36mtrain\u001b[1;34m(train_config, model, optimizer, train_loader, epoch_idx, total_epochs, criterion)\u001b[0m\n\u001b[0;32m     52\u001b[0m optimizer\u001b[38;5;241m.\u001b[39mstep()\n\u001b[0;32m     54\u001b[0m \u001b[38;5;66;03m# batch Loss.\u001b[39;00m\n\u001b[1;32m---> 55\u001b[0m mean_metric\u001b[38;5;241m.\u001b[39mupdate(loss\u001b[38;5;241m.\u001b[39mitem(), weight\u001b[38;5;241m=\u001b[39manchor\u001b[38;5;241m.\u001b[39msize(\u001b[38;5;241m0\u001b[39m))\n\u001b[0;32m     57\u001b[0m \u001b[38;5;66;03m# calculate similarities\u001b[39;00m\n\u001b[0;32m     58\u001b[0m positive_similarity \u001b[38;5;241m=\u001b[39m F\u001b[38;5;241m.\u001b[39mpairwise_distance(anchor_output, positive_output, p\u001b[38;5;241m=\u001b[39m\u001b[38;5;241m2\u001b[39m)\n",
      "\u001b[1;31mKeyboardInterrupt\u001b[0m: "
     ]
    }
   ],
   "source": [
    "audio_data_shape=(250, 400)\n",
    "model = init_model(input_shape=audio_data_shape)\n",
    "train_model(\n",
    "    train_audio_triplet_dataset, \n",
    "    valid_audio_triplet_dataset, \n",
    "    model,\n",
    "    \"audio_model.pt\"\n",
    ")"
   ]
  },
  {
   "cell_type": "markdown",
   "metadata": {},
   "source": [
    "### Landmark Model"
   ]
  },
  {
   "cell_type": "code",
   "execution_count": 10,
   "metadata": {},
   "outputs": [],
   "source": [
    "from src.models import STGCN"
   ]
  },
  {
   "cell_type": "code",
   "execution_count": 11,
   "metadata": {},
   "outputs": [
    {
     "name": "stdout",
     "output_type": "stream",
     "text": [
      "STGCN(\n",
      "  (temporal_conv1): Conv2d(250, 64, kernel_size=(3, 1), stride=(1, 1))\n",
      "  (graph_conv1): GraphConvLayer(\n",
      "    (fc): Linear(in_features=64, out_features=32, bias=True)\n",
      "  )\n",
      "  (temporal_conv2): Conv2d(32, 64, kernel_size=(3, 1), stride=(1, 1), padding=(1, 0))\n",
      ")\n",
      "Logging at: ..\\output\\Logs_Checkpoints\\Model_logs\\version_42\n",
      "Model Checkpoint at: ..\\output\\Logs_Checkpoints\\Model_checkpoints\\version_42\n"
     ]
    },
    {
     "name": "stderr",
     "output_type": "stream",
     "text": [
      "Train:\tEpoch: 1/20 Train Loss: 1.0716, Train Acc: 31.8896: 100%|██████████| 162/162 [00:10<00:00, 15.61it/s]\n",
      "Valid:\tEpoch: 1/20 Valid Loss: 1.0035, Valid Acc: 32.0299:  33%|███▎      | 11/33 [00:00<00:00, 104.10it/s]"
     ]
    },
    {
     "name": "stdout",
     "output_type": "stream",
     "text": [
      "pos_correct: 2012, neg_correct: 77\n",
      "pos_correct: 2040, neg_correct: 32\n",
      "pos_correct: 2003, neg_correct: 113\n",
      "pos_correct: 1891, neg_correct: 104\n",
      "pos_correct: 1877, neg_correct: 206\n",
      "pos_correct: 1908, neg_correct: 141\n",
      "pos_correct: 1964, neg_correct: 89\n",
      "pos_correct: 1903, neg_correct: 137\n",
      "pos_correct: 1865, neg_correct: 191\n",
      "pos_correct: 1854, neg_correct: 93\n",
      "pos_correct: 2040, neg_correct: 168\n",
      "pos_correct: 1887, neg_correct: 139\n",
      "pos_correct: 1785, neg_correct: 207\n",
      "pos_correct: 1806, neg_correct: 193\n",
      "pos_correct: 1824, neg_correct: 124\n",
      "pos_correct: 1959, neg_correct: 61\n",
      "pos_correct: 1892, neg_correct: 308\n",
      "pos_correct: 1857, neg_correct: 103\n",
      "pos_correct: 1973, neg_correct: 138\n",
      "pos_correct: 1826, neg_correct: 164\n",
      "pos_correct: 1916, neg_correct: 87\n",
      "pos_correct: 1887, neg_correct: 173\n",
      "pos_correct: 1908, neg_correct: 223\n"
     ]
    },
    {
     "name": "stderr",
     "output_type": "stream",
     "text": [
      "Valid:\tEpoch: 1/20 Valid Loss: 1.0017, Valid Acc: 32.0750: 100%|██████████| 33/33 [00:00<00:00, 108.45it/s]\n"
     ]
    },
    {
     "name": "stdout",
     "output_type": "stream",
     "text": [
      "pos_correct: 1967, neg_correct: 79\n",
      "pos_correct: 1898, neg_correct: 144\n",
      "pos_correct: 1953, neg_correct: 76\n",
      "pos_correct: 1984, neg_correct: 97\n",
      "pos_correct: 1845, neg_correct: 214\n",
      "pos_correct: 2009, neg_correct: 47\n",
      "pos_correct: 1957, neg_correct: 72\n",
      "pos_correct: 2006, neg_correct: 103\n",
      "pos_correct: 1860, neg_correct: 161\n",
      "pos_correct: 1023, neg_correct: 73\n",
      "\n",
      "Model Improved... Saving Model ... Done.\n",
      "\n",
      "========================================================================\n",
      "\n"
     ]
    },
    {
     "name": "stderr",
     "output_type": "stream",
     "text": [
      "Train:\tEpoch: 2/20 Train Loss: 1.0058, Train Acc: 31.9928: 100%|██████████| 162/162 [00:04<00:00, 38.89it/s]\n",
      "Valid:\tEpoch: 2/20 Valid Loss: 0.9999, Valid Acc: 32.0000:  21%|██        | 7/33 [00:00<00:00, 68.54it/s]"
     ]
    },
    {
     "name": "stdout",
     "output_type": "stream",
     "text": [
      "pos_correct: 2048, neg_correct: 0\n",
      "pos_correct: 2048, neg_correct: 0\n",
      "pos_correct: 2048, neg_correct: 0\n",
      "pos_correct: 2048, neg_correct: 0\n",
      "pos_correct: 2048, neg_correct: 0\n",
      "pos_correct: 2048, neg_correct: 0\n",
      "pos_correct: 2048, neg_correct: 0\n",
      "pos_correct: 2048, neg_correct: 0\n",
      "pos_correct: 2048, neg_correct: 0\n",
      "pos_correct: 2048, neg_correct: 0\n",
      "pos_correct: 2048, neg_correct: 0\n",
      "pos_correct: 2048, neg_correct: 0\n",
      "pos_correct: 2048, neg_correct: 0\n",
      "pos_correct: 2048, neg_correct: 0\n"
     ]
    },
    {
     "name": "stderr",
     "output_type": "stream",
     "text": [
      "Valid:\tEpoch: 2/20 Valid Loss: 0.9999, Valid Acc: 32.0000:  70%|██████▉   | 23/33 [00:00<00:00, 63.46it/s]"
     ]
    },
    {
     "name": "stdout",
     "output_type": "stream",
     "text": [
      "pos_correct: 2048, neg_correct: 0\n",
      "pos_correct: 2048, neg_correct: 0\n",
      "pos_correct: 2048, neg_correct: 0\n",
      "pos_correct: 2048, neg_correct: 0\n",
      "pos_correct: 2048, neg_correct: 0\n",
      "pos_correct: 2048, neg_correct: 0\n",
      "pos_correct: 2048, neg_correct: 0\n",
      "pos_correct: 2048, neg_correct: 0\n",
      "pos_correct: 2048, neg_correct: 0\n",
      "pos_correct: 2048, neg_correct: 0\n",
      "pos_correct: 2048, neg_correct: 0\n",
      "pos_correct: 2048, neg_correct: 0\n"
     ]
    },
    {
     "name": "stderr",
     "output_type": "stream",
     "text": [
      "Valid:\tEpoch: 2/20 Valid Loss: 0.9999, Valid Acc: 32.0000: 100%|██████████| 33/33 [00:00<00:00, 64.67it/s]\n"
     ]
    },
    {
     "name": "stdout",
     "output_type": "stream",
     "text": [
      "pos_correct: 2048, neg_correct: 0\n",
      "pos_correct: 2048, neg_correct: 0\n",
      "pos_correct: 2048, neg_correct: 0\n",
      "pos_correct: 2048, neg_correct: 0\n",
      "pos_correct: 2048, neg_correct: 0\n",
      "pos_correct: 2048, neg_correct: 0\n",
      "pos_correct: 1024, neg_correct: 0\n",
      "\n",
      "Model Improved... Saving Model ... Done.\n",
      "\n",
      "========================================================================\n",
      "\n"
     ]
    },
    {
     "name": "stderr",
     "output_type": "stream",
     "text": [
      "Train:\tEpoch: 3/20 Train Loss: 1.0001, Train Acc: 32.0000: 100%|██████████| 162/162 [00:03<00:00, 46.11it/s]\n",
      "Valid:\tEpoch: 3/20 Valid Loss: 1.0000, Valid Acc: 32.0000:  24%|██▍       | 8/33 [00:00<00:00, 72.95it/s]"
     ]
    },
    {
     "name": "stdout",
     "output_type": "stream",
     "text": [
      "pos_correct: 2048, neg_correct: 0\n",
      "pos_correct: 2048, neg_correct: 0\n",
      "pos_correct: 2048, neg_correct: 0\n",
      "pos_correct: 2048, neg_correct: 0\n",
      "pos_correct: 2048, neg_correct: 0\n",
      "pos_correct: 2048, neg_correct: 0\n",
      "pos_correct: 2048, neg_correct: 0\n",
      "pos_correct: 2048, neg_correct: 0\n",
      "pos_correct: 2048, neg_correct: 0\n",
      "pos_correct: 2048, neg_correct: 0\n",
      "pos_correct: 2048, neg_correct: 0\n",
      "pos_correct: 2048, neg_correct: 0\n",
      "pos_correct: 2048, neg_correct: 0\n",
      "pos_correct: 2048, neg_correct: 0\n",
      "pos_correct: 2048, neg_correct: 0\n"
     ]
    },
    {
     "name": "stderr",
     "output_type": "stream",
     "text": [
      "Valid:\tEpoch: 3/20 Valid Loss: 1.0000, Valid Acc: 32.0000:  73%|███████▎  | 24/33 [00:00<00:00, 68.43it/s]"
     ]
    },
    {
     "name": "stdout",
     "output_type": "stream",
     "text": [
      "pos_correct: 2048, neg_correct: 0\n",
      "pos_correct: 2048, neg_correct: 0\n",
      "pos_correct: 2048, neg_correct: 0\n",
      "pos_correct: 2048, neg_correct: 0\n",
      "pos_correct: 2048, neg_correct: 0\n",
      "pos_correct: 2048, neg_correct: 0\n",
      "pos_correct: 2048, neg_correct: 0\n",
      "pos_correct: 2048, neg_correct: 0\n",
      "pos_correct: 2048, neg_correct: 0\n",
      "pos_correct: 2048, neg_correct: 0\n",
      "pos_correct: 2048, neg_correct: 0\n",
      "pos_correct: 2048, neg_correct: 0\n",
      "pos_correct: 2048, neg_correct: 0\n"
     ]
    },
    {
     "name": "stderr",
     "output_type": "stream",
     "text": [
      "Valid:\tEpoch: 3/20 Valid Loss: 1.0000, Valid Acc: 32.0000: 100%|██████████| 33/33 [00:00<00:00, 68.50it/s]\n"
     ]
    },
    {
     "name": "stdout",
     "output_type": "stream",
     "text": [
      "pos_correct: 2048, neg_correct: 0\n",
      "pos_correct: 2048, neg_correct: 0\n",
      "pos_correct: 2048, neg_correct: 0\n",
      "pos_correct: 2048, neg_correct: 0\n",
      "pos_correct: 1024, neg_correct: 0\n",
      "========================================================================\n",
      "\n"
     ]
    },
    {
     "name": "stderr",
     "output_type": "stream",
     "text": [
      "Train:\tEpoch: 4/20 Train Loss: 1.0001, Train Acc: 31.9946: 100%|██████████| 162/162 [00:03<00:00, 46.33it/s]\n",
      "Valid:\tEpoch: 4/20 Valid Loss: 1.0000, Valid Acc: 32.0000:  21%|██        | 7/33 [00:00<00:00, 66.56it/s]"
     ]
    },
    {
     "name": "stdout",
     "output_type": "stream",
     "text": [
      "pos_correct: 2048, neg_correct: 0\n",
      "pos_correct: 2048, neg_correct: 0\n",
      "pos_correct: 2048, neg_correct: 0\n",
      "pos_correct: 2048, neg_correct: 0\n",
      "pos_correct: 2048, neg_correct: 0\n",
      "pos_correct: 2048, neg_correct: 0\n",
      "pos_correct: 2048, neg_correct: 0\n",
      "pos_correct: 2048, neg_correct: 0\n",
      "pos_correct: 2048, neg_correct: 0\n",
      "pos_correct: 2048, neg_correct: 0\n",
      "pos_correct: 2048, neg_correct: 0\n",
      "pos_correct: 2048, neg_correct: 0\n",
      "pos_correct: 2048, neg_correct: 0\n",
      "pos_correct: 2048, neg_correct: 0\n"
     ]
    },
    {
     "name": "stderr",
     "output_type": "stream",
     "text": [
      "Valid:\tEpoch: 4/20 Valid Loss: 1.0000, Valid Acc: 32.0000:  67%|██████▋   | 22/33 [00:00<00:00, 66.07it/s]"
     ]
    },
    {
     "name": "stdout",
     "output_type": "stream",
     "text": [
      "pos_correct: 2048, neg_correct: 0\n",
      "pos_correct: 2048, neg_correct: 0\n",
      "pos_correct: 2048, neg_correct: 0\n",
      "pos_correct: 2048, neg_correct: 0\n",
      "pos_correct: 2048, neg_correct: 0\n",
      "pos_correct: 2048, neg_correct: 0\n",
      "pos_correct: 2048, neg_correct: 0\n",
      "pos_correct: 2048, neg_correct: 0\n",
      "pos_correct: 2048, neg_correct: 0\n",
      "pos_correct: 2048, neg_correct: 0\n",
      "pos_correct: 2048, neg_correct: 0\n",
      "pos_correct: 2048, neg_correct: 0\n",
      "pos_correct: 2048, neg_correct: 0\n",
      "pos_correct: 2048, neg_correct: 0\n"
     ]
    },
    {
     "name": "stderr",
     "output_type": "stream",
     "text": [
      "Valid:\tEpoch: 4/20 Valid Loss: 1.0000, Valid Acc: 32.0000: 100%|██████████| 33/33 [00:00<00:00, 66.57it/s]\n"
     ]
    },
    {
     "name": "stdout",
     "output_type": "stream",
     "text": [
      "pos_correct: 2048, neg_correct: 0\n",
      "pos_correct: 2048, neg_correct: 0\n",
      "pos_correct: 2048, neg_correct: 0\n",
      "pos_correct: 2048, neg_correct: 0\n",
      "pos_correct: 1024, neg_correct: 0\n",
      "========================================================================\n",
      "\n"
     ]
    },
    {
     "name": "stderr",
     "output_type": "stream",
     "text": [
      "Train:\tEpoch: 5/20 Train Loss: 1.0000, Train Acc: 32.0000: 100%|██████████| 162/162 [00:03<00:00, 44.84it/s]\n",
      "Valid:\tEpoch: 5/20 Valid Loss: 1.0000, Valid Acc: 32.0000:  24%|██▍       | 8/33 [00:00<00:00, 71.48it/s]"
     ]
    },
    {
     "name": "stdout",
     "output_type": "stream",
     "text": [
      "pos_correct: 2048, neg_correct: 0\n",
      "pos_correct: 2048, neg_correct: 0\n",
      "pos_correct: 2048, neg_correct: 0\n",
      "pos_correct: 2048, neg_correct: 0\n",
      "pos_correct: 2048, neg_correct: 0\n",
      "pos_correct: 2048, neg_correct: 0\n",
      "pos_correct: 2048, neg_correct: 0\n",
      "pos_correct: 2048, neg_correct: 0\n",
      "pos_correct: 2048, neg_correct: 0\n",
      "pos_correct: 2048, neg_correct: 0\n",
      "pos_correct: 2048, neg_correct: 0\n",
      "pos_correct: 2048, neg_correct: 0\n",
      "pos_correct: 2048, neg_correct: 0\n",
      "pos_correct: 2048, neg_correct: 0\n"
     ]
    },
    {
     "name": "stderr",
     "output_type": "stream",
     "text": [
      "Valid:\tEpoch: 5/20 Valid Loss: 1.0000, Valid Acc: 32.0000:  73%|███████▎  | 24/33 [00:00<00:00, 70.15it/s]"
     ]
    },
    {
     "name": "stdout",
     "output_type": "stream",
     "text": [
      "pos_correct: 2048, neg_correct: 0\n",
      "pos_correct: 2048, neg_correct: 0\n",
      "pos_correct: 2048, neg_correct: 0\n",
      "pos_correct: 2048, neg_correct: 0\n",
      "pos_correct: 2048, neg_correct: 0\n",
      "pos_correct: 2048, neg_correct: 0\n",
      "pos_correct: 2048, neg_correct: 0\n",
      "pos_correct: 2048, neg_correct: 0\n",
      "pos_correct: 2048, neg_correct: 0\n",
      "pos_correct: 2048, neg_correct: 0\n",
      "pos_correct: 2048, neg_correct: 0\n",
      "pos_correct: 2048, neg_correct: 0\n",
      "pos_correct: 2048, neg_correct: 0\n",
      "pos_correct: 2048, neg_correct: 0\n",
      "pos_correct: 2048, neg_correct: 0\n"
     ]
    },
    {
     "name": "stderr",
     "output_type": "stream",
     "text": [
      "Valid:\tEpoch: 5/20 Valid Loss: 1.0000, Valid Acc: 32.0000: 100%|██████████| 33/33 [00:00<00:00, 71.80it/s]\n"
     ]
    },
    {
     "name": "stdout",
     "output_type": "stream",
     "text": [
      "pos_correct: 2048, neg_correct: 0\n",
      "pos_correct: 2048, neg_correct: 0\n",
      "pos_correct: 2048, neg_correct: 0\n",
      "pos_correct: 1024, neg_correct: 0\n",
      "========================================================================\n",
      "\n"
     ]
    },
    {
     "name": "stderr",
     "output_type": "stream",
     "text": [
      "Train:\tEpoch: 6/20 Train Loss: 1.0000, Train Acc: 32.0000: 100%|██████████| 162/162 [00:03<00:00, 45.46it/s]\n",
      "Valid:\tEpoch: 6/20 Valid Loss: 1.0000, Valid Acc: 32.0000:  18%|█▊        | 6/33 [00:00<00:00, 56.13it/s]"
     ]
    },
    {
     "name": "stdout",
     "output_type": "stream",
     "text": [
      "pos_correct: 2048, neg_correct: 0\n",
      "pos_correct: 2048, neg_correct: 0\n",
      "pos_correct: 2048, neg_correct: 0\n",
      "pos_correct: 2048, neg_correct: 0\n",
      "pos_correct: 2048, neg_correct: 0\n",
      "pos_correct: 2048, neg_correct: 0\n",
      "pos_correct: 2048, neg_correct: 0\n",
      "pos_correct: 2048, neg_correct: 0\n",
      "pos_correct: 2048, neg_correct: 0\n",
      "pos_correct: 2048, neg_correct: 0\n",
      "pos_correct: 2048, neg_correct: 0\n",
      "pos_correct: 2048, neg_correct: 0\n",
      "pos_correct: 2048, neg_correct: 0\n"
     ]
    },
    {
     "name": "stderr",
     "output_type": "stream",
     "text": [
      "Valid:\tEpoch: 6/20 Valid Loss: 1.0000, Valid Acc: 32.0000:  64%|██████▎   | 21/33 [00:00<00:00, 66.19it/s]"
     ]
    },
    {
     "name": "stdout",
     "output_type": "stream",
     "text": [
      "pos_correct: 2048, neg_correct: 0\n",
      "pos_correct: 2048, neg_correct: 0\n",
      "pos_correct: 2048, neg_correct: 0\n",
      "pos_correct: 2048, neg_correct: 0\n",
      "pos_correct: 2048, neg_correct: 0\n",
      "pos_correct: 2048, neg_correct: 0\n",
      "pos_correct: 2048, neg_correct: 0\n",
      "pos_correct: 2048, neg_correct: 0\n",
      "pos_correct: 2048, neg_correct: 0\n",
      "pos_correct: 2048, neg_correct: 0\n",
      "pos_correct: 2048, neg_correct: 0\n",
      "pos_correct: 2048, neg_correct: 0\n",
      "pos_correct: 2048, neg_correct: 0\n",
      "pos_correct: 2048, neg_correct: 0\n"
     ]
    },
    {
     "name": "stderr",
     "output_type": "stream",
     "text": [
      "Valid:\tEpoch: 6/20 Valid Loss: 1.0000, Valid Acc: 32.0000: 100%|██████████| 33/33 [00:00<00:00, 66.85it/s]\n"
     ]
    },
    {
     "name": "stdout",
     "output_type": "stream",
     "text": [
      "pos_correct: 2048, neg_correct: 0\n",
      "pos_correct: 2048, neg_correct: 0\n",
      "pos_correct: 2048, neg_correct: 0\n",
      "pos_correct: 2048, neg_correct: 0\n",
      "pos_correct: 2048, neg_correct: 0\n",
      "pos_correct: 1024, neg_correct: 0\n",
      "========================================================================\n",
      "\n"
     ]
    },
    {
     "name": "stderr",
     "output_type": "stream",
     "text": [
      "Train:\tEpoch: 7/20 Train Loss: 1.0000, Train Acc: 32.0000: 100%|██████████| 162/162 [00:03<00:00, 48.43it/s]\n",
      "Valid:\tEpoch: 7/20 Valid Loss: 1.0000, Valid Acc: 32.0000:  21%|██        | 7/33 [00:00<00:00, 65.07it/s]"
     ]
    },
    {
     "name": "stdout",
     "output_type": "stream",
     "text": [
      "pos_correct: 2048, neg_correct: 0\n",
      "pos_correct: 2048, neg_correct: 0\n",
      "pos_correct: 2048, neg_correct: 0\n",
      "pos_correct: 2048, neg_correct: 0\n",
      "pos_correct: 2048, neg_correct: 0\n",
      "pos_correct: 2048, neg_correct: 0\n",
      "pos_correct: 2048, neg_correct: 0\n",
      "pos_correct: 2048, neg_correct: 0\n",
      "pos_correct: 2048, neg_correct: 0\n",
      "pos_correct: 2048, neg_correct: 0\n",
      "pos_correct: 2048, neg_correct: 0\n",
      "pos_correct: 2048, neg_correct: 0\n",
      "pos_correct: 2048, neg_correct: 0\n"
     ]
    },
    {
     "name": "stderr",
     "output_type": "stream",
     "text": [
      "Valid:\tEpoch: 7/20 Valid Loss: 1.0000, Valid Acc: 32.0000:  64%|██████▎   | 21/33 [00:00<00:00, 60.00it/s]"
     ]
    },
    {
     "name": "stdout",
     "output_type": "stream",
     "text": [
      "pos_correct: 2048, neg_correct: 0\n",
      "pos_correct: 2048, neg_correct: 0\n",
      "pos_correct: 2048, neg_correct: 0\n",
      "pos_correct: 2048, neg_correct: 0\n",
      "pos_correct: 2048, neg_correct: 0\n",
      "pos_correct: 2048, neg_correct: 0\n",
      "pos_correct: 2048, neg_correct: 0\n",
      "pos_correct: 2048, neg_correct: 0\n",
      "pos_correct: 2048, neg_correct: 0\n",
      "pos_correct: 2048, neg_correct: 0\n"
     ]
    },
    {
     "name": "stderr",
     "output_type": "stream",
     "text": [
      "Valid:\tEpoch: 7/20 Valid Loss: 1.0000, Valid Acc: 32.0000: 100%|██████████| 33/33 [00:00<00:00, 61.15it/s]\n"
     ]
    },
    {
     "name": "stdout",
     "output_type": "stream",
     "text": [
      "pos_correct: 2048, neg_correct: 0\n",
      "pos_correct: 2048, neg_correct: 0\n",
      "pos_correct: 2048, neg_correct: 0\n",
      "pos_correct: 2048, neg_correct: 0\n",
      "pos_correct: 2048, neg_correct: 0\n",
      "pos_correct: 2048, neg_correct: 0\n",
      "pos_correct: 2048, neg_correct: 0\n",
      "pos_correct: 2048, neg_correct: 0\n",
      "pos_correct: 2048, neg_correct: 0\n",
      "pos_correct: 1024, neg_correct: 0\n",
      "========================================================================\n",
      "\n"
     ]
    },
    {
     "name": "stderr",
     "output_type": "stream",
     "text": [
      "Train:\tEpoch: 8/20 Train Loss: 1.0000, Train Acc: 32.0000: 100%|██████████| 162/162 [00:03<00:00, 47.92it/s]\n",
      "Valid:\tEpoch: 8/20 Valid Loss: 1.0000, Valid Acc: 32.0000:  21%|██        | 7/33 [00:00<00:00, 64.50it/s]"
     ]
    },
    {
     "name": "stdout",
     "output_type": "stream",
     "text": [
      "pos_correct: 2048, neg_correct: 0\n",
      "pos_correct: 2048, neg_correct: 0\n",
      "pos_correct: 2048, neg_correct: 0\n",
      "pos_correct: 2048, neg_correct: 0\n",
      "pos_correct: 2048, neg_correct: 0\n",
      "pos_correct: 2048, neg_correct: 0\n",
      "pos_correct: 2048, neg_correct: 0\n",
      "pos_correct: 2048, neg_correct: 0\n",
      "pos_correct: 2048, neg_correct: 0\n",
      "pos_correct: 2048, neg_correct: 0\n",
      "pos_correct: 2048, neg_correct: 0\n",
      "pos_correct: 2048, neg_correct: 0\n",
      "pos_correct: 2048, neg_correct: 0\n",
      "pos_correct: 2048, neg_correct: 0\n"
     ]
    },
    {
     "name": "stderr",
     "output_type": "stream",
     "text": [
      "Valid:\tEpoch: 8/20 Valid Loss: 1.0000, Valid Acc: 32.0000:  67%|██████▋   | 22/33 [00:00<00:00, 67.02it/s]"
     ]
    },
    {
     "name": "stdout",
     "output_type": "stream",
     "text": [
      "pos_correct: 2048, neg_correct: 0\n",
      "pos_correct: 2048, neg_correct: 0\n",
      "pos_correct: 2048, neg_correct: 0\n",
      "pos_correct: 2048, neg_correct: 0\n",
      "pos_correct: 2048, neg_correct: 0\n",
      "pos_correct: 2048, neg_correct: 0\n",
      "pos_correct: 2048, neg_correct: 0\n",
      "pos_correct: 2048, neg_correct: 0\n",
      "pos_correct: 2048, neg_correct: 0\n",
      "pos_correct: 2048, neg_correct: 0\n",
      "pos_correct: 2048, neg_correct: 0\n"
     ]
    },
    {
     "name": "stderr",
     "output_type": "stream",
     "text": [
      "Valid:\tEpoch: 8/20 Valid Loss: 1.0000, Valid Acc: 32.0000: 100%|██████████| 33/33 [00:00<00:00, 61.92it/s]\n"
     ]
    },
    {
     "name": "stdout",
     "output_type": "stream",
     "text": [
      "pos_correct: 2048, neg_correct: 0\n",
      "pos_correct: 2048, neg_correct: 0\n",
      "pos_correct: 2048, neg_correct: 0\n",
      "pos_correct: 2048, neg_correct: 0\n",
      "pos_correct: 2048, neg_correct: 0\n",
      "pos_correct: 2048, neg_correct: 0\n",
      "pos_correct: 2048, neg_correct: 0\n",
      "pos_correct: 1024, neg_correct: 0\n",
      "========================================================================\n",
      "\n"
     ]
    },
    {
     "name": "stderr",
     "output_type": "stream",
     "text": [
      "Train:\tEpoch: 9/20 Train Loss: 1.0000, Train Acc: 32.0000: 100%|██████████| 162/162 [00:03<00:00, 46.35it/s]\n",
      "Valid:\tEpoch: 9/20 Valid Loss: 1.0000, Valid Acc: 32.0000:  18%|█▊        | 6/33 [00:00<00:00, 59.71it/s]"
     ]
    },
    {
     "name": "stdout",
     "output_type": "stream",
     "text": [
      "pos_correct: 2048, neg_correct: 0\n",
      "pos_correct: 2048, neg_correct: 0\n",
      "pos_correct: 2048, neg_correct: 0\n",
      "pos_correct: 2048, neg_correct: 0\n",
      "pos_correct: 2048, neg_correct: 0\n",
      "pos_correct: 2048, neg_correct: 0\n",
      "pos_correct: 2048, neg_correct: 0\n",
      "pos_correct: 2048, neg_correct: 0\n",
      "pos_correct: 2048, neg_correct: 0\n",
      "pos_correct: 2048, neg_correct: 0\n",
      "pos_correct: 2048, neg_correct: 0\n",
      "pos_correct: 2048, neg_correct: 0\n",
      "pos_correct: 2048, neg_correct: 0\n"
     ]
    },
    {
     "name": "stderr",
     "output_type": "stream",
     "text": [
      "Valid:\tEpoch: 9/20 Valid Loss: 1.0000, Valid Acc: 32.0000:  79%|███████▉  | 26/33 [00:00<00:00, 60.53it/s]"
     ]
    },
    {
     "name": "stdout",
     "output_type": "stream",
     "text": [
      "pos_correct: 2048, neg_correct: 0\n",
      "pos_correct: 2048, neg_correct: 0\n",
      "pos_correct: 2048, neg_correct: 0\n",
      "pos_correct: 2048, neg_correct: 0\n",
      "pos_correct: 2048, neg_correct: 0\n",
      "pos_correct: 2048, neg_correct: 0\n",
      "pos_correct: 2048, neg_correct: 0\n",
      "pos_correct: 2048, neg_correct: 0\n",
      "pos_correct: 2048, neg_correct: 0\n",
      "pos_correct: 2048, neg_correct: 0\n",
      "pos_correct: 2048, neg_correct: 0\n",
      "pos_correct: 2048, neg_correct: 0\n",
      "pos_correct: 2048, neg_correct: 0\n",
      "pos_correct: 2048, neg_correct: 0\n"
     ]
    },
    {
     "name": "stderr",
     "output_type": "stream",
     "text": [
      "Valid:\tEpoch: 9/20 Valid Loss: 1.0000, Valid Acc: 32.0000: 100%|██████████| 33/33 [00:00<00:00, 53.77it/s]\n"
     ]
    },
    {
     "name": "stdout",
     "output_type": "stream",
     "text": [
      "pos_correct: 2048, neg_correct: 0\n",
      "pos_correct: 2048, neg_correct: 0\n",
      "pos_correct: 2048, neg_correct: 0\n",
      "pos_correct: 2048, neg_correct: 0\n",
      "pos_correct: 2048, neg_correct: 0\n",
      "pos_correct: 1024, neg_correct: 0\n",
      "========================================================================\n",
      "\n"
     ]
    },
    {
     "name": "stderr",
     "output_type": "stream",
     "text": [
      "Train:\tEpoch: 10/20 Train Loss: 1.0000, Train Acc: 32.0000: 100%|██████████| 162/162 [00:03<00:00, 43.81it/s]\n",
      "Valid:\tEpoch: 10/20 Valid Loss: 1.0000, Valid Acc: 32.0000:  21%|██        | 7/33 [00:00<00:00, 62.56it/s]"
     ]
    },
    {
     "name": "stdout",
     "output_type": "stream",
     "text": [
      "pos_correct: 2048, neg_correct: 0\n",
      "pos_correct: 2048, neg_correct: 0\n",
      "pos_correct: 2048, neg_correct: 0\n",
      "pos_correct: 2048, neg_correct: 0\n",
      "pos_correct: 2048, neg_correct: 0\n",
      "pos_correct: 2048, neg_correct: 0\n",
      "pos_correct: 2048, neg_correct: 0\n",
      "pos_correct: 2048, neg_correct: 0\n",
      "pos_correct: 2048, neg_correct: 0\n",
      "pos_correct: 2048, neg_correct: 0\n",
      "pos_correct: 2048, neg_correct: 0\n",
      "pos_correct: 2048, neg_correct: 0\n",
      "pos_correct: 2048, neg_correct: 0\n"
     ]
    },
    {
     "name": "stderr",
     "output_type": "stream",
     "text": [
      "Valid:\tEpoch: 10/20 Valid Loss: 1.0000, Valid Acc: 32.0000:  64%|██████▎   | 21/33 [00:00<00:00, 65.57it/s]"
     ]
    },
    {
     "name": "stdout",
     "output_type": "stream",
     "text": [
      "pos_correct: 2048, neg_correct: 0\n",
      "pos_correct: 2048, neg_correct: 0\n",
      "pos_correct: 2048, neg_correct: 0\n",
      "pos_correct: 2048, neg_correct: 0\n",
      "pos_correct: 2048, neg_correct: 0\n",
      "pos_correct: 2048, neg_correct: 0\n",
      "pos_correct: 2048, neg_correct: 0\n",
      "pos_correct: 2048, neg_correct: 0\n",
      "pos_correct: 2048, neg_correct: 0\n",
      "pos_correct: 2048, neg_correct: 0\n",
      "pos_correct: 2048, neg_correct: 0\n",
      "pos_correct: 2048, neg_correct: 0\n",
      "pos_correct: 2048, neg_correct: 0\n"
     ]
    },
    {
     "name": "stderr",
     "output_type": "stream",
     "text": [
      "Valid:\tEpoch: 10/20 Valid Loss: 1.0000, Valid Acc: 32.0000: 100%|██████████| 33/33 [00:00<00:00, 67.47it/s]\n"
     ]
    },
    {
     "name": "stdout",
     "output_type": "stream",
     "text": [
      "pos_correct: 2048, neg_correct: 0\n",
      "pos_correct: 2048, neg_correct: 0\n",
      "pos_correct: 2048, neg_correct: 0\n",
      "pos_correct: 2048, neg_correct: 0\n",
      "pos_correct: 2048, neg_correct: 0\n",
      "pos_correct: 2048, neg_correct: 0\n",
      "pos_correct: 1024, neg_correct: 0\n",
      "========================================================================\n",
      "\n"
     ]
    },
    {
     "name": "stderr",
     "output_type": "stream",
     "text": [
      "Train:\tEpoch: 11/20 Train Loss: 1.0000, Train Acc: 32.0000: 100%|██████████| 162/162 [00:03<00:00, 41.87it/s]\n",
      "Valid:\tEpoch: 11/20 Valid Loss: 1.0000, Valid Acc: 32.0000:  18%|█▊        | 6/33 [00:00<00:00, 55.63it/s]"
     ]
    },
    {
     "name": "stdout",
     "output_type": "stream",
     "text": [
      "pos_correct: 2048, neg_correct: 0\n",
      "pos_correct: 2048, neg_correct: 0\n",
      "pos_correct: 2048, neg_correct: 0\n",
      "pos_correct: 2048, neg_correct: 0\n",
      "pos_correct: 2048, neg_correct: 0\n",
      "pos_correct: 2048, neg_correct: 0\n",
      "pos_correct: 2048, neg_correct: 0\n",
      "pos_correct: 2048, neg_correct: 0\n",
      "pos_correct: 2048, neg_correct: 0\n",
      "pos_correct: 2048, neg_correct: 0\n",
      "pos_correct: 2048, neg_correct: 0\n",
      "pos_correct: 2048, neg_correct: 0\n"
     ]
    },
    {
     "name": "stderr",
     "output_type": "stream",
     "text": [
      "Valid:\tEpoch: 11/20 Valid Loss: 1.0000, Valid Acc: 32.0000:  58%|█████▊    | 19/33 [00:00<00:00, 56.95it/s]"
     ]
    },
    {
     "name": "stdout",
     "output_type": "stream",
     "text": [
      "pos_correct: 2048, neg_correct: 0\n",
      "pos_correct: 2048, neg_correct: 0\n",
      "pos_correct: 2048, neg_correct: 0\n",
      "pos_correct: 2048, neg_correct: 0\n",
      "pos_correct: 2048, neg_correct: 0\n",
      "pos_correct: 2048, neg_correct: 0\n",
      "pos_correct: 2048, neg_correct: 0\n",
      "pos_correct: 2048, neg_correct: 0\n",
      "pos_correct: 2048, neg_correct: 0\n",
      "pos_correct: 2048, neg_correct: 0\n",
      "pos_correct: 2048, neg_correct: 0\n",
      "pos_correct: 2048, neg_correct: 0\n"
     ]
    },
    {
     "name": "stderr",
     "output_type": "stream",
     "text": [
      "Valid:\tEpoch: 11/20 Valid Loss: 1.0000, Valid Acc: 32.0000: 100%|██████████| 33/33 [00:00<00:00, 59.01it/s]\n"
     ]
    },
    {
     "name": "stdout",
     "output_type": "stream",
     "text": [
      "pos_correct: 2048, neg_correct: 0\n",
      "pos_correct: 2048, neg_correct: 0\n",
      "pos_correct: 2048, neg_correct: 0\n",
      "pos_correct: 2048, neg_correct: 0\n",
      "pos_correct: 2048, neg_correct: 0\n",
      "pos_correct: 2048, neg_correct: 0\n",
      "pos_correct: 2048, neg_correct: 0\n",
      "pos_correct: 2048, neg_correct: 0\n",
      "pos_correct: 1024, neg_correct: 0\n",
      "========================================================================\n",
      "\n"
     ]
    },
    {
     "name": "stderr",
     "output_type": "stream",
     "text": [
      "Train:\tEpoch: 12/20 Train Loss: 1.0000, Train Acc: 32.0000: 100%|██████████| 162/162 [00:03<00:00, 40.85it/s]\n",
      "Valid:\tEpoch: 12/20 Valid Loss: 1.0000, Valid Acc: 32.0000:  21%|██        | 7/33 [00:00<00:00, 64.57it/s]"
     ]
    },
    {
     "name": "stdout",
     "output_type": "stream",
     "text": [
      "pos_correct: 2048, neg_correct: 0\n",
      "pos_correct: 2048, neg_correct: 0\n",
      "pos_correct: 2048, neg_correct: 0\n",
      "pos_correct: 2048, neg_correct: 0\n",
      "pos_correct: 2048, neg_correct: 0\n",
      "pos_correct: 2048, neg_correct: 0\n",
      "pos_correct: 2048, neg_correct: 0\n",
      "pos_correct: 2048, neg_correct: 0\n",
      "pos_correct: 2048, neg_correct: 0\n",
      "pos_correct: 2048, neg_correct: 0\n",
      "pos_correct: 2048, neg_correct: 0\n",
      "pos_correct: 2048, neg_correct: 0\n",
      "pos_correct: 2048, neg_correct: 0\n",
      "pos_correct: 2048, neg_correct: 0\n"
     ]
    },
    {
     "name": "stderr",
     "output_type": "stream",
     "text": [
      "Valid:\tEpoch: 12/20 Valid Loss: 1.0000, Valid Acc: 32.0000:  64%|██████▎   | 21/33 [00:00<00:00, 63.26it/s]"
     ]
    },
    {
     "name": "stdout",
     "output_type": "stream",
     "text": [
      "pos_correct: 2048, neg_correct: 0\n",
      "pos_correct: 2048, neg_correct: 0\n",
      "pos_correct: 2048, neg_correct: 0\n",
      "pos_correct: 2048, neg_correct: 0\n",
      "pos_correct: 2048, neg_correct: 0\n",
      "pos_correct: 2048, neg_correct: 0\n",
      "pos_correct: 2048, neg_correct: 0\n",
      "pos_correct: 2048, neg_correct: 0\n",
      "pos_correct: 2048, neg_correct: 0\n",
      "pos_correct: 2048, neg_correct: 0\n",
      "pos_correct: 2048, neg_correct: 0\n",
      "pos_correct: 2048, neg_correct: 0\n",
      "pos_correct: 2048, neg_correct: 0\n"
     ]
    },
    {
     "name": "stderr",
     "output_type": "stream",
     "text": [
      "Valid:\tEpoch: 12/20 Valid Loss: 1.0000, Valid Acc: 32.0000: 100%|██████████| 33/33 [00:00<00:00, 63.13it/s]\n"
     ]
    },
    {
     "name": "stdout",
     "output_type": "stream",
     "text": [
      "pos_correct: 2048, neg_correct: 0\n",
      "pos_correct: 2048, neg_correct: 0\n",
      "pos_correct: 2048, neg_correct: 0\n",
      "pos_correct: 2048, neg_correct: 0\n",
      "pos_correct: 2048, neg_correct: 0\n",
      "pos_correct: 1024, neg_correct: 0\n",
      "========================================================================\n",
      "\n"
     ]
    },
    {
     "name": "stderr",
     "output_type": "stream",
     "text": [
      "Train:\tEpoch: 13/20 Train Loss: 1.0000, Train Acc: 32.0000: 100%|██████████| 162/162 [00:03<00:00, 42.48it/s]\n",
      "Valid:\tEpoch: 13/20 Valid Loss: 1.0000, Valid Acc: 32.0000:  18%|█▊        | 6/33 [00:00<00:00, 57.35it/s]"
     ]
    },
    {
     "name": "stdout",
     "output_type": "stream",
     "text": [
      "pos_correct: 2048, neg_correct: 0\n",
      "pos_correct: 2048, neg_correct: 0\n",
      "pos_correct: 2048, neg_correct: 0\n",
      "pos_correct: 2048, neg_correct: 0\n",
      "pos_correct: 2048, neg_correct: 0\n",
      "pos_correct: 2048, neg_correct: 0\n",
      "pos_correct: 2048, neg_correct: 0\n",
      "pos_correct: 2048, neg_correct: 0\n",
      "pos_correct: 2048, neg_correct: 0\n",
      "pos_correct: 2048, neg_correct: 0\n",
      "pos_correct: 2048, neg_correct: 0\n",
      "pos_correct: 2048, neg_correct: 0\n"
     ]
    },
    {
     "name": "stderr",
     "output_type": "stream",
     "text": [
      "Valid:\tEpoch: 13/20 Valid Loss: 1.0000, Valid Acc: 32.0000:  58%|█████▊    | 19/33 [00:00<00:00, 59.41it/s]"
     ]
    },
    {
     "name": "stdout",
     "output_type": "stream",
     "text": [
      "pos_correct: 2048, neg_correct: 0\n",
      "pos_correct: 2048, neg_correct: 0\n",
      "pos_correct: 2048, neg_correct: 0\n",
      "pos_correct: 2048, neg_correct: 0\n",
      "pos_correct: 2048, neg_correct: 0\n",
      "pos_correct: 2048, neg_correct: 0\n",
      "pos_correct: 2048, neg_correct: 0\n",
      "pos_correct: 2048, neg_correct: 0\n",
      "pos_correct: 2048, neg_correct: 0\n",
      "pos_correct: 2048, neg_correct: 0\n",
      "pos_correct: 2048, neg_correct: 0\n",
      "pos_correct: 2048, neg_correct: 0\n"
     ]
    },
    {
     "name": "stderr",
     "output_type": "stream",
     "text": [
      "Valid:\tEpoch: 13/20 Valid Loss: 1.0000, Valid Acc: 32.0000: 100%|██████████| 33/33 [00:00<00:00, 59.45it/s]\n"
     ]
    },
    {
     "name": "stdout",
     "output_type": "stream",
     "text": [
      "pos_correct: 2048, neg_correct: 0\n",
      "pos_correct: 2048, neg_correct: 0\n",
      "pos_correct: 2048, neg_correct: 0\n",
      "pos_correct: 2048, neg_correct: 0\n",
      "pos_correct: 2048, neg_correct: 0\n",
      "pos_correct: 2048, neg_correct: 0\n",
      "pos_correct: 2048, neg_correct: 0\n",
      "pos_correct: 2048, neg_correct: 0\n",
      "pos_correct: 1024, neg_correct: 0\n",
      "========================================================================\n",
      "\n"
     ]
    },
    {
     "name": "stderr",
     "output_type": "stream",
     "text": [
      "Train:\tEpoch: 14/20 Train Loss: 1.0000, Train Acc: 32.0000: 100%|██████████| 162/162 [00:04<00:00, 39.27it/s]\n",
      "Valid:\tEpoch: 14/20 Valid Loss: 1.0000, Valid Acc: 32.0000:  18%|█▊        | 6/33 [00:00<00:00, 58.05it/s]"
     ]
    },
    {
     "name": "stdout",
     "output_type": "stream",
     "text": [
      "pos_correct: 2048, neg_correct: 0\n",
      "pos_correct: 2048, neg_correct: 0\n",
      "pos_correct: 2048, neg_correct: 0\n",
      "pos_correct: 2048, neg_correct: 0\n",
      "pos_correct: 2048, neg_correct: 0\n",
      "pos_correct: 2048, neg_correct: 0\n",
      "pos_correct: 2048, neg_correct: 0\n",
      "pos_correct: 2048, neg_correct: 0\n",
      "pos_correct: 2048, neg_correct: 0\n",
      "pos_correct: 2048, neg_correct: 0\n",
      "pos_correct: 2048, neg_correct: 0\n",
      "pos_correct: 2048, neg_correct: 0\n"
     ]
    },
    {
     "name": "stderr",
     "output_type": "stream",
     "text": [
      "Valid:\tEpoch: 14/20 Valid Loss: 1.0000, Valid Acc: 32.0000:  61%|██████    | 20/33 [00:00<00:00, 60.37it/s]"
     ]
    },
    {
     "name": "stdout",
     "output_type": "stream",
     "text": [
      "pos_correct: 2048, neg_correct: 0\n",
      "pos_correct: 2048, neg_correct: 0\n",
      "pos_correct: 2048, neg_correct: 0\n",
      "pos_correct: 2048, neg_correct: 0\n",
      "pos_correct: 2048, neg_correct: 0\n",
      "pos_correct: 2048, neg_correct: 0\n",
      "pos_correct: 2048, neg_correct: 0\n",
      "pos_correct: 2048, neg_correct: 0\n",
      "pos_correct: 2048, neg_correct: 0\n",
      "pos_correct: 2048, neg_correct: 0\n",
      "pos_correct: 2048, neg_correct: 0\n"
     ]
    },
    {
     "name": "stderr",
     "output_type": "stream",
     "text": [
      "Valid:\tEpoch: 14/20 Valid Loss: 1.0000, Valid Acc: 32.0000: 100%|██████████| 33/33 [00:00<00:00, 53.29it/s]\n"
     ]
    },
    {
     "name": "stdout",
     "output_type": "stream",
     "text": [
      "pos_correct: 2048, neg_correct: 0\n",
      "pos_correct: 2048, neg_correct: 0\n",
      "pos_correct: 2048, neg_correct: 0\n",
      "pos_correct: 2048, neg_correct: 0\n",
      "pos_correct: 2048, neg_correct: 0\n",
      "pos_correct: 2048, neg_correct: 0\n",
      "pos_correct: 2048, neg_correct: 0\n",
      "pos_correct: 2048, neg_correct: 0\n",
      "pos_correct: 2048, neg_correct: 0\n",
      "pos_correct: 1024, neg_correct: 0\n",
      "========================================================================\n",
      "\n"
     ]
    },
    {
     "name": "stderr",
     "output_type": "stream",
     "text": [
      "Train:\tEpoch: 15/20 Train Loss: 1.0000, Train Acc: 32.0000:  86%|████████▌ | 139/162 [00:03<00:00, 40.69it/s]\n"
     ]
    },
    {
     "ename": "KeyboardInterrupt",
     "evalue": "",
     "output_type": "error",
     "traceback": [
      "\u001b[1;31m---------------------------------------------------------------------------\u001b[0m",
      "\u001b[1;31mKeyboardInterrupt\u001b[0m                         Traceback (most recent call last)",
      "Cell \u001b[1;32mIn[11], line 2\u001b[0m\n\u001b[0;32m      1\u001b[0m model \u001b[38;5;241m=\u001b[39m STGCN(num_nodes\u001b[38;5;241m=\u001b[39m\u001b[38;5;241m20\u001b[39m, in_channels\u001b[38;5;241m=\u001b[39m\u001b[38;5;241m250\u001b[39m, out_channels\u001b[38;5;241m=\u001b[39m\u001b[38;5;241m64\u001b[39m, num_frames\u001b[38;5;241m=\u001b[39m\u001b[38;5;241m250\u001b[39m)\n\u001b[1;32m----> 2\u001b[0m train_model(\n\u001b[0;32m      3\u001b[0m     train_landmark_triplet_dataset, \n\u001b[0;32m      4\u001b[0m     valid_landmark_triplet_dataset, \n\u001b[0;32m      5\u001b[0m     model,\n\u001b[0;32m      6\u001b[0m )\n",
      "Cell \u001b[1;32mIn[9], line 23\u001b[0m, in \u001b[0;36mtrain_model\u001b[1;34m(train_dataset, valid_dataset, model)\u001b[0m\n\u001b[0;32m     20\u001b[0m summary_writer \u001b[38;5;241m=\u001b[39m SummaryWriter(training_config\u001b[38;5;241m.\u001b[39mlog_dir)\n\u001b[0;32m     22\u001b[0m \u001b[38;5;66;03m# Train and Validate\u001b[39;00m\n\u001b[1;32m---> 23\u001b[0m train_loss, train_acc, val_loss, val_acc \u001b[38;5;241m=\u001b[39m main(\n\u001b[0;32m     24\u001b[0m     model,\n\u001b[0;32m     25\u001b[0m     (train_loader, valid_loader),\n\u001b[0;32m     26\u001b[0m     summary_writer\u001b[38;5;241m=\u001b[39msummary_writer,\n\u001b[0;32m     27\u001b[0m     scheduler\u001b[38;5;241m=\u001b[39m\u001b[38;5;28;01mNone\u001b[39;00m,\n\u001b[0;32m     28\u001b[0m     system_config\u001b[38;5;241m=\u001b[39mSystemConfig(),\n\u001b[0;32m     29\u001b[0m     training_config\u001b[38;5;241m=\u001b[39mtraining_config,\n\u001b[0;32m     30\u001b[0m     data_augmentation\u001b[38;5;241m=\u001b[39m\u001b[38;5;28;01mFalse\u001b[39;00m,\n\u001b[0;32m     31\u001b[0m )\n\u001b[0;32m     33\u001b[0m \u001b[38;5;66;03m# plot loss and accuracy\u001b[39;00m\n\u001b[0;32m     34\u001b[0m plot_loss_accuracy(\n\u001b[0;32m     35\u001b[0m     train_loss\u001b[38;5;241m=\u001b[39m[train_loss],\n\u001b[0;32m     36\u001b[0m     val_loss\u001b[38;5;241m=\u001b[39m[val_loss],\n\u001b[1;32m   (...)\u001b[0m\n\u001b[0;32m     41\u001b[0m     acc_legend_loc\u001b[38;5;241m=\u001b[39m\u001b[38;5;124m\"\u001b[39m\u001b[38;5;124mupper left\u001b[39m\u001b[38;5;124m\"\u001b[39m,\n\u001b[0;32m     42\u001b[0m )\n",
      "File \u001b[1;32md:\\Code\\msc-project\\notebooks\\..\\src\\models\\main.py:56\u001b[0m, in \u001b[0;36mmain\u001b[1;34m(model, data_loader, summary_writer, scheduler, system_config, training_config, data_augmentation)\u001b[0m\n\u001b[0;32m     53\u001b[0m t_begin \u001b[38;5;241m=\u001b[39m time\u001b[38;5;241m.\u001b[39mtime()\n\u001b[0;32m     55\u001b[0m \u001b[38;5;28;01mfor\u001b[39;00m epoch \u001b[38;5;129;01min\u001b[39;00m \u001b[38;5;28mrange\u001b[39m(NUM_EPOCHS):\n\u001b[1;32m---> 56\u001b[0m     train_loss, train_acc \u001b[38;5;241m=\u001b[39m train(training_config, model, optimizer, train_loader, epoch \u001b[38;5;241m+\u001b[39m \u001b[38;5;241m1\u001b[39m, NUM_EPOCHS, criterion)\n\u001b[0;32m     57\u001b[0m     val_loss, val_accuracy \u001b[38;5;241m=\u001b[39m validate(training_config, model, valid_loader, epoch \u001b[38;5;241m+\u001b[39m \u001b[38;5;241m1\u001b[39m, NUM_EPOCHS, criterion)\n\u001b[0;32m     59\u001b[0m     epoch_train_loss\u001b[38;5;241m.\u001b[39mappend(train_loss)\n",
      "File \u001b[1;32md:\\Code\\msc-project\\notebooks\\..\\src\\models\\train.py:49\u001b[0m, in \u001b[0;36mtrain\u001b[1;34m(train_config, model, optimizer, train_loader, epoch_idx, total_epochs, criterion)\u001b[0m\n\u001b[0;32m     46\u001b[0m loss \u001b[38;5;241m=\u001b[39m criterion(anchor_output, positive_output, negative_output)\n\u001b[0;32m     48\u001b[0m \u001b[38;5;66;03m# find gradients w.r.t training parameters.\u001b[39;00m\n\u001b[1;32m---> 49\u001b[0m loss\u001b[38;5;241m.\u001b[39mbackward()\n\u001b[0;32m     51\u001b[0m \u001b[38;5;66;03m# update parameters using gradients.\u001b[39;00m\n\u001b[0;32m     52\u001b[0m optimizer\u001b[38;5;241m.\u001b[39mstep()\n",
      "File \u001b[1;32mc:\\Users\\hgnis\\anaconda3\\Lib\\site-packages\\torch\\_tensor.py:522\u001b[0m, in \u001b[0;36mTensor.backward\u001b[1;34m(self, gradient, retain_graph, create_graph, inputs)\u001b[0m\n\u001b[0;32m    512\u001b[0m \u001b[38;5;28;01mif\u001b[39;00m has_torch_function_unary(\u001b[38;5;28mself\u001b[39m):\n\u001b[0;32m    513\u001b[0m     \u001b[38;5;28;01mreturn\u001b[39;00m handle_torch_function(\n\u001b[0;32m    514\u001b[0m         Tensor\u001b[38;5;241m.\u001b[39mbackward,\n\u001b[0;32m    515\u001b[0m         (\u001b[38;5;28mself\u001b[39m,),\n\u001b[1;32m   (...)\u001b[0m\n\u001b[0;32m    520\u001b[0m         inputs\u001b[38;5;241m=\u001b[39minputs,\n\u001b[0;32m    521\u001b[0m     )\n\u001b[1;32m--> 522\u001b[0m torch\u001b[38;5;241m.\u001b[39mautograd\u001b[38;5;241m.\u001b[39mbackward(\n\u001b[0;32m    523\u001b[0m     \u001b[38;5;28mself\u001b[39m, gradient, retain_graph, create_graph, inputs\u001b[38;5;241m=\u001b[39minputs\n\u001b[0;32m    524\u001b[0m )\n",
      "File \u001b[1;32mc:\\Users\\hgnis\\anaconda3\\Lib\\site-packages\\torch\\autograd\\__init__.py:266\u001b[0m, in \u001b[0;36mbackward\u001b[1;34m(tensors, grad_tensors, retain_graph, create_graph, grad_variables, inputs)\u001b[0m\n\u001b[0;32m    261\u001b[0m     retain_graph \u001b[38;5;241m=\u001b[39m create_graph\n\u001b[0;32m    263\u001b[0m \u001b[38;5;66;03m# The reason we repeat the same comment below is that\u001b[39;00m\n\u001b[0;32m    264\u001b[0m \u001b[38;5;66;03m# some Python versions print out the first line of a multi-line function\u001b[39;00m\n\u001b[0;32m    265\u001b[0m \u001b[38;5;66;03m# calls in the traceback and some print out the last line\u001b[39;00m\n\u001b[1;32m--> 266\u001b[0m Variable\u001b[38;5;241m.\u001b[39m_execution_engine\u001b[38;5;241m.\u001b[39mrun_backward(  \u001b[38;5;66;03m# Calls into the C++ engine to run the backward pass\u001b[39;00m\n\u001b[0;32m    267\u001b[0m     tensors,\n\u001b[0;32m    268\u001b[0m     grad_tensors_,\n\u001b[0;32m    269\u001b[0m     retain_graph,\n\u001b[0;32m    270\u001b[0m     create_graph,\n\u001b[0;32m    271\u001b[0m     inputs,\n\u001b[0;32m    272\u001b[0m     allow_unreachable\u001b[38;5;241m=\u001b[39m\u001b[38;5;28;01mTrue\u001b[39;00m,\n\u001b[0;32m    273\u001b[0m     accumulate_grad\u001b[38;5;241m=\u001b[39m\u001b[38;5;28;01mTrue\u001b[39;00m,\n\u001b[0;32m    274\u001b[0m )\n",
      "\u001b[1;31mKeyboardInterrupt\u001b[0m: "
     ]
    }
   ],
   "source": [
    "model = STGCN(num_nodes=20, in_channels=250, out_channels=64, num_frames=250)\n",
    "train_model(\n",
    "    train_landmark_triplet_dataset, \n",
    "    valid_landmark_triplet_dataset, \n",
    "    model,\n",
    "    \"landmark_model.pt\"\n",
    ")"
   ]
  },
  {
   "cell_type": "markdown",
   "metadata": {},
   "source": [
    "### Combined model testing"
   ]
  },
  {
   "cell_type": "code",
   "execution_count": null,
   "metadata": {},
   "outputs": [],
   "source": [
    "# import\n",
    "from src.models import test, load_model\n"
   ]
  },
  {
   "cell_type": "code",
   "execution_count": null,
   "metadata": {},
   "outputs": [],
   "source": [
    "# load models\n",
    "audio_model = load_model(\"audio_model.pt\")\n",
    "landmark_model = load_model(\"landmark_model.pt\")"
   ]
  },
  {
   "cell_type": "code",
   "execution_count": null,
   "metadata": {},
   "outputs": [],
   "source": [
    "test(\n",
    "    audio_model,\n",
    "    landmark_model,\n",
    "    test_AL_triplets_dataset,\n",
    ")"
   ]
  }
 ],
 "metadata": {
  "kernelspec": {
   "display_name": "base",
   "language": "python",
   "name": "python3"
  },
  "language_info": {
   "codemirror_mode": {
    "name": "ipython",
    "version": 3
   },
   "file_extension": ".py",
   "mimetype": "text/x-python",
   "name": "python",
   "nbconvert_exporter": "python",
   "pygments_lexer": "ipython3",
   "version": "3.11.5"
  }
 },
 "nbformat": 4,
 "nbformat_minor": 2
}
