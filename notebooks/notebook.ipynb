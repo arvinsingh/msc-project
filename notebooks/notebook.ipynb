{
 "cells": [
  {
   "cell_type": "code",
   "execution_count": 1,
   "metadata": {},
   "outputs": [],
   "source": [
    "# force the notebook to auto reload external python modules | useful for development\n",
    "%load_ext autoreload\n",
    "%autoreload 2"
   ]
  },
  {
   "cell_type": "code",
   "execution_count": 2,
   "metadata": {},
   "outputs": [],
   "source": [
    "# imports\n",
    "import sys\n",
    "\n",
    "sys.path.append(\"..\\\\\")\n",
    "from src.data import MyDataset, AudioTripletDataset, LandmarkTripletDataset, AudioLandmarkTripletDataset\n",
    "from src.features import TripletGenerator\n",
    "# from src.models import main\n",
    "\n",
    "import torch\n",
    "from torch.utils.data import random_split\n",
    "from torch.utils.data import DataLoader\n",
    "\n",
    "random_seed = 42"
   ]
  },
  {
   "cell_type": "code",
   "execution_count": 3,
   "metadata": {},
   "outputs": [],
   "source": [
    "import os\n",
    "os.environ['KMP_DUPLICATE_LIB_OK'] = 'TRUE'"
   ]
  },
  {
   "cell_type": "code",
   "execution_count": 4,
   "metadata": {},
   "outputs": [],
   "source": [
    "# paths\n",
    "raw_data_path = \"..\\\\data\\\\raw\\\\\"\n",
    "processed_data_path = \"..\\\\data\\\\processed\\\\\""
   ]
  },
  {
   "cell_type": "markdown",
   "metadata": {},
   "source": [
    "---"
   ]
  },
  {
   "cell_type": "code",
   "execution_count": 5,
   "metadata": {},
   "outputs": [],
   "source": [
    "my_dataset = MyDataset(location=raw_data_path)"
   ]
  },
  {
   "cell_type": "code",
   "execution_count": null,
   "metadata": {},
   "outputs": [],
   "source": [
    "# create & pickle dataset | RUN THIS CELL ONLY ONCE TO CREATE THE DATASET\n",
    "my_dataset.create_dataset()\n",
    "my_dataset.save_dataset(processed_data_path)"
   ]
  },
  {
   "cell_type": "code",
   "execution_count": null,
   "metadata": {},
   "outputs": [],
   "source": [
    "# load dataset | RUN THIS CELL TO LOAD THE SAVED DATASET\n",
    "my_dataset.load_dataset(processed_data_path)\n",
    "sample_size = len(my_dataset)\n",
    "print(f\"Loaded dataset with {sample_size} samples.\")"
   ]
  },
  {
   "cell_type": "code",
   "execution_count": null,
   "metadata": {},
   "outputs": [],
   "source": [
    "# train-valid-test split\n",
    "# to maintain independence between train and test sets, split the dataset before creating the triplets\n",
    "\n",
    "train_size = int(0.6 * sample_size)\n",
    "val_size = int(0.2 * sample_size)\n",
    "test_size = sample_size - train_size - val_size\n",
    "\n",
    "train_set, val_set, test_set = random_split(my_dataset, [train_size, val_size, test_size], generator=torch.Generator().manual_seed(random_seed))\n",
    "\n",
    "train_size, valid_size, test_size = len(train_set), len(val_set), len(test_set)\n",
    "print(f\"Train dataset size: {train_size} \\nValid dataset size: {valid_size} \\nTest dataset size: {test_size}\")"
   ]
  },
  {
   "cell_type": "code",
   "execution_count": null,
   "metadata": {},
   "outputs": [],
   "source": [
    "# For Stratified Split\n",
    "\n",
    "from sklearn.model_selection import train_test_split\n",
    "\n",
    "# Assuming my_dataset is an instance of a Dataset class\n",
    "sample_size = len(my_dataset)\n",
    "targets = [my_dataset[i][1] for i in range(sample_size)]  # Assuming the second element is the label\n",
    "\n",
    "# Splitting the data into train, validation, and test with stratification\n",
    "train_idx, temp_idx, train_targets, temp_targets = train_test_split(\n",
    "    range(sample_size), targets, test_size=0.2, stratify=targets, random_state=random_seed\n",
    ")\n",
    "\n",
    "val_idx, test_idx, val_targets, test_targets = train_test_split(\n",
    "    temp_idx, temp_targets, test_size=0.2, stratify=temp_targets, random_state=random_seed\n",
    ")\n",
    "\n",
    "# Creating subsets\n",
    "train_set = torch.utils.data.Subset(my_dataset, train_idx)\n",
    "val_set = torch.utils.data.Subset(my_dataset, val_idx)\n",
    "test_set = torch.utils.data.Subset(my_dataset, test_idx)\n",
    "\n",
    "# Sizes of the datasets\n",
    "train_size, valid_size, test_size = len(train_set), len(val_set), len(test_set)\n",
    "print(f\"Train dataset size: {train_size} \\nValid dataset size: {valid_size} \\nTest dataset size: {test_size}\")\n"
   ]
  },
  {
   "cell_type": "code",
   "execution_count": null,
   "metadata": {},
   "outputs": [],
   "source": [
    "# CREATE & PICKLE triplets of indicies | RUN THIS CELL ONLY ONCE TO CREATE THE TRIPLETS\n",
    "# ensure diversity of triplets by setting num_triplets to a large number\n",
    "# essentially 10 to 20 triplets per sample\n",
    "\n",
    "num_triplets = 20\n",
    "\n",
    "# TRAIN\n",
    "train_triplets = TripletGenerator(train_set, num_triplets=train_size*num_triplets, prefix=\"train\")\n",
    "train_triplets.save_triplets(processed_data_path)\n",
    "\n",
    "# VALID\n",
    "valid_triplets = TripletGenerator(val_set, num_triplets=valid_size*num_triplets, prefix=\"valid\")\n",
    "valid_triplets.save_triplets(processed_data_path)\n",
    "\n",
    "# TEST\n",
    "test_triplets = TripletGenerator(test_set, num_triplets=test_size*num_triplets, prefix=\"test\")\n",
    "test_triplets.save_triplets(processed_data_path)\n",
    "\n",
    "print(f\"Created and saved: \\\n",
    "      \\n {len(train_triplets.triplets)} train triplets \\\n",
    "      \\n {len(valid_triplets.triplets)} valid triplets \\\n",
    "      \\n {len(test_triplets.triplets)} test triplets\"\n",
    "      )"
   ]
  },
  {
   "cell_type": "markdown",
   "metadata": {},
   "source": [
    "---"
   ]
  },
  {
   "cell_type": "code",
   "execution_count": null,
   "metadata": {},
   "outputs": [],
   "source": [
    "# LOAD triplets | RUN THIS CELL TO LOAD THE SAVED TRIPLETS\n",
    "\n",
    "# TRAIN\n",
    "train_triplets = TripletGenerator(load=True, root_path=processed_data_path, prefix=\"train\")\n",
    "train_AL_triplets_dataset = AudioLandmarkTripletDataset(my_dataset.data, train_triplets.triplets)\n",
    "train_audio_triplet_dataset = AudioTripletDataset(my_dataset.data, train_triplets.triplets)\n",
    "train_landmark_triplet_dataset = LandmarkTripletDataset(my_dataset.data, train_triplets.triplets)\n",
    "\n",
    "# VALID\n",
    "valid_triplets = TripletGenerator(load=True, root_path=processed_data_path, prefix=\"valid\")\n",
    "valid_AL_triplets_dataset = AudioLandmarkTripletDataset(my_dataset.data, valid_triplets.triplets)\n",
    "valid_audio_triplet_dataset = AudioTripletDataset(my_dataset.data, valid_triplets.triplets)\n",
    "valid_landmark_triplet_dataset = LandmarkTripletDataset(my_dataset.data, valid_triplets.triplets)\n",
    "\n",
    "# TEST\n",
    "test_triplets = TripletGenerator(load=True, root_path=processed_data_path, prefix=\"test\")\n",
    "test_AL_triplets_dataset = AudioLandmarkTripletDataset(my_dataset.data, test_triplets.triplets)\n",
    "test_audio_triplet_dataset = AudioTripletDataset(my_dataset.data, test_triplets.triplets)\n",
    "test_landmark_triplet_dataset = LandmarkTripletDataset(my_dataset.data, test_triplets.triplets)\n",
    "\n",
    "print(f\"Loaded: \\\n",
    "      \\n {len(train_triplets.triplets)} train triplets \\\n",
    "      \\n {len(valid_triplets.triplets)} valid triplets \\\n",
    "      \\n {len(test_triplets.triplets)} test triplets\"\n",
    "      )"
   ]
  },
  {
   "cell_type": "code",
   "execution_count": 8,
   "metadata": {},
   "outputs": [],
   "source": [
    "# imports\n",
    "from src.config import SystemConfig, TrainingConfig\n",
    "from src.logging import setup_log_directory\n",
    "from src.models import main\n",
    "from src.visualization import plot_loss_accuracy\n",
    "\n",
    "from torch.utils.tensorboard import SummaryWriter"
   ]
  },
  {
   "cell_type": "code",
   "execution_count": 9,
   "metadata": {},
   "outputs": [],
   "source": [
    "def train_model(\n",
    "        train_dataset, \n",
    "        valid_dataset, \n",
    "        model,\n",
    "    ):\n",
    "    \n",
    "    # create dataloaders\n",
    "    train_loader = DataLoader(train_dataset, batch_size=TrainingConfig.batch_size, shuffle=True)\n",
    "    valid_loader = DataLoader(valid_dataset, batch_size=TrainingConfig.batch_size, shuffle=True)\n",
    "\n",
    "    # train model\n",
    "    print(model)\n",
    "\n",
    "    training_config = TrainingConfig()\n",
    "\n",
    "    # Model checkpoint log dir setup.\n",
    "    training_config, current_version_name = setup_log_directory(training_config)\n",
    "\n",
    "    # Tensorboard log dir setup.\n",
    "    summary_writer = SummaryWriter(training_config.log_dir)\n",
    "\n",
    "    # Train and Validate\n",
    "    train_loss, train_acc, val_loss, val_acc = main(\n",
    "        model,\n",
    "        (train_loader, valid_loader),\n",
    "        summary_writer=summary_writer,\n",
    "        scheduler=None,\n",
    "        system_config=SystemConfig(),\n",
    "        training_config=training_config,\n",
    "        data_augmentation=False,\n",
    "    )\n",
    "\n",
    "    # plot loss and accuracy\n",
    "    plot_loss_accuracy(\n",
    "        train_loss=[train_loss],\n",
    "        val_loss=[val_loss],\n",
    "        train_acc=[train_acc],\n",
    "        val_acc=[val_acc],\n",
    "        colors=[\"blue\"],\n",
    "        loss_legend_loc=\"upper center\",\n",
    "        acc_legend_loc=\"upper left\",\n",
    "    )\n",
    "    "
   ]
  },
  {
   "cell_type": "markdown",
   "metadata": {},
   "source": [
    "### Audio model"
   ]
  },
  {
   "cell_type": "code",
   "execution_count": 13,
   "metadata": {},
   "outputs": [],
   "source": [
    "# importing models from src.models\n",
    "from src.models import LSTM, LSTM_II, CNN"
   ]
  },
  {
   "cell_type": "code",
   "execution_count": null,
   "metadata": {},
   "outputs": [],
   "source": [
    "audio_data_shape=(250, 400)\n",
    "model = LSTM_II(input_shape=audio_data_shape)\n",
    "train_model(\n",
    "    train_audio_triplet_dataset, \n",
    "    valid_audio_triplet_dataset, \n",
    "    model,\n",
    ")"
   ]
  },
  {
   "cell_type": "markdown",
   "metadata": {},
   "source": [
    "### Landmark Model"
   ]
  },
  {
   "cell_type": "code",
   "execution_count": null,
   "metadata": {},
   "outputs": [],
   "source": [
    "from src.models import STGCN"
   ]
  },
  {
   "cell_type": "code",
   "execution_count": null,
   "metadata": {},
   "outputs": [],
   "source": [
    "model = STGCN(num_nodes=20, in_channels=3, out_channels=64, num_frames=250)\n",
    "train_model(\n",
    "    train_landmark_triplet_dataset, \n",
    "    valid_landmark_triplet_dataset, \n",
    "    model,\n",
    ")"
   ]
  },
  {
   "cell_type": "markdown",
   "metadata": {},
   "source": [
    "### Combined model"
   ]
  },
  {
   "cell_type": "markdown",
   "metadata": {},
   "source": [
    "### Testing"
   ]
  },
  {
   "cell_type": "code",
   "execution_count": null,
   "metadata": {},
   "outputs": [],
   "source": [
    "# code for testing goes here - TBD"
   ]
  }
 ],
 "metadata": {
  "kernelspec": {
   "display_name": "base",
   "language": "python",
   "name": "python3"
  },
  "language_info": {
   "codemirror_mode": {
    "name": "ipython",
    "version": 3
   },
   "file_extension": ".py",
   "mimetype": "text/x-python",
   "name": "python",
   "nbconvert_exporter": "python",
   "pygments_lexer": "ipython3",
   "version": "3.11.5"
  }
 },
 "nbformat": 4,
 "nbformat_minor": 2
}
