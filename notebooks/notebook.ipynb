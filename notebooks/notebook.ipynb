{
 "cells": [
  {
   "cell_type": "code",
   "execution_count": 19,
   "metadata": {},
   "outputs": [
    {
     "name": "stdout",
     "output_type": "stream",
     "text": [
      "The autoreload extension is already loaded. To reload it, use:\n",
      "  %reload_ext autoreload\n"
     ]
    }
   ],
   "source": [
    "# force the notebook to reload external python modules; useful for development\n",
    "%load_ext autoreload\n",
    "%autoreload 2"
   ]
  },
  {
   "cell_type": "code",
   "execution_count": 27,
   "metadata": {},
   "outputs": [],
   "source": [
    "# imports\n",
    "import sys\n",
    "import os\n",
    "import pandas as pd\n",
    "import numpy as np\n",
    "import torch\n",
    "import torchaudio\n",
    "import json\n",
    "\n",
    "sys.path.append(\"..\\\\\")\n",
    "from src.features import mfcc\n",
    "from src.features import landmarks\n",
    "from src.features import adjacency"
   ]
  },
  {
   "cell_type": "code",
   "execution_count": 16,
   "metadata": {},
   "outputs": [],
   "source": [
    "# paths\n",
    "raw_data_path = \"..\\\\data\\\\raw\\\\\"\n",
    "processed_data_path = \"..\\\\data\\\\processed\\\\\""
   ]
  },
  {
   "cell_type": "code",
   "execution_count": null,
   "metadata": {},
   "outputs": [],
   "source": [
    "# load data\n",
    "class MyDataset():\n",
    "    def __init__(self, location=raw_data_path):\n",
    "        self.location = location\n",
    "        self.data_path = self.location + \"dataset\\\\\"\n",
    "        self.general_labels = pd.read_csv(self.location + \"labels.csv\", index_col=0)\n",
    "        self.labels = list()\n",
    "        self.data = self.load_data()\n",
    "    \n",
    "    def load_data(self):\n",
    "        _data = []\n",
    "        dirs = os.listdir(self.data_path)\n",
    "        for dir in dirs:\n",
    "            files = os.listdir(self.data_path + dir)\n",
    "            for i in range(1, 11):\n",
    "                # check if [1-10].wav file exists\n",
    "                if str(i) + \".wav\" in files:\n",
    "                    # append label to labels list\n",
    "                    self.labels.append(self.general_labels.loc[dir][0])\n",
    "                    # generate MFCCs for .wav file\n",
    "                    frame = mfcc.process_audio_file(self.data_path + dir + \"\\\\\" + str(i) + \".wav\")\n",
    "                    # open .7z file and extract all .ljson files to create a list of landmarks\n",
    "                    sequence = landmarks.get_mouth_sequences(self.data_path + dir + \"\\\\\" + str(i) + \".7z\")\n",
    "                    # create adjacency matrix\n",
    "                    # IMPLIMENT THIS\n",
    "                    # finally save\n",
    "                    _data.append([frame, sequence])\n",
    "\n",
    "        return _data"
   ]
  },
  {
   "cell_type": "code",
   "execution_count": 17,
   "metadata": {},
   "outputs": [],
   "source": [
    "temp_loc = raw_data_path + \"dataset\\\\A\\\\\""
   ]
  },
  {
   "cell_type": "code",
   "execution_count": 9,
   "metadata": {},
   "outputs": [
    {
     "name": "stderr",
     "output_type": "stream",
     "text": [
      "c:\\Users\\hgnis\\anaconda3\\Lib\\site-packages\\torchaudio\\functional\\functional.py:584: UserWarning: At least one mel filterbank has all zero values. The value for `n_mels` (128) may be set too high. Or, the value for `n_freqs` (201) may be set too low.\n",
      "  warnings.warn(\n"
     ]
    }
   ],
   "source": [
    "frame = mfcc.process_audio_file(temp_loc + \"1.wav\")"
   ]
  },
  {
   "cell_type": "code",
   "execution_count": 11,
   "metadata": {},
   "outputs": [
    {
     "data": {
      "text/plain": [
       "torch.Size([1, 250, 400])"
      ]
     },
     "execution_count": 11,
     "metadata": {},
     "output_type": "execute_result"
    }
   ],
   "source": [
    "frame.shape"
   ]
  },
  {
   "cell_type": "code",
   "execution_count": 29,
   "metadata": {},
   "outputs": [],
   "source": [
    "lm = landmarks.get_mouth_sequences(temp_loc + \"1.7z\")"
   ]
  },
  {
   "cell_type": "code",
   "execution_count": 30,
   "metadata": {},
   "outputs": [
    {
     "data": {
      "text/plain": [
       "(3, 250, 20, 1)"
      ]
     },
     "execution_count": 30,
     "metadata": {},
     "output_type": "execute_result"
    }
   ],
   "source": [
    "lm.shape"
   ]
  },
  {
   "cell_type": "code",
   "execution_count": null,
   "metadata": {},
   "outputs": [],
   "source": []
  }
 ],
 "metadata": {
  "kernelspec": {
   "display_name": "base",
   "language": "python",
   "name": "python3"
  },
  "language_info": {
   "codemirror_mode": {
    "name": "ipython",
    "version": 3
   },
   "file_extension": ".py",
   "mimetype": "text/x-python",
   "name": "python",
   "nbconvert_exporter": "python",
   "pygments_lexer": "ipython3",
   "version": "3.11.5"
  }
 },
 "nbformat": 4,
 "nbformat_minor": 2
}
