{
 "cells": [
  {
   "cell_type": "code",
   "execution_count": 1,
   "metadata": {},
   "outputs": [],
   "source": [
    "# force the notebook to auto reload external python modules | useful for development\n",
    "%load_ext autoreload\n",
    "%autoreload 2"
   ]
  },
  {
   "cell_type": "code",
   "execution_count": 3,
   "metadata": {},
   "outputs": [],
   "source": [
    "# imports\n",
    "import sys\n",
    "\n",
    "sys.path.append(\"..\\\\\")\n",
    "from src.data import MyDataset, AudioTripletDataset, LandmarkTripletDataset, AudioLandmarkTripletDataset\n",
    "from src.features import TripletGenerator\n",
    "# from src.models import main\n",
    "\n",
    "import torch\n",
    "from torch.utils.data import random_split\n",
    "from torch.utils.data import DataLoader\n",
    "\n",
    "random_seed = 42"
   ]
  },
  {
   "cell_type": "code",
   "execution_count": 4,
   "metadata": {},
   "outputs": [],
   "source": [
    "import os\n",
    "os.environ['KMP_DUPLICATE_LIB_OK'] = 'TRUE'"
   ]
  },
  {
   "cell_type": "code",
   "execution_count": 5,
   "metadata": {},
   "outputs": [],
   "source": [
    "# paths\n",
    "raw_data_path = \"..\\\\data\\\\raw\\\\\"\n",
    "processed_data_path = \"..\\\\data\\\\processed\\\\\""
   ]
  },
  {
   "cell_type": "markdown",
   "metadata": {},
   "source": [
    "---"
   ]
  },
  {
   "cell_type": "code",
   "execution_count": 6,
   "metadata": {},
   "outputs": [],
   "source": [
    "my_dataset = MyDataset(location=raw_data_path)"
   ]
  },
  {
   "cell_type": "code",
   "execution_count": 5,
   "metadata": {},
   "outputs": [
    {
     "name": "stderr",
     "output_type": "stream",
     "text": [
      "c:\\Users\\hgnis\\anaconda3\\Lib\\site-packages\\torchaudio\\functional\\functional.py:584: UserWarning: At least one mel filterbank has all zero values. The value for `n_mels` (128) may be set too high. Or, the value for `n_freqs` (201) may be set too low.\n",
      "  warnings.warn(\n"
     ]
    }
   ],
   "source": [
    "# create & pickle dataset | RUN THIS CELL ONLY ONCE TO CREATE THE DATASET\n",
    "my_dataset.create_dataset()\n",
    "my_dataset.save_dataset(processed_data_path)"
   ]
  },
  {
   "cell_type": "code",
   "execution_count": 5,
   "metadata": {},
   "outputs": [
    {
     "name": "stdout",
     "output_type": "stream",
     "text": [
      "Loaded dataset with 323 samples.\n"
     ]
    }
   ],
   "source": [
    "# load dataset | RUN THIS CELL TO LOAD THE SAVED DATASET\n",
    "my_dataset.load_dataset(processed_data_path)\n",
    "sample_size = len(my_dataset)\n",
    "print(f\"Loaded dataset with {sample_size} samples.\")"
   ]
  },
  {
   "cell_type": "code",
   "execution_count": 6,
   "metadata": {},
   "outputs": [
    {
     "name": "stdout",
     "output_type": "stream",
     "text": [
      "Train dataset size: 258 \n",
      "Valid dataset size: 32 \n",
      "Test dataset size: 33\n"
     ]
    }
   ],
   "source": [
    "# train-valid-test split\n",
    "# to maintain independence between train and test sets, split the dataset before creating the triplets\n",
    "\n",
    "train_size = int(0.8 * sample_size)\n",
    "val_size = int(0.1 * sample_size)\n",
    "test_size = sample_size - train_size - val_size\n",
    "\n",
    "train_set, val_set, test_set = random_split(my_dataset, [train_size, val_size, test_size], generator=torch.Generator().manual_seed(random_seed))\n",
    "\n",
    "train_size, valid_size, test_size = len(train_set), len(val_set), len(test_set)\n",
    "print(f\"Train dataset size: {train_size} \\nValid dataset size: {valid_size} \\nTest dataset size: {test_size}\")"
   ]
  },
  {
   "cell_type": "code",
   "execution_count": 7,
   "metadata": {},
   "outputs": [
    {
     "name": "stdout",
     "output_type": "stream",
     "text": [
      "Created and saved:       \n",
      " 2580 train triplets       \n",
      " 320 valid triplets       \n",
      " 330 test triplets\n"
     ]
    }
   ],
   "source": [
    "# CREATE & PICKLE triplets of indicies | RUN THIS CELL ONLY ONCE TO CREATE THE TRIPLETS\n",
    "# ensure diversity of triplets by setting num_triplets to a large number\n",
    "# essentially 10 to 20 triplets per sample\n",
    "\n",
    "# TRAIN\n",
    "train_triplets = TripletGenerator(train_set, num_triplets=train_size*10, prefix=\"train\")\n",
    "train_triplets.save_triplets(processed_data_path)\n",
    "\n",
    "# VALID\n",
    "valid_triplets = TripletGenerator(val_set, num_triplets=valid_size*10, prefix=\"valid\")\n",
    "valid_triplets.save_triplets(processed_data_path)\n",
    "\n",
    "# TEST\n",
    "test_triplets = TripletGenerator(test_set, num_triplets=test_size*10, prefix=\"test\")\n",
    "test_triplets.save_triplets(processed_data_path)\n",
    "\n",
    "print(f\"Created and saved: \\\n",
    "      \\n {len(train_triplets.triplets)} train triplets \\\n",
    "      \\n {len(valid_triplets.triplets)} valid triplets \\\n",
    "      \\n {len(test_triplets.triplets)} test triplets\"\n",
    "      )"
   ]
  },
  {
   "cell_type": "markdown",
   "metadata": {},
   "source": [
    "---"
   ]
  },
  {
   "cell_type": "code",
   "execution_count": 7,
   "metadata": {},
   "outputs": [
    {
     "name": "stdout",
     "output_type": "stream",
     "text": [
      "Loaded:       \n",
      " 2580 train triplets       \n",
      " 320 valid triplets       \n",
      " 330 test triplets\n"
     ]
    }
   ],
   "source": [
    "# LOAD triplets | RUN THIS CELL TO LOAD THE SAVED TRIPLETS\n",
    "\n",
    "# TRAIN\n",
    "train_triplets = TripletGenerator(load=True, root_path=processed_data_path, prefix=\"train\")\n",
    "train_AL_triplets = AudioLandmarkTripletDataset(my_dataset.data, train_triplets.triplets)\n",
    "train_audio_triplet_dataset = AudioTripletDataset(my_dataset.data, train_triplets.triplets)\n",
    "train_landmark_triplet_dataset = LandmarkTripletDataset(my_dataset.data, train_triplets.triplets)\n",
    "\n",
    "# VALID\n",
    "valid_triplets = TripletGenerator(load=True, root_path=processed_data_path, prefix=\"valid\")\n",
    "valid_AL_triplets = AudioLandmarkTripletDataset(my_dataset.data, valid_triplets.triplets)\n",
    "valid_audio_triplet_dataset = AudioTripletDataset(my_dataset.data, valid_triplets.triplets)\n",
    "valid_landmark_triplet_dataset = LandmarkTripletDataset(my_dataset.data, valid_triplets.triplets)\n",
    "\n",
    "# TEST\n",
    "test_triplets = TripletGenerator(load=True, root_path=processed_data_path, prefix=\"test\")\n",
    "test_AL_triplets = AudioLandmarkTripletDataset(my_dataset.data, test_triplets.triplets)\n",
    "test_audio_triplet_dataset = AudioTripletDataset(my_dataset.data, test_triplets.triplets)\n",
    "test_landmark_triplet_dataset = LandmarkTripletDataset(my_dataset.data, test_triplets.triplets)\n",
    "\n",
    "print(f\"Loaded: \\\n",
    "      \\n {len(train_triplets.triplets)} train triplets \\\n",
    "      \\n {len(valid_triplets.triplets)} valid triplets \\\n",
    "      \\n {len(test_triplets.triplets)} test triplets\"\n",
    "      )"
   ]
  },
  {
   "cell_type": "code",
   "execution_count": 8,
   "metadata": {},
   "outputs": [],
   "source": [
    "# imports\n",
    "from src.config import SystemConfig, TrainingConfig\n",
    "from src.logging import setup_log_directory\n",
    "from src.models import audio_model, landmark_model, combined_model, main\n",
    "from src.visualization import plot_loss_accuracy\n",
    "from src.features import Graph\n",
    "\n",
    "from torch.utils.tensorboard import SummaryWriter"
   ]
  },
  {
   "cell_type": "code",
   "execution_count": null,
   "metadata": {},
   "outputs": [],
   "source": [
    "def train_model(\n",
    "        train_dataset, \n",
    "        valid_dataset, \n",
    "        train_model,\n",
    "    ):\n",
    "    \n",
    "    # create dataloaders\n",
    "    train_loader = DataLoader(train_dataset, batch_size=32, shuffle=True)\n",
    "    valid_loader = DataLoader(valid_dataset, batch_size=32, shuffle=False)\n",
    "    audio_data_shape = (250, 400) # 250 frames, 400 features\n",
    "\n",
    "    # train model\n",
    "    model = train_model(audio_data_shape)\n",
    "    print(model)\n",
    "\n",
    "    training_config = TrainingConfig()\n",
    "\n",
    "    # Model checkpoint log dir setup.\n",
    "    training_config, current_version_name = setup_log_directory(training_config)\n",
    "\n",
    "    # Tensorboard log dir setup.\n",
    "    summary_writer = SummaryWriter(training_config.log_dir)\n",
    "\n",
    "    # Train and Validate\n",
    "    train_loss, train_acc, val_loss, val_acc = main(\n",
    "        model,\n",
    "        (train_loader, valid_loader),\n",
    "        summary_writer=summary_writer,\n",
    "        scheduler=None,\n",
    "        system_config=SystemConfig(),\n",
    "        training_config=training_config,\n",
    "        data_augmentation=False,\n",
    "    )\n",
    "\n",
    "    # plot loss and accuracy\n",
    "    plot_loss_accuracy(\n",
    "        train_loss=[train_loss],\n",
    "        val_loss=[val_loss],\n",
    "        train_acc=[train_acc],\n",
    "        val_acc=[val_acc],\n",
    "        colors=[\"blue\"],\n",
    "        loss_legend_loc=\"upper center\",\n",
    "        acc_legend_loc=\"upper left\",\n",
    "    )\n",
    "    "
   ]
  },
  {
   "cell_type": "markdown",
   "metadata": {},
   "source": [
    "### Audio model"
   ]
  },
  {
   "cell_type": "code",
   "execution_count": null,
   "metadata": {},
   "outputs": [],
   "source": [
    "train_model(\n",
    "    train_audio_triplet_dataset, \n",
    "    valid_audio_triplet_dataset, \n",
    "    audio_model\n",
    ")"
   ]
  },
  {
   "cell_type": "code",
   "execution_count": 9,
   "metadata": {},
   "outputs": [],
   "source": [
    "# create dataloaders\n",
    "train_loader = DataLoader(train_audio_triplet_dataset, batch_size=32, shuffle=True)\n",
    "valid_loader = DataLoader(valid_audio_triplet_dataset, batch_size=32, shuffle=False)\n",
    "audio_data_shape = (250, 400) # 250 frames, 400 features"
   ]
  },
  {
   "cell_type": "code",
   "execution_count": 10,
   "metadata": {},
   "outputs": [
    {
     "name": "stdout",
     "output_type": "stream",
     "text": [
      "SiameseModel(\n",
      "  (siamese_network): LSTM(\n",
      "    (lstm): LSTM(400, 64, batch_first=True)\n",
      "    (attention): Linear(in_features=64, out_features=1, bias=True)\n",
      "    (flatten): Flatten(start_dim=1, end_dim=-1)\n",
      "    (dense1): Linear(in_features=64, out_features=128, bias=True)\n",
      "    (dense2): Linear(in_features=128, out_features=64, bias=True)\n",
      "    (dense3): Linear(in_features=64, out_features=32, bias=True)\n",
      "  )\n",
      ")\n",
      "Logging at: ..\\output\\Logs_Checkpoints\\Model_logs\\version_17\n",
      "Model Checkpoint at: ..\\output\\Logs_Checkpoints\\Model_checkpoints\\version_17\n"
     ]
    }
   ],
   "source": [
    "# train model\n",
    "model = audio_model(audio_data_shape)\n",
    "print(model)\n",
    "\n",
    "training_config = TrainingConfig()\n",
    "\n",
    "# Model checkpoint log dir setup.\n",
    "training_config, current_version_name = setup_log_directory(training_config)\n",
    "\n",
    "# Tensorboard log dir setup.\n",
    "summary_writer = SummaryWriter(training_config.log_dir)"
   ]
  },
  {
   "cell_type": "code",
   "execution_count": 11,
   "metadata": {},
   "outputs": [
    {
     "name": "stderr",
     "output_type": "stream",
     "text": [
      "Train:\tEpoch: 1/10:   0%|          | 0/81 [00:00<?, ?it/s]\n"
     ]
    },
    {
     "ename": "IndexError",
     "evalue": "list index out of range",
     "output_type": "error",
     "traceback": [
      "\u001b[1;31m---------------------------------------------------------------------------\u001b[0m",
      "\u001b[1;31mIndexError\u001b[0m                                Traceback (most recent call last)",
      "Cell \u001b[1;32mIn[11], line 2\u001b[0m\n\u001b[0;32m      1\u001b[0m \u001b[38;5;66;03m# Train and Validate\u001b[39;00m\n\u001b[1;32m----> 2\u001b[0m train_loss, train_acc, val_loss, val_acc \u001b[38;5;241m=\u001b[39m main(\n\u001b[0;32m      3\u001b[0m     model,\n\u001b[0;32m      4\u001b[0m     (train_loader, valid_loader),\n\u001b[0;32m      5\u001b[0m     summary_writer\u001b[38;5;241m=\u001b[39msummary_writer,\n\u001b[0;32m      6\u001b[0m     scheduler\u001b[38;5;241m=\u001b[39m\u001b[38;5;28;01mNone\u001b[39;00m,\n\u001b[0;32m      7\u001b[0m     system_config\u001b[38;5;241m=\u001b[39mSystemConfig(),\n\u001b[0;32m      8\u001b[0m     training_config\u001b[38;5;241m=\u001b[39mtraining_config,\n\u001b[0;32m      9\u001b[0m     data_augmentation\u001b[38;5;241m=\u001b[39m\u001b[38;5;28;01mFalse\u001b[39;00m,\n\u001b[0;32m     10\u001b[0m )\n",
      "File \u001b[1;32md:\\Code\\msc-project\\notebooks\\..\\src\\models\\main.py:54\u001b[0m, in \u001b[0;36mmain\u001b[1;34m(model, data_loader, summary_writer, scheduler, system_config, training_config, data_augmentation, adj)\u001b[0m\n\u001b[0;32m     51\u001b[0m t_begin \u001b[38;5;241m=\u001b[39m time\u001b[38;5;241m.\u001b[39mtime()\n\u001b[0;32m     53\u001b[0m \u001b[38;5;28;01mfor\u001b[39;00m epoch \u001b[38;5;129;01min\u001b[39;00m \u001b[38;5;28mrange\u001b[39m(NUM_EPOCHS):\n\u001b[1;32m---> 54\u001b[0m     train_loss, train_acc \u001b[38;5;241m=\u001b[39m train(training_config, model, optimizer, train_loader, epoch \u001b[38;5;241m+\u001b[39m \u001b[38;5;241m1\u001b[39m, NUM_EPOCHS, adj\u001b[38;5;241m=\u001b[39madj)\n\u001b[0;32m     55\u001b[0m     val_loss, val_accuracy \u001b[38;5;241m=\u001b[39m validate(training_config, model, valid_loader, epoch \u001b[38;5;241m+\u001b[39m \u001b[38;5;241m1\u001b[39m, NUM_EPOCHS, adj\u001b[38;5;241m=\u001b[39madj)\n\u001b[0;32m     57\u001b[0m     epoch_train_loss\u001b[38;5;241m.\u001b[39mappend(train_loss)\n",
      "File \u001b[1;32md:\\Code\\msc-project\\notebooks\\..\\src\\models\\train.py:34\u001b[0m, in \u001b[0;36mtrain\u001b[1;34m(train_config, model, optimizer, train_loader, epoch_idx, total_epochs, adj)\u001b[0m\n\u001b[0;32m     31\u001b[0m prog_bar \u001b[38;5;241m=\u001b[39m tqdm(train_loader, bar_format\u001b[38;5;241m=\u001b[39m\u001b[38;5;124m\"\u001b[39m\u001b[38;5;132;01m{l_bar}\u001b[39;00m\u001b[38;5;132;01m{bar:10}\u001b[39;00m\u001b[38;5;132;01m{r_bar}\u001b[39;00m\u001b[38;5;132;01m{bar:-10b}\u001b[39;00m\u001b[38;5;124m\"\u001b[39m)\n\u001b[0;32m     32\u001b[0m prog_bar\u001b[38;5;241m.\u001b[39mset_description(status)\n\u001b[1;32m---> 34\u001b[0m \u001b[38;5;28;01mfor\u001b[39;00m data \u001b[38;5;129;01min\u001b[39;00m prog_bar:\n\u001b[0;32m     35\u001b[0m     \u001b[38;5;66;03m# send data to appropriate device.\u001b[39;00m\n\u001b[0;32m     36\u001b[0m     anchor, positive, negative \u001b[38;5;241m=\u001b[39m data[\u001b[38;5;241m0\u001b[39m]\u001b[38;5;241m.\u001b[39mto(device), data[\u001b[38;5;241m1\u001b[39m]\u001b[38;5;241m.\u001b[39mto(device), data[\u001b[38;5;241m2\u001b[39m]\u001b[38;5;241m.\u001b[39mto(device)\n\u001b[0;32m     38\u001b[0m     \u001b[38;5;66;03m# reset parameters gradient to zero.\u001b[39;00m\n",
      "File \u001b[1;32mc:\\Users\\hgnis\\anaconda3\\Lib\\site-packages\\tqdm\\std.py:1178\u001b[0m, in \u001b[0;36mtqdm.__iter__\u001b[1;34m(self)\u001b[0m\n\u001b[0;32m   1175\u001b[0m time \u001b[38;5;241m=\u001b[39m \u001b[38;5;28mself\u001b[39m\u001b[38;5;241m.\u001b[39m_time\n\u001b[0;32m   1177\u001b[0m \u001b[38;5;28;01mtry\u001b[39;00m:\n\u001b[1;32m-> 1178\u001b[0m     \u001b[38;5;28;01mfor\u001b[39;00m obj \u001b[38;5;129;01min\u001b[39;00m iterable:\n\u001b[0;32m   1179\u001b[0m         \u001b[38;5;28;01myield\u001b[39;00m obj\n\u001b[0;32m   1180\u001b[0m         \u001b[38;5;66;03m# Update and possibly print the progressbar.\u001b[39;00m\n\u001b[0;32m   1181\u001b[0m         \u001b[38;5;66;03m# Note: does not call self.update(1) for speed optimisation.\u001b[39;00m\n",
      "File \u001b[1;32mc:\\Users\\hgnis\\anaconda3\\Lib\\site-packages\\torch\\utils\\data\\dataloader.py:631\u001b[0m, in \u001b[0;36m_BaseDataLoaderIter.__next__\u001b[1;34m(self)\u001b[0m\n\u001b[0;32m    628\u001b[0m \u001b[38;5;28;01mif\u001b[39;00m \u001b[38;5;28mself\u001b[39m\u001b[38;5;241m.\u001b[39m_sampler_iter \u001b[38;5;129;01mis\u001b[39;00m \u001b[38;5;28;01mNone\u001b[39;00m:\n\u001b[0;32m    629\u001b[0m     \u001b[38;5;66;03m# TODO(https://github.com/pytorch/pytorch/issues/76750)\u001b[39;00m\n\u001b[0;32m    630\u001b[0m     \u001b[38;5;28mself\u001b[39m\u001b[38;5;241m.\u001b[39m_reset()  \u001b[38;5;66;03m# type: ignore[call-arg]\u001b[39;00m\n\u001b[1;32m--> 631\u001b[0m data \u001b[38;5;241m=\u001b[39m \u001b[38;5;28mself\u001b[39m\u001b[38;5;241m.\u001b[39m_next_data()\n\u001b[0;32m    632\u001b[0m \u001b[38;5;28mself\u001b[39m\u001b[38;5;241m.\u001b[39m_num_yielded \u001b[38;5;241m+\u001b[39m\u001b[38;5;241m=\u001b[39m \u001b[38;5;241m1\u001b[39m\n\u001b[0;32m    633\u001b[0m \u001b[38;5;28;01mif\u001b[39;00m \u001b[38;5;28mself\u001b[39m\u001b[38;5;241m.\u001b[39m_dataset_kind \u001b[38;5;241m==\u001b[39m _DatasetKind\u001b[38;5;241m.\u001b[39mIterable \u001b[38;5;129;01mand\u001b[39;00m \\\n\u001b[0;32m    634\u001b[0m         \u001b[38;5;28mself\u001b[39m\u001b[38;5;241m.\u001b[39m_IterableDataset_len_called \u001b[38;5;129;01mis\u001b[39;00m \u001b[38;5;129;01mnot\u001b[39;00m \u001b[38;5;28;01mNone\u001b[39;00m \u001b[38;5;129;01mand\u001b[39;00m \\\n\u001b[0;32m    635\u001b[0m         \u001b[38;5;28mself\u001b[39m\u001b[38;5;241m.\u001b[39m_num_yielded \u001b[38;5;241m>\u001b[39m \u001b[38;5;28mself\u001b[39m\u001b[38;5;241m.\u001b[39m_IterableDataset_len_called:\n",
      "File \u001b[1;32mc:\\Users\\hgnis\\anaconda3\\Lib\\site-packages\\torch\\utils\\data\\dataloader.py:675\u001b[0m, in \u001b[0;36m_SingleProcessDataLoaderIter._next_data\u001b[1;34m(self)\u001b[0m\n\u001b[0;32m    673\u001b[0m \u001b[38;5;28;01mdef\u001b[39;00m \u001b[38;5;21m_next_data\u001b[39m(\u001b[38;5;28mself\u001b[39m):\n\u001b[0;32m    674\u001b[0m     index \u001b[38;5;241m=\u001b[39m \u001b[38;5;28mself\u001b[39m\u001b[38;5;241m.\u001b[39m_next_index()  \u001b[38;5;66;03m# may raise StopIteration\u001b[39;00m\n\u001b[1;32m--> 675\u001b[0m     data \u001b[38;5;241m=\u001b[39m \u001b[38;5;28mself\u001b[39m\u001b[38;5;241m.\u001b[39m_dataset_fetcher\u001b[38;5;241m.\u001b[39mfetch(index)  \u001b[38;5;66;03m# may raise StopIteration\u001b[39;00m\n\u001b[0;32m    676\u001b[0m     \u001b[38;5;28;01mif\u001b[39;00m \u001b[38;5;28mself\u001b[39m\u001b[38;5;241m.\u001b[39m_pin_memory:\n\u001b[0;32m    677\u001b[0m         data \u001b[38;5;241m=\u001b[39m _utils\u001b[38;5;241m.\u001b[39mpin_memory\u001b[38;5;241m.\u001b[39mpin_memory(data, \u001b[38;5;28mself\u001b[39m\u001b[38;5;241m.\u001b[39m_pin_memory_device)\n",
      "File \u001b[1;32mc:\\Users\\hgnis\\anaconda3\\Lib\\site-packages\\torch\\utils\\data\\_utils\\fetch.py:51\u001b[0m, in \u001b[0;36m_MapDatasetFetcher.fetch\u001b[1;34m(self, possibly_batched_index)\u001b[0m\n\u001b[0;32m     49\u001b[0m         data \u001b[38;5;241m=\u001b[39m \u001b[38;5;28mself\u001b[39m\u001b[38;5;241m.\u001b[39mdataset\u001b[38;5;241m.\u001b[39m__getitems__(possibly_batched_index)\n\u001b[0;32m     50\u001b[0m     \u001b[38;5;28;01melse\u001b[39;00m:\n\u001b[1;32m---> 51\u001b[0m         data \u001b[38;5;241m=\u001b[39m [\u001b[38;5;28mself\u001b[39m\u001b[38;5;241m.\u001b[39mdataset[idx] \u001b[38;5;28;01mfor\u001b[39;00m idx \u001b[38;5;129;01min\u001b[39;00m possibly_batched_index]\n\u001b[0;32m     52\u001b[0m \u001b[38;5;28;01melse\u001b[39;00m:\n\u001b[0;32m     53\u001b[0m     data \u001b[38;5;241m=\u001b[39m \u001b[38;5;28mself\u001b[39m\u001b[38;5;241m.\u001b[39mdataset[possibly_batched_index]\n",
      "File \u001b[1;32mc:\\Users\\hgnis\\anaconda3\\Lib\\site-packages\\torch\\utils\\data\\_utils\\fetch.py:51\u001b[0m, in \u001b[0;36m<listcomp>\u001b[1;34m(.0)\u001b[0m\n\u001b[0;32m     49\u001b[0m         data \u001b[38;5;241m=\u001b[39m \u001b[38;5;28mself\u001b[39m\u001b[38;5;241m.\u001b[39mdataset\u001b[38;5;241m.\u001b[39m__getitems__(possibly_batched_index)\n\u001b[0;32m     50\u001b[0m     \u001b[38;5;28;01melse\u001b[39;00m:\n\u001b[1;32m---> 51\u001b[0m         data \u001b[38;5;241m=\u001b[39m [\u001b[38;5;28mself\u001b[39m\u001b[38;5;241m.\u001b[39mdataset[idx] \u001b[38;5;28;01mfor\u001b[39;00m idx \u001b[38;5;129;01min\u001b[39;00m possibly_batched_index]\n\u001b[0;32m     52\u001b[0m \u001b[38;5;28;01melse\u001b[39;00m:\n\u001b[0;32m     53\u001b[0m     data \u001b[38;5;241m=\u001b[39m \u001b[38;5;28mself\u001b[39m\u001b[38;5;241m.\u001b[39mdataset[possibly_batched_index]\n",
      "File \u001b[1;32md:\\Code\\msc-project\\notebooks\\..\\src\\data\\dataset.py:109\u001b[0m, in \u001b[0;36mAudioTripletDataset.__getitem__\u001b[1;34m(self, idx)\u001b[0m\n\u001b[0;32m    107\u001b[0m \u001b[38;5;28;01mdef\u001b[39;00m \u001b[38;5;21m__getitem__\u001b[39m(\u001b[38;5;28mself\u001b[39m, idx):\n\u001b[0;32m    108\u001b[0m     anchor_idx, positive_idx, negative_idx \u001b[38;5;241m=\u001b[39m \u001b[38;5;28mself\u001b[39m\u001b[38;5;241m.\u001b[39mtriplets[idx]\n\u001b[1;32m--> 109\u001b[0m     anchor \u001b[38;5;241m=\u001b[39m \u001b[38;5;28mself\u001b[39m\u001b[38;5;241m.\u001b[39mdataset[anchor_idx][\u001b[38;5;241m0\u001b[39m]\n\u001b[0;32m    110\u001b[0m     positive \u001b[38;5;241m=\u001b[39m \u001b[38;5;28mself\u001b[39m\u001b[38;5;241m.\u001b[39mdataset[positive_idx][\u001b[38;5;241m0\u001b[39m]\n\u001b[0;32m    111\u001b[0m     negative \u001b[38;5;241m=\u001b[39m \u001b[38;5;28mself\u001b[39m\u001b[38;5;241m.\u001b[39mdataset[negative_idx][\u001b[38;5;241m0\u001b[39m]\n",
      "\u001b[1;31mIndexError\u001b[0m: list index out of range"
     ]
    }
   ],
   "source": [
    "# Train and Validate\n",
    "train_loss, train_acc, val_loss, val_acc = main(\n",
    "    model,\n",
    "    (train_loader, valid_loader),\n",
    "    summary_writer=summary_writer,\n",
    "    scheduler=None,\n",
    "    system_config=SystemConfig(),\n",
    "    training_config=training_config,\n",
    "    data_augmentation=False,\n",
    ")"
   ]
  },
  {
   "cell_type": "code",
   "execution_count": 13,
   "metadata": {},
   "outputs": [
    {
     "ename": "",
     "evalue": "",
     "output_type": "error",
     "traceback": [
      "\u001b[1;31mThe Kernel crashed while executing code in the current cell or a previous cell. \n",
      "\u001b[1;31mPlease review the code in the cell(s) to identify a possible cause of the failure. \n",
      "\u001b[1;31mClick <a href='https://aka.ms/vscodeJupyterKernelCrash'>here</a> for more info. \n",
      "\u001b[1;31mView Jupyter <a href='command:jupyter.viewOutput'>log</a> for further details."
     ]
    }
   ],
   "source": [
    "plot_loss_accuracy(\n",
    "    train_loss=[train_loss],\n",
    "    val_loss=[val_loss],\n",
    "    train_acc=[train_acc],\n",
    "    val_acc=[val_acc],\n",
    "    colors=[\"blue\"],\n",
    "    loss_legend_loc=\"upper center\",\n",
    "    acc_legend_loc=\"upper left\",\n",
    ")"
   ]
  },
  {
   "cell_type": "markdown",
   "metadata": {},
   "source": [
    "### Landmark Model"
   ]
  },
  {
   "cell_type": "code",
   "execution_count": 30,
   "metadata": {},
   "outputs": [],
   "source": [
    "# create dataloaders\n",
    "train_loader = DataLoader(train_landmark_triplet_dataset, batch_size=32, shuffle=True)\n",
    "valid_loader = DataLoader(valid_landmark_triplet_dataset, batch_size=32, shuffle=False)\n",
    "graph = Graph()\n",
    "adj_matrix = torch.tensor(graph.A, dtype=torch.float32)"
   ]
  },
  {
   "cell_type": "code",
   "execution_count": 31,
   "metadata": {},
   "outputs": [
    {
     "name": "stdout",
     "output_type": "stream",
     "text": [
      "SiameseModel(\n",
      "  (siamese_network): STGCN(\n",
      "    (temporal_conv1): Conv2d(3, 64, kernel_size=(3, 1), stride=(1, 1))\n",
      "    (graph_conv1): GraphConvLayer(\n",
      "      (fc): Linear(in_features=64, out_features=32, bias=True)\n",
      "    )\n",
      "    (temporal_conv2): Conv2d(32, 64, kernel_size=(3, 1), stride=(1, 1))\n",
      "  )\n",
      ")\n",
      "Logging at: ..\\output\\Logs_Checkpoints\\Model_logs\\version_13\n",
      "Model Checkpoint at: ..\\output\\Logs_Checkpoints\\Model_checkpoints\\version_13\n"
     ]
    }
   ],
   "source": [
    "# train model\n",
    "model = landmark_model()\n",
    "print(model)\n",
    "\n",
    "training_config = TrainingConfig()\n",
    "\n",
    "# Model checkpoint log dir setup.\n",
    "training_config, current_version_name = setup_log_directory(training_config)\n",
    "\n",
    "# Tensorboard log dir setup.\n",
    "summary_writer = SummaryWriter(training_config.log_dir)"
   ]
  },
  {
   "cell_type": "code",
   "execution_count": null,
   "metadata": {},
   "outputs": [],
   "source": [
    "# Train and Validate\n",
    "train_loss, train_acc, val_loss, val_acc = main(\n",
    "    model,\n",
    "    (train_loader, valid_loader),\n",
    "    summary_writer=summary_writer,\n",
    "    scheduler=None,\n",
    "    system_config=SystemConfig(),\n",
    "    training_config=training_config,\n",
    "    data_augmentation=False,\n",
    "    adj=adj_matrix,\n",
    ")"
   ]
  },
  {
   "cell_type": "code",
   "execution_count": null,
   "metadata": {},
   "outputs": [],
   "source": [
    "plot_loss_accuracy(\n",
    "    train_loss=[train_loss],\n",
    "    val_loss=[val_loss],\n",
    "    train_acc=[train_acc],\n",
    "    val_acc=[val_acc],\n",
    "    colors=[\"blue\"],\n",
    "    loss_legend_loc=\"upper center\",\n",
    "    acc_legend_loc=\"upper left\",\n",
    ")"
   ]
  },
  {
   "cell_type": "markdown",
   "metadata": {},
   "source": [
    "### Combined model"
   ]
  },
  {
   "cell_type": "code",
   "execution_count": 39,
   "metadata": {},
   "outputs": [],
   "source": [
    "# dataloaders\n",
    "train_loader = DataLoader(train_AL_triplets, batch_size=32, shuffle=True)\n",
    "valid_loader = DataLoader(valid_AL_triplets, batch_size=32, shuffle=False)\n",
    "audio_data_shape = (250, 400) # 250 frames, 400 features\n",
    "graph = Graph()\n",
    "adj_matrix = torch.tensor(graph.A, dtype=torch.float32)"
   ]
  },
  {
   "cell_type": "code",
   "execution_count": 40,
   "metadata": {},
   "outputs": [
    {
     "name": "stdout",
     "output_type": "stream",
     "text": [
      "CombinedSiameseNetwork(\n",
      "  (audio_network): LSTM(\n",
      "    (lstm): LSTM(400, 64, batch_first=True)\n",
      "    (attention): Linear(in_features=64, out_features=1, bias=True)\n",
      "    (flatten): Flatten(start_dim=1, end_dim=-1)\n",
      "    (dense1): Linear(in_features=64, out_features=128, bias=True)\n",
      "    (dense2): Linear(in_features=128, out_features=64, bias=True)\n",
      "    (dense3): Linear(in_features=64, out_features=32, bias=True)\n",
      "  )\n",
      "  (landmarks_network): STGCN(\n",
      "    (temporal_conv1): Conv2d(3, 64, kernel_size=(3, 1), stride=(1, 1))\n",
      "    (graph_conv1): GraphConvLayer(\n",
      "      (fc): Linear(in_features=64, out_features=32, bias=True)\n",
      "    )\n",
      "    (temporal_conv2): Conv2d(32, 64, kernel_size=(3, 1), stride=(1, 1))\n",
      "  )\n",
      "  (fc): Linear(in_features=64, out_features=32, bias=True)\n",
      ")\n",
      "Logging at: ..\\output\\Logs_Checkpoints\\Model_logs\\version_14\n",
      "Model Checkpoint at: ..\\output\\Logs_Checkpoints\\Model_checkpoints\\version_14\n"
     ]
    }
   ],
   "source": [
    "# train model\n",
    "model = combined_model(audio_data_shape)\n",
    "print(model)\n",
    "\n",
    "training_config = TrainingConfig()\n",
    "\n",
    "# Model checkpoint log dir setup.\n",
    "training_config, current_version_name = setup_log_directory(training_config)\n",
    "\n",
    "# Tensorboard log dir setup.\n",
    "summary_writer = SummaryWriter(training_config.log_dir)"
   ]
  },
  {
   "cell_type": "code",
   "execution_count": null,
   "metadata": {},
   "outputs": [],
   "source": [
    "# Train and Validate\n",
    "train_loss, train_acc, val_loss, val_acc = main(\n",
    "    model,\n",
    "    (train_loader, valid_loader),\n",
    "    summary_writer=summary_writer,\n",
    "    scheduler=None,\n",
    "    system_config=SystemConfig(),\n",
    "    training_config=training_config,\n",
    "    data_augmentation=False,\n",
    "    adj=adj_matrix,\n",
    ")"
   ]
  },
  {
   "cell_type": "code",
   "execution_count": null,
   "metadata": {},
   "outputs": [],
   "source": [
    "plot_loss_accuracy(\n",
    "    train_loss=[train_loss],\n",
    "    val_loss=[val_loss],\n",
    "    train_acc=[train_acc],\n",
    "    val_acc=[val_acc],\n",
    "    colors=[\"blue\"],\n",
    "    loss_legend_loc=\"upper center\",\n",
    "    acc_legend_loc=\"upper left\",\n",
    ")"
   ]
  },
  {
   "cell_type": "markdown",
   "metadata": {},
   "source": [
    "### Testing"
   ]
  },
  {
   "cell_type": "code",
   "execution_count": null,
   "metadata": {},
   "outputs": [],
   "source": [
    "# code for testing goes here - TBD"
   ]
  }
 ],
 "metadata": {
  "kernelspec": {
   "display_name": "base",
   "language": "python",
   "name": "python3"
  },
  "language_info": {
   "codemirror_mode": {
    "name": "ipython",
    "version": 3
   },
   "file_extension": ".py",
   "mimetype": "text/x-python",
   "name": "python",
   "nbconvert_exporter": "python",
   "pygments_lexer": "ipython3",
   "version": "3.11.5"
  }
 },
 "nbformat": 4,
 "nbformat_minor": 2
}
