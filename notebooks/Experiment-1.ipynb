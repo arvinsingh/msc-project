{
 "cells": [
  {
   "cell_type": "code",
   "execution_count": null,
   "metadata": {},
   "outputs": [],
   "source": [
    "from src.features.mfcc import *\n"
   ]
  },
  {
   "cell_type": "code",
   "execution_count": null,
   "metadata": {},
   "outputs": [],
   "source": [
    "# Define the window size and hop size in seconds\n",
    "window_size = 0.025  # 25 milliseconds\n",
    "hop_size = 0.010  # 10 milliseconds\n",
    "\n",
    "# Calculate win_length based on the window_size and sample_rate\n",
    "sample_rate = 16000\n",
    "win_length = int(window_size * sample_rate)"
   ]
  },
  {
   "cell_type": "code",
   "execution_count": null,
   "metadata": {},
   "outputs": [],
   "source": [
    "# Load the data\n",
    "root_directory = 'data/raw/Audios/wav'\n",
    "label_to_index = {'Fluent': 0, 'NonFluent': 1}\n",
    "\n",
    "dataset = AudioFrameDataset(root_directory, label_to_index)\n"
   ]
  }
 ],
 "metadata": {
  "language_info": {
   "name": "python"
  }
 },
 "nbformat": 4,
 "nbformat_minor": 2
}
