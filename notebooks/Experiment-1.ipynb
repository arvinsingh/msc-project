{
 "cells": [
  {
   "cell_type": "markdown",
   "metadata": {},
   "source": [
    "### Imports"
   ]
  },
  {
   "cell_type": "code",
   "execution_count": 1,
   "metadata": {},
   "outputs": [],
   "source": [
    "import sys\n",
    "import os\n",
    "sys.path.append(\"..\\\\\")\n",
    "from src.features import mfcc"
   ]
  },
  {
   "cell_type": "code",
   "execution_count": 2,
   "metadata": {},
   "outputs": [],
   "source": [
    "# Define the window size and hop size in seconds\n",
    "window_size = 0.025  # 25 milliseconds\n",
    "hop_size = 0.010  # 10 milliseconds\n",
    "\n",
    "# Calculate win_length based on the window_size and sample_rate\n",
    "sample_rate = 16000\n",
    "win_length = int(window_size * sample_rate)"
   ]
  },
  {
   "cell_type": "code",
   "execution_count": 12,
   "metadata": {},
   "outputs": [],
   "source": [
    "# Essential directories\n",
    "root_directory = '..\\\\data\\\\raw\\\\audio_classified\\\\'\n",
    "target_dir = '..\\\\data\\\\processed\\\\'\n",
    "label_to_index = {'Fluent': 0, 'Nonfluent': 1}\n"
   ]
  },
  {
   "cell_type": "markdown",
   "metadata": {},
   "source": [
    "## Audio feature extraction"
   ]
  },
  {
   "cell_type": "markdown",
   "metadata": {},
   "source": [
    "### Load data"
   ]
  },
  {
   "cell_type": "code",
   "execution_count": 4,
   "metadata": {},
   "outputs": [
    {
     "name": "stderr",
     "output_type": "stream",
     "text": [
      "c:\\Users\\hgnis\\anaconda3\\Lib\\site-packages\\torchaudio\\functional\\functional.py:584: UserWarning: At least one mel filterbank has all zero values. The value for `n_mels` (128) may be set too high. Or, the value for `n_freqs` (201) may be set too low.\n",
      "  warnings.warn(\n"
     ]
    }
   ],
   "source": [
    "# load & generate MFCC features\n",
    "dataloader = mfcc.get_dataloader(root_directory, label_to_index)"
   ]
  },
  {
   "cell_type": "markdown",
   "metadata": {},
   "source": [
    "#### Save processed dataset in pickle file"
   ]
  },
  {
   "cell_type": "code",
   "execution_count": 5,
   "metadata": {},
   "outputs": [],
   "source": [
    "if not os.path.exists(target_dir):\n",
    "    os.makedirs(target_dir)\n",
    "\n",
    "mfcc.save_mfcc_features(dataloader, target_dir)"
   ]
  },
  {
   "cell_type": "markdown",
   "metadata": {},
   "source": [
    "### Load processed dataset"
   ]
  },
  {
   "cell_type": "code",
   "execution_count": 6,
   "metadata": {},
   "outputs": [
    {
     "name": "stdout",
     "output_type": "stream",
     "text": [
      "Features shape: (350, 1, 250, 400),\n",
      "       Labels shape: (350,),\n",
      "       Number of classes: {0, 1},\n",
      "       Number of samples: 350\n"
     ]
    }
   ],
   "source": [
    "features, labels = mfcc.load_mfcc_features(target_dir)\n",
    "print(f\"Features shape: {features.shape},\\n \\\n",
    "      Labels shape: {labels.shape},\\n \\\n",
    "      Number of classes: {len(set(labels))},\\n \\\n",
    "      Number of samples: {len(features)}\")"
   ]
  },
  {
   "cell_type": "markdown",
   "metadata": {},
   "source": [
    "### Train-test split"
   ]
  },
  {
   "cell_type": "code",
   "execution_count": 8,
   "metadata": {},
   "outputs": [],
   "source": [
    "# Imports\n",
    "import numpy as np\n",
    "from sklearn.model_selection import train_test_split\n",
    "from sklearn.preprocessing import LabelEncoder\n",
    "from src.features.triplets import *\n",
    "\n",
    "seed = 42"
   ]
  },
  {
   "cell_type": "code",
   "execution_count": 9,
   "metadata": {},
   "outputs": [
    {
     "name": "stdout",
     "output_type": "stream",
     "text": [
      "       Train set: (280, 1, 250, 400) \n",
      "       Train label: (280,) \n",
      "       Validation set: (35, 1, 250, 400) \n",
      "       Validation label: (35,) \n",
      "       Test set: (35, 1, 250, 400) \n",
      "       Test label: (35,) \n",
      "       \n"
     ]
    }
   ],
   "source": [
    "# Normalize feature matrix\n",
    "mean = np.mean(features, axis=0)\n",
    "std = np.std(features, axis=0)\n",
    "# normalized_features = (all_features - mean) / std\n",
    "normalized_features = (features - mean) / (std + 1e-8)  # Add a small epsilon to prevent division by zero\n",
    "\n",
    "# Encode class labels as integers\n",
    "label_encoder = LabelEncoder()\n",
    "labels_encoded = label_encoder.fit_transform(labels)\n",
    "\n",
    "# Split the data into training, validation, and test sets\n",
    "X_train, x_temp, Y_train, y_temp = train_test_split(normalized_features, labels_encoded, test_size=0.2, random_state=seed)\n",
    "X_val, X_test, Y_val, Y_test = train_test_split(x_temp, y_temp, test_size=0.5, random_state=seed)\n",
    "\n",
    "print(f\" \\\n",
    "      Train set: {X_train.shape} \\n \\\n",
    "      Train label: {Y_train.shape} \\n \\\n",
    "      Validation set: {X_val.shape} \\n \\\n",
    "      Validation label: {Y_val.shape} \\n \\\n",
    "      Test set: {X_test.shape} \\n \\\n",
    "      Test label: {Y_test.shape} \\n \\\n",
    "\")"
   ]
  },
  {
   "cell_type": "markdown",
   "metadata": {},
   "source": [
    "### Generate Triplets"
   ]
  },
  {
   "cell_type": "code",
   "execution_count": 10,
   "metadata": {},
   "outputs": [],
   "source": [
    "# Generate triplets for training\n",
    "train_triplets, train_labels = generate_triplets(X_train, Y_train)\n",
    "\n",
    "# NOTE: Size ~ 1.1GB\n",
    "\n",
    "# For validation & test set | Probably unnecessary\n",
    "val_triplets, val_labels = generate_triplets(X_val, Y_val)\n",
    "test_triplets, test_labels = generate_triplets(X_test, Y_test)"
   ]
  },
  {
   "cell_type": "markdown",
   "metadata": {},
   "source": [
    "#### Save Triplets"
   ]
  },
  {
   "cell_type": "code",
   "execution_count": null,
   "metadata": {},
   "outputs": [],
   "source": [
    "# NOTE: Modify functions if I figure out val and test triplets are unnecessary.\n",
    "save_triplets(\n",
    "    (\n",
    "        train_triplets, \n",
    "        train_labels,\n",
    "        val_triplets,\n",
    "        val_labels,\n",
    "        test_triplets,\n",
    "        test_labels\n",
    "    ),\n",
    "    target_dir\n",
    ")"
   ]
  },
  {
   "cell_type": "markdown",
   "metadata": {},
   "source": [
    "#### Load Triplets"
   ]
  },
  {
   "cell_type": "code",
   "execution_count": null,
   "metadata": {},
   "outputs": [],
   "source": [
    "# NOTE: Looks clumsy with too many variables to unpack\n",
    "train_triplets, train_labels, val_triplets, val_labels, test_triplets, test_labels = load_triplets()"
   ]
  },
  {
   "cell_type": "markdown",
   "metadata": {},
   "source": [
    "## Initializing Deep Learning network"
   ]
  },
  {
   "cell_type": "code",
   "execution_count": null,
   "metadata": {},
   "outputs": [],
   "source": [
    "# imports\n",
    "from dataclasses import dataclass\n",
    "import torch\n"
   ]
  },
  {
   "cell_type": "code",
   "execution_count": null,
   "metadata": {},
   "outputs": [],
   "source": [
    "@dataclass\n",
    "class TrainingConfig:\n",
    "    \"\"\"\n",
    "    Describes configuration of the training process\n",
    "    \"\"\"\n",
    "\n",
    "    num_classes: int = 3\n",
    "    batch_size: int = 16\n",
    "    img_size: Tuple = (224, 224)\n",
    "    epochs_count: int = 300\n",
    "    init_learning_rate: float = 0.001 # Initial learning rate\n",
    "    data_root: str = r\"/kaggle/input/opencv-pytorch-project-1-classification/dataset\"\n",
    "    num_workers: int = 2\n",
    "    device: str = \"cuda\"\n",
    "        \n",
    "    # Decay rate\n",
    "    decay_rate: float = 0.1\n",
    "\n",
    "    # For tensorboard logging and saving checkpoints\n",
    "    save_model_name: str = \"cat_dog_panda_classifier.pt\"\n",
    "    root_log_dir: str = os.path.join(\"Logs_Checkpoints\", \"Model_logs\")\n",
    "    root_checkpoint_dir: str = os.path.join(\"Logs_Checkpoints\", \"Model_checkpoints\")\n",
    "\n",
    "    # Current log and checkpoint directory.\n",
    "    log_dir: str = \"version_0\"\n",
    "    checkpoint_dir: str = \"version_0\""
   ]
  },
  {
   "cell_type": "code",
   "execution_count": null,
   "metadata": {},
   "outputs": [],
   "source": [
    "def setup_system(system_config: SystemConfig) -> None:\n",
    "    torch.manual_seed(system_config.seed)\n",
    "    if torch.cuda.is_available():\n",
    "        torch.backends.cudnn_benchmark_enabled = system_config.cudnn_benchmark_enabled\n",
    "        torch.backends.cudnn.deterministic = system_config.cudnn_deterministic"
   ]
  },
  {
   "cell_type": "code",
   "execution_count": null,
   "metadata": {},
   "outputs": [],
   "source": [
    "@dataclass\n",
    "class SystemConfig:\n",
    "    \"\"\"\n",
    "    Describes the common system setting needed for reproducible training\n",
    "    \"\"\"\n",
    "\n",
    "    seed: int = 21  # Seed number to set the state of all random number generators\n",
    "    cudnn_benchmark_enabled: bool = True  # Enable CuDNN benchmark for the sake of performance\n",
    "    cudnn_deterministic: bool = True  # Make cudnn deterministic (reproducible training)\n"
   ]
  },
  {
   "cell_type": "code",
   "execution_count": null,
   "metadata": {},
   "outputs": [],
   "source": [
    "# imports\n",
    "from src.models import train, validate, test"
   ]
  },
  {
   "cell_type": "code",
   "execution_count": null,
   "metadata": {},
   "outputs": [],
   "source": [
    "train()"
   ]
  },
  {
   "cell_type": "code",
   "execution_count": null,
   "metadata": {},
   "outputs": [],
   "source": [
    "validate()"
   ]
  },
  {
   "cell_type": "code",
   "execution_count": null,
   "metadata": {},
   "outputs": [],
   "source": [
    "test()"
   ]
  }
 ],
 "metadata": {
  "kernelspec": {
   "display_name": "base",
   "language": "python",
   "name": "python3"
  },
  "language_info": {
   "codemirror_mode": {
    "name": "ipython",
    "version": 3
   },
   "file_extension": ".py",
   "mimetype": "text/x-python",
   "name": "python",
   "nbconvert_exporter": "python",
   "pygments_lexer": "ipython3",
   "version": "3.11.5"
  }
 },
 "nbformat": 4,
 "nbformat_minor": 2
}
